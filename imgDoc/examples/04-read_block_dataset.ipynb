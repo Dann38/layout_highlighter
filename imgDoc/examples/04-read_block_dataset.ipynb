{
 "cells": [
  {
   "cell_type": "code",
   "execution_count": 1,
   "id": "143732e2-91d8-48e4-9381-c5a7d82e010d",
   "metadata": {},
   "outputs": [],
   "source": [
    "from img_doc.extractors import TsPubLayNetExtractor\n",
    "import matplotlib.pyplot as plt"
   ]
  },
  {
   "cell_type": "code",
   "execution_count": 2,
   "id": "3b2a7408-0ab8-475b-a5db-145619b48157",
   "metadata": {},
   "outputs": [],
   "source": [
    "tspln_ext = TsPubLayNetExtractor()"
   ]
  },
  {
   "cell_type": "code",
   "execution_count": 3,
   "id": "3b95ec33-c0df-44cf-913f-08be072ba291",
   "metadata": {},
   "outputs": [
    {
     "ename": "KeyboardInterrupt",
     "evalue": "",
     "output_type": "error",
     "traceback": [
      "\u001b[0;31m---------------------------------------------------------------------------\u001b[0m",
      "\u001b[0;31mKeyboardInterrupt\u001b[0m                         Traceback (most recent call last)",
      "Cell \u001b[0;32mIn[3], line 1\u001b[0m\n\u001b[0;32m----> 1\u001b[0m docs \u001b[38;5;241m=\u001b[39m \u001b[43mtspln_ext\u001b[49m\u001b[38;5;241;43m.\u001b[39;49m\u001b[43mdataset_extractor\u001b[49m\u001b[43m(\u001b[49m\u001b[38;5;124;43m\"\u001b[39;49m\u001b[38;5;124;43m/home/daniil/program/dataset/mini_ts_publaynet/\u001b[39;49m\u001b[38;5;124;43m\"\u001b[39;49m\u001b[43m)\u001b[49m\n",
      "File \u001b[0;32m~/program/python/project/layout_highlighter/imgDoc/env/lib/python3.10/site-packages/img_doc/extractors/dataset_extractors/PubLayNet_extractor/publaynet_extractor.py:44\u001b[0m, in \u001b[0;36mPubLayNetExtractor.dataset_extractor\u001b[0;34m(self, path_dataset)\u001b[0m\n\u001b[1;32m     42\u001b[0m docs \u001b[38;5;241m=\u001b[39m [doc \u001b[38;5;28;01mfor\u001b[39;00m _, doc \u001b[38;5;129;01min\u001b[39;00m docs_dict\u001b[38;5;241m.\u001b[39mitems()]\n\u001b[1;32m     43\u001b[0m \u001b[38;5;28;01mfor\u001b[39;00m doc \u001b[38;5;129;01min\u001b[39;00m docs:\n\u001b[0;32m---> 44\u001b[0m     \u001b[38;5;28;43mself\u001b[39;49m\u001b[38;5;241;43m.\u001b[39;49m\u001b[43mextract\u001b[49m\u001b[43m(\u001b[49m\u001b[43mdoc\u001b[49m\u001b[43m)\u001b[49m\n\u001b[1;32m     45\u001b[0m \u001b[38;5;28;01mreturn\u001b[39;00m docs\n\u001b[1;32m     46\u001b[0m \u001b[38;5;28;01mpass\u001b[39;00m\n",
      "File \u001b[0;32m~/program/python/project/layout_highlighter/imgDoc/env/lib/python3.10/site-packages/img_doc/extractors/dataset_extractors/PubLayNet_extractor/ts_publaynet_extractor.py:18\u001b[0m, in \u001b[0;36mTsPubLayNetExtractor.extract\u001b[0;34m(self, doc)\u001b[0m\n\u001b[1;32m     16\u001b[0m \u001b[38;5;28;01mfor\u001b[39;00m word \u001b[38;5;129;01min\u001b[39;00m doc\u001b[38;5;241m.\u001b[39mpages[\u001b[38;5;241m0\u001b[39m]\u001b[38;5;241m.\u001b[39mwords:\n\u001b[1;32m     17\u001b[0m     \u001b[38;5;28;01mfor\u001b[39;00m block \u001b[38;5;129;01min\u001b[39;00m doc\u001b[38;5;241m.\u001b[39mpages[\u001b[38;5;241m0\u001b[39m]\u001b[38;5;241m.\u001b[39mblocks:\n\u001b[0;32m---> 18\u001b[0m         \u001b[38;5;28;01mif\u001b[39;00m \u001b[43mblock\u001b[49m\u001b[38;5;241;43m.\u001b[39;49m\u001b[43msegment\u001b[49m\u001b[38;5;241;43m.\u001b[39;49m\u001b[43mis_intersection\u001b[49m\u001b[43m(\u001b[49m\u001b[43mword\u001b[49m\u001b[38;5;241;43m.\u001b[39;49m\u001b[43msegment\u001b[49m\u001b[43m)\u001b[49m:\n\u001b[1;32m     19\u001b[0m             block\u001b[38;5;241m.\u001b[39mwords\u001b[38;5;241m.\u001b[39mappend(word)\n",
      "File \u001b[0;32m~/program/python/project/layout_highlighter/imgDoc/env/lib/python3.10/site-packages/img_doc/document/data_structures/page/data_structures/image/image_segment.py:81\u001b[0m, in \u001b[0;36mImageSegment.is_intersection\u001b[0;34m(self, seg)\u001b[0m\n\u001b[1;32m     70\u001b[0m \u001b[38;5;28;01mdef\u001b[39;00m \u001b[38;5;21mis_intersection\u001b[39m(\u001b[38;5;28mself\u001b[39m, seg):\n\u001b[1;32m     71\u001b[0m     points1 \u001b[38;5;241m=\u001b[39m [(seg\u001b[38;5;241m.\u001b[39mx_top_left, seg\u001b[38;5;241m.\u001b[39my_top_left),\n\u001b[1;32m     72\u001b[0m                (seg\u001b[38;5;241m.\u001b[39mx_top_left, seg\u001b[38;5;241m.\u001b[39my_bottom_right),\n\u001b[1;32m     73\u001b[0m                (seg\u001b[38;5;241m.\u001b[39mx_bottom_right, seg\u001b[38;5;241m.\u001b[39my_top_left),\n\u001b[1;32m     74\u001b[0m                (seg\u001b[38;5;241m.\u001b[39mx_bottom_right, seg\u001b[38;5;241m.\u001b[39my_bottom_right),\n\u001b[1;32m     75\u001b[0m                seg\u001b[38;5;241m.\u001b[39mget_center()]\n\u001b[1;32m     77\u001b[0m     points2 \u001b[38;5;241m=\u001b[39m [(\u001b[38;5;28mself\u001b[39m\u001b[38;5;241m.\u001b[39mx_top_left, \u001b[38;5;28mself\u001b[39m\u001b[38;5;241m.\u001b[39my_top_left),\n\u001b[1;32m     78\u001b[0m                (\u001b[38;5;28mself\u001b[39m\u001b[38;5;241m.\u001b[39mx_top_left, \u001b[38;5;28mself\u001b[39m\u001b[38;5;241m.\u001b[39my_bottom_right),\n\u001b[1;32m     79\u001b[0m                (\u001b[38;5;28mself\u001b[39m\u001b[38;5;241m.\u001b[39mx_bottom_right, \u001b[38;5;28mself\u001b[39m\u001b[38;5;241m.\u001b[39my_top_left),\n\u001b[1;32m     80\u001b[0m                (\u001b[38;5;28mself\u001b[39m\u001b[38;5;241m.\u001b[39mx_bottom_right, \u001b[38;5;28mself\u001b[39m\u001b[38;5;241m.\u001b[39my_bottom_right),\n\u001b[0;32m---> 81\u001b[0m                \u001b[38;5;28;43mself\u001b[39;49m\u001b[38;5;241;43m.\u001b[39;49m\u001b[43mget_center\u001b[49m\u001b[43m(\u001b[49m\u001b[43m)\u001b[49m]\n\u001b[1;32m     83\u001b[0m     \u001b[38;5;28;01mfor\u001b[39;00m p \u001b[38;5;129;01min\u001b[39;00m points1:\n\u001b[1;32m     84\u001b[0m         \u001b[38;5;28;01mif\u001b[39;00m (\u001b[38;5;28mself\u001b[39m\u001b[38;5;241m.\u001b[39mx_top_left \u001b[38;5;241m<\u001b[39m p[\u001b[38;5;241m0\u001b[39m]) \u001b[38;5;129;01mand\u001b[39;00m (\u001b[38;5;28mself\u001b[39m\u001b[38;5;241m.\u001b[39mx_bottom_right \u001b[38;5;241m>\u001b[39m p[\u001b[38;5;241m0\u001b[39m]) \u001b[38;5;129;01mand\u001b[39;00m \\\n\u001b[1;32m     85\u001b[0m                 (\u001b[38;5;28mself\u001b[39m\u001b[38;5;241m.\u001b[39my_top_left \u001b[38;5;241m<\u001b[39m p[\u001b[38;5;241m1\u001b[39m]) \u001b[38;5;129;01mand\u001b[39;00m (\u001b[38;5;28mself\u001b[39m\u001b[38;5;241m.\u001b[39my_bottom_right \u001b[38;5;241m>\u001b[39m p[\u001b[38;5;241m1\u001b[39m]):\n",
      "File \u001b[0;32m~/program/python/project/layout_highlighter/imgDoc/env/lib/python3.10/site-packages/img_doc/document/data_structures/page/data_structures/image/image_segment.py:37\u001b[0m, in \u001b[0;36mImageSegment.get_center\u001b[0;34m(self)\u001b[0m\n\u001b[1;32m     36\u001b[0m \u001b[38;5;28;01mdef\u001b[39;00m \u001b[38;5;21mget_center\u001b[39m(\u001b[38;5;28mself\u001b[39m):\n\u001b[0;32m---> 37\u001b[0m     x_c \u001b[38;5;241m=\u001b[39m \u001b[38;5;28;43mround\u001b[39;49m\u001b[43m(\u001b[49m\u001b[43m(\u001b[49m\u001b[38;5;28;43mself\u001b[39;49m\u001b[38;5;241;43m.\u001b[39;49m\u001b[43mx_top_left\u001b[49m\u001b[43m \u001b[49m\u001b[38;5;241;43m+\u001b[39;49m\u001b[43m \u001b[49m\u001b[38;5;28;43mself\u001b[39;49m\u001b[38;5;241;43m.\u001b[39;49m\u001b[43mx_bottom_right\u001b[49m\u001b[43m)\u001b[49m\u001b[43m \u001b[49m\u001b[38;5;241;43m/\u001b[39;49m\u001b[43m \u001b[49m\u001b[38;5;241;43m2\u001b[39;49m\u001b[43m)\u001b[49m\n\u001b[1;32m     38\u001b[0m     y_c \u001b[38;5;241m=\u001b[39m \u001b[38;5;28mround\u001b[39m((\u001b[38;5;28mself\u001b[39m\u001b[38;5;241m.\u001b[39my_top_left \u001b[38;5;241m+\u001b[39m \u001b[38;5;28mself\u001b[39m\u001b[38;5;241m.\u001b[39my_bottom_right) \u001b[38;5;241m/\u001b[39m \u001b[38;5;241m2\u001b[39m)\n\u001b[1;32m     39\u001b[0m     \u001b[38;5;28;01mreturn\u001b[39;00m x_c, y_c\n",
      "\u001b[0;31mKeyboardInterrupt\u001b[0m: "
     ]
    }
   ],
   "source": [
    "# Долго\n",
    "docs = tspln_ext.dataset_extractor(\"/home/daniil/program/dataset/mini_ts_publaynet/\")"
   ]
  },
  {
   "cell_type": "code",
   "execution_count": null,
   "id": "555e2af3-1eb7-4819-830e-65282e2677b5",
   "metadata": {},
   "outputs": [],
   "source": [
    "doc = docs[0]\n",
    "doc.update_image_from_path(doc.path)\n",
    "page = doc.pages[0]\n"
   ]
  },
  {
   "cell_type": "code",
   "execution_count": null,
   "id": "a96ca9ba-85e2-49b7-bfbb-c1f5515ef0a9",
   "metadata": {},
   "outputs": [],
   "source": [
    "plt.figure(dpi=180)\n",
    "\n",
    "page.image.plot()\n",
    "for word in page.words:\n",
    "    word.segment.plot()"
   ]
  },
  {
   "cell_type": "code",
   "execution_count": null,
   "id": "af6be94f-5472-4971-8967-1550b49556f6",
   "metadata": {},
   "outputs": [],
   "source": [
    "plt.figure(dpi=180)\n",
    "\n",
    "page.image.plot()\n",
    "for word in page.blocks[0].words:\n",
    "    word.segment.plot()"
   ]
  },
  {
   "cell_type": "code",
   "execution_count": null,
   "id": "57574883-bad9-45fb-b445-671b586b18b3",
   "metadata": {},
   "outputs": [],
   "source": []
  }
 ],
 "metadata": {
  "kernelspec": {
   "display_name": "Python 3 (ipykernel)",
   "language": "python",
   "name": "python3"
  },
  "language_info": {
   "codemirror_mode": {
    "name": "ipython",
    "version": 3
   },
   "file_extension": ".py",
   "mimetype": "text/x-python",
   "name": "python",
   "nbconvert_exporter": "python",
   "pygments_lexer": "ipython3",
   "version": "3.10.12"
  }
 },
 "nbformat": 4,
 "nbformat_minor": 5
}
