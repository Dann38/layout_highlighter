{
 "cells": [
  {
   "cell_type": "code",
   "execution_count": 1,
   "id": "975db4d6-2524-4528-93d9-9120c2770220",
   "metadata": {},
   "outputs": [],
   "source": [
    "from img_doc.data_structures import Document\n",
    "from img_doc.extractors.document_extractors import TsPubLayNetExtractor"
   ]
  },
  {
   "cell_type": "code",
   "execution_count": 2,
   "id": "0d8246e6-ef53-41df-a25f-1566486144ea",
   "metadata": {},
   "outputs": [],
   "source": [
    "doc1 = Document()"
   ]
  },
  {
   "cell_type": "code",
   "execution_count": 3,
   "id": "e2669e8b-aa1e-4942-94f4-74c77bac0df7",
   "metadata": {},
   "outputs": [],
   "source": [
    "doc1.set_from_path(\"pdf/Rosenblatt1958.pdf\")"
   ]
  },
  {
   "cell_type": "code",
   "execution_count": 5,
   "id": "4ac97040-8762-4024-915f-77e8c4deb10a",
   "metadata": {},
   "outputs": [],
   "source": [
    "doc2 = Document()\n",
    "doc2.set_from_path(\"img/1.jpg\")"
   ]
  },
  {
   "cell_type": "code",
   "execution_count": 7,
   "id": "5e94dbca-4695-4719-91ec-ea6d09cc7bf0",
   "metadata": {},
   "outputs": [
    {
     "data": {
      "text/plain": [
       "[<img_doc.data_structures.image.image.Image at 0x7f6349e77100>]"
      ]
     },
     "execution_count": 7,
     "metadata": {},
     "output_type": "execute_result"
    }
   ],
   "source": []
  },
  {
   "cell_type": "code",
   "execution_count": 3,
   "id": "2f5e2dd2-6a42-4d38-b5eb-69808db5ed73",
   "metadata": {},
   "outputs": [],
   "source": [
    "ts_ext = TsPubLayNetExtractor()"
   ]
  },
  {
   "cell_type": "code",
   "execution_count": 7,
   "id": "3b346b76-dbcf-4656-85cc-b4a0de3ed1d2",
   "metadata": {},
   "outputs": [
    {
     "data": {
      "text/plain": [
       "31.38804316520691"
      ]
     },
     "execution_count": 7,
     "metadata": {},
     "output_type": "execute_result"
    }
   ],
   "source": [
    "from time import time\n",
    "a = time()\n",
    "docs = ts_ext.dataset_extractor(\"/home/daniil/program/dataset/mini_ts_publaynet\")\n",
    "time()-a"
   ]
  },
  {
   "cell_type": "code",
   "execution_count": 13,
   "id": "44765f32-1bd3-4d5a-a5cd-731c9471eccc",
   "metadata": {},
   "outputs": [
    {
     "name": "stdout",
     "output_type": "stream",
     "text": [
      "4872626\n"
     ]
    }
   ],
   "source": [
    "i = 0\n",
    "for doc in docs:\n",
    "    i+=len(doc.pages[0].words)\n",
    "print(i)"
   ]
  },
  {
   "cell_type": "code",
   "execution_count": null,
   "id": "d49928bb-74ff-4344-b232-c17e75c14fbc",
   "metadata": {},
   "outputs": [],
   "source": []
  }
 ],
 "metadata": {
  "kernelspec": {
   "display_name": "Python 3 (ipykernel)",
   "language": "python",
   "name": "python3"
  },
  "language_info": {
   "codemirror_mode": {
    "name": "ipython",
    "version": 3
   },
   "file_extension": ".py",
   "mimetype": "text/x-python",
   "name": "python",
   "nbconvert_exporter": "python",
   "pygments_lexer": "ipython3",
   "version": "3.10.12"
  }
 },
 "nbformat": 4,
 "nbformat_minor": 5
}
