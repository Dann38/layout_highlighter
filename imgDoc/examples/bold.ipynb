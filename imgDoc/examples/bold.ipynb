{
 "cells": [
  {
   "cell_type": "code",
   "execution_count": 10,
   "id": "153b2272-16fc-4971-8730-b3755f066264",
   "metadata": {},
   "outputs": [],
   "source": [
    "from img_doc.extractors.word_extractors import TesseractWordExtractor\n",
    "from img_doc.extractors.word_extractors.word_bold_extractor import PsBoldExtractor\n",
    "from img_doc.editors.binarizer import ValleyEmphasisBinarizer\n",
    "import cv2\n",
    "\n",
    "from img_doc.data_structures import Image"
   ]
  },
  {
   "cell_type": "code",
   "execution_count": 27,
   "id": "167b0aa4-d177-4ef0-a2d6-0759ff5bd394",
   "metadata": {},
   "outputs": [],
   "source": [
    "import matplotlib.pyplot as plt"
   ]
  },
  {
   "cell_type": "code",
   "execution_count": 3,
   "id": "dc829ffc-05f3-4378-9748-9acb8575b488",
   "metadata": {},
   "outputs": [],
   "source": [
    "t = TesseractWordExtractor()"
   ]
  },
  {
   "cell_type": "code",
   "execution_count": 6,
   "id": "660933b5-804e-46d7-8204-6133adc5c6d6",
   "metadata": {},
   "outputs": [],
   "source": [
    "bold = PsBoldExtractor()"
   ]
  },
  {
   "cell_type": "code",
   "execution_count": 8,
   "id": "fc81c3c6-4de2-457b-b97e-0e38c8271a6e",
   "metadata": {},
   "outputs": [],
   "source": [
    "bi = ValleyEmphasisBinarizer()"
   ]
  },
  {
   "cell_type": "code",
   "execution_count": 24,
   "id": "8a35d996-265a-4cf4-a2d4-06128d926ff6",
   "metadata": {},
   "outputs": [],
   "source": [
    "image = Image()\n",
    "image.set_img_from_path(\"img/10.png\")"
   ]
  },
  {
   "cell_type": "code",
   "execution_count": 25,
   "id": "4618deb9-8d7b-43dd-94c3-7b1f14513132",
   "metadata": {},
   "outputs": [],
   "source": [
    "words = t.extract_from_img(image.img)\n",
    "bold.extract(words, bi.binarize(image.img))\n"
   ]
  },
  {
   "cell_type": "markdown",
   "id": "fdbedd63-080b-466d-b92b-58cd2c2d369e",
   "metadata": {},
   "source": [
    "# plt.figure(dpi=300)\n",
    "plt.imshow(image.img[:400, :])\n",
    "\n",
    "for word in words:\n",
    "    c  = \"b\" if word.bold == 1 else \"g\"\n",
    "    x0 = word.segment.x_top_left\n",
    "    y0 = word.segment.y_top_left\n",
    "    x1 = word.segment.x_bottom_right\n",
    "    y1 = word.segment.y_bottom_right\n",
    "    plt.plot([x0, x0, x1, x1, x0], [y0, y1, y1, y0, y0], color=c, linewidth=0.5)"
   ]
  },
  {
   "cell_type": "code",
   "execution_count": 42,
   "id": "7a75bc1d-96a5-4df6-af4e-1f2228afd8ce",
   "metadata": {},
   "outputs": [],
   "source": [
    "dim = 2*image.img.shape[1],2*image.img.shape[0] \n",
    "image2 = Image(img=cv2.resize(image.img, dim, cv2.INTER_AREA))"
   ]
  },
  {
   "cell_type": "code",
   "execution_count": 43,
   "id": "ffe4285f-75cd-479e-8ccc-e9cf6b2d6a5f",
   "metadata": {},
   "outputs": [],
   "source": [
    "words2 = t.extract_from_img(image2.img)\n",
    "bold.extract(words2, bi.binarize(image2.img))\n"
   ]
  },
  {
   "cell_type": "markdown",
   "id": "6e51d2d1-9ded-408f-82b1-5cabbcaa9dca",
   "metadata": {},
   "source": [
    "## plt.figure(dpi=300)\n",
    "plt.imshow(image2.img[:800, :])\n",
    "\n",
    "for word in words2:\n",
    "    c  = \"b\" if word.bold == 1 else \"g\"\n",
    "    x0 = word.segment.x_top_left\n",
    "    y0 = word.segment.y_top_left\n",
    "    x1 = word.segment.x_bottom_right\n",
    "    y1 = word.segment.y_bottom_right\n",
    "    plt.plot([x0, x0, x1, x1, x0], [y0, y1, y1, y0, y0], color=c, linewidth=0.5)"
   ]
  },
  {
   "cell_type": "code",
   "execution_count": null,
   "id": "94e096cf-7e21-4415-960c-931caca8c485",
   "metadata": {},
   "outputs": [],
   "source": []
  }
 ],
 "metadata": {
  "kernelspec": {
   "display_name": "Python 3 (ipykernel)",
   "language": "python",
   "name": "python3"
  },
  "language_info": {
   "codemirror_mode": {
    "name": "ipython",
    "version": 3
   },
   "file_extension": ".py",
   "mimetype": "text/x-python",
   "name": "python",
   "nbconvert_exporter": "python",
   "pygments_lexer": "ipython3",
   "version": "3.10.12"
  }
 },
 "nbformat": 4,
 "nbformat_minor": 5
}
