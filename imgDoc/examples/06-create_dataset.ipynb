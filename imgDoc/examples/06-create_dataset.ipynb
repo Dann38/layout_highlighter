{
 "cells": [
  {
   "cell_type": "code",
   "execution_count": 1,
   "id": "8b908086-7822-452f-976e-4d0df0951bba",
   "metadata": {},
   "outputs": [
    {
     "name": "stderr",
     "output_type": "stream",
     "text": [
      "2024-03-01 19:30:26.232489: I external/local_tsl/tsl/cuda/cudart_stub.cc:31] Could not find cuda drivers on your machine, GPU will not be used.\n",
      "2024-03-01 19:30:26.643009: E external/local_xla/xla/stream_executor/cuda/cuda_dnn.cc:9261] Unable to register cuDNN factory: Attempting to register factory for plugin cuDNN when one has already been registered\n",
      "2024-03-01 19:30:26.643083: E external/local_xla/xla/stream_executor/cuda/cuda_fft.cc:607] Unable to register cuFFT factory: Attempting to register factory for plugin cuFFT when one has already been registered\n",
      "2024-03-01 19:30:26.657261: E external/local_xla/xla/stream_executor/cuda/cuda_blas.cc:1515] Unable to register cuBLAS factory: Attempting to register factory for plugin cuBLAS when one has already been registered\n",
      "2024-03-01 19:30:26.702854: I external/local_tsl/tsl/cuda/cudart_stub.cc:31] Could not find cuda drivers on your machine, GPU will not be used.\n",
      "2024-03-01 19:30:26.703743: I tensorflow/core/platform/cpu_feature_guard.cc:182] This TensorFlow binary is optimized to use available CPU instructions in performance-critical operations.\n",
      "To enable the following instructions: AVX2 FMA, in other operations, rebuild TensorFlow with the appropriate compiler flags.\n",
      "2024-03-01 19:30:27.733732: W tensorflow/compiler/tf2tensorrt/utils/py_utils.cc:38] TF-TRT Warning: Could not find TensorRT\n"
     ]
    }
   ],
   "source": [
    "from img_doc.dataset import PubLayNetDataset\n",
    "from img_doc.document import Document"
   ]
  },
  {
   "cell_type": "code",
   "execution_count": 2,
   "id": "7d3beb9a-3f16-437d-b343-927cf9b07226",
   "metadata": {},
   "outputs": [],
   "source": [
    "# Практически равны\n",
    "# pln_ds = PubLayNetDataset(r\"/home/daniil/program/dataset/publaynet/\")\n",
    "# pln_ds.create_tmp_annotation_jsons(r\"/home/daniil/program/dataset/tmp_pln2\", lambda x: {}, 0, 2)\n",
    "# pln_ds = PubLayNetDataset(r\"/home/daniil/program/dataset/publaynet/\")\n",
    "# pln_ds.create_tmp_annotation_jsons(r\"/home/daniil/program/dataset/tmp_pln3\", lambda x: {}, 0, 1)\n",
    "# pln_ds.create_tmp_annotation_jsons(r\"/home/daniil/program/dataset/tmp_pln3\", lambda x: {}, 1, 2)"
   ]
  },
  {
   "cell_type": "code",
   "execution_count": 2,
   "id": "b7b1064e-387d-4eb2-8277-12a6910412b1",
   "metadata": {},
   "outputs": [
    {
     "ename": "NameError",
     "evalue": "name 'PubLayNetDataset' is not defined",
     "output_type": "error",
     "traceback": [
      "\u001b[0;31m---------------------------------------------------------------------------\u001b[0m",
      "\u001b[0;31mNameError\u001b[0m                                 Traceback (most recent call last)",
      "Cell \u001b[0;32mIn[2], line 8\u001b[0m\n\u001b[1;32m      5\u001b[0m     json_words \u001b[38;5;241m=\u001b[39m [w\u001b[38;5;241m.\u001b[39mto_dict()  \u001b[38;5;28;01mfor\u001b[39;00m w \u001b[38;5;129;01min\u001b[39;00m doc\u001b[38;5;241m.\u001b[39mpages[\u001b[38;5;241m0\u001b[39m]\u001b[38;5;241m.\u001b[39mwords]\n\u001b[1;32m      6\u001b[0m     \u001b[38;5;28;01mreturn\u001b[39;00m {\u001b[38;5;124m\"\u001b[39m\u001b[38;5;124mwords\u001b[39m\u001b[38;5;124m\"\u001b[39m: json_words}\n\u001b[0;32m----> 8\u001b[0m pln_ds \u001b[38;5;241m=\u001b[39m \u001b[43mPubLayNetDataset\u001b[49m(\u001b[38;5;124mr\u001b[39m\u001b[38;5;124m\"\u001b[39m\u001b[38;5;124m/home/daniil/program/dataset/publaynet/\u001b[39m\u001b[38;5;124m\"\u001b[39m)\n\u001b[1;32m      9\u001b[0m pln_ds\u001b[38;5;241m.\u001b[39mcreate_tmp_annotation_jsons(\u001b[38;5;124mr\u001b[39m\u001b[38;5;124m\"\u001b[39m\u001b[38;5;124m/home/daniil/program/dataset/tmp_publaynet\u001b[39m\u001b[38;5;124m\"\u001b[39m, fun_additional_info, \u001b[38;5;241m2500\u001b[39m, \u001b[38;5;241m5000\u001b[39m)\n\u001b[1;32m     10\u001b[0m \u001b[38;5;66;03m#пропустил 1300-1500\u001b[39;00m\n\u001b[1;32m     11\u001b[0m \u001b[38;5;66;03m#...-2500\u001b[39;00m\n",
      "\u001b[0;31mNameError\u001b[0m: name 'PubLayNetDataset' is not defined"
     ]
    }
   ],
   "source": [
    "def fun_additional_info(img_path):\n",
    "    doc = Document()\n",
    "    doc.set_from_path(img_path)\n",
    "    doc.pages[0].extract_word(conf={\"lang\": \"eng\", \"psm\": 4, \"oem\": 3, \"k\": 4})\n",
    "    json_words = [w.to_dict()  for w in doc.pages[0].words]\n",
    "    return {\"words\": json_words}\n",
    "\n",
    "pln_ds = PubLayNetDataset(r\"/home/daniil/program/dataset/publaynet/\")\n",
    "pln_ds.create_tmp_annotation_jsons(r\"/home/daniil/program/dataset/tmp_publaynet\", fun_additional_info, 5000, 7000)\n",
    "#пропустил 1300-1500\n",
    "#...-5000"
   ]
  },
  {
   "cell_type": "code",
   "execution_count": 2,
   "id": "a065dd21-40a8-45a5-911d-6a95f27390c2",
   "metadata": {},
   "outputs": [],
   "source": [
    "from img_doc.document import Document, Block\n",
    "from img_doc.document.page.extractors.block_extractors import PageAndWordClassificator, BaseRandomWalkClassificator\n",
    "\n",
    "import numpy as np\n",
    "import json\n",
    "import random"
   ]
  },
  {
   "cell_type": "code",
   "execution_count": 3,
   "id": "df648e31-77b2-4394-905d-9bfe03dc277f",
   "metadata": {},
   "outputs": [],
   "source": [
    "pln_ds = PubLayNetDataset(r\"/home/daniil/program/dataset/publaynet/\", \n",
    "                          r\"/home/daniil/program/dataset/tmp_publaynet/\")\n",
    "\n",
    "# pln_ds = PubLayNetDataset(r\"/media/daniil/data/publaynet/\", \n",
    "#                           r\"/media/daniil/data/tmp_publaynet/\")"
   ]
  },
  {
   "cell_type": "code",
   "execution_count": 4,
   "id": "5840bec7-81d9-47ab-88a7-46ef25db6f18",
   "metadata": {},
   "outputs": [
    {
     "name": "stdout",
     "output_type": "stream",
     "text": [
      "train:\n",
      "    0.01%    \r"
     ]
    },
    {
     "ename": "KeyboardInterrupt",
     "evalue": "",
     "output_type": "error",
     "traceback": [
      "\u001b[0;31m---------------------------------------------------------------------------\u001b[0m",
      "\u001b[0;31mKeyboardInterrupt\u001b[0m                         Traceback (most recent call last)",
      "Cell \u001b[0;32mIn[4], line 30\u001b[0m\n\u001b[1;32m     27\u001b[0m     \u001b[38;5;28;01mreturn\u001b[39;00m {\u001b[38;5;124m\"\u001b[39m\u001b[38;5;124mx\u001b[39m\u001b[38;5;124m\"\u001b[39m: x, \u001b[38;5;124m\"\u001b[39m\u001b[38;5;124my\u001b[39m\u001b[38;5;124m\"\u001b[39m: y}\n\u001b[1;32m     29\u001b[0m \u001b[38;5;66;03m# rez = pln_ds.get_dict_image_with_label_block()\u001b[39;00m\n\u001b[0;32m---> 30\u001b[0m rez \u001b[38;5;241m=\u001b[39m \u001b[43mpln_ds\u001b[49m\u001b[38;5;241;43m.\u001b[39;49m\u001b[43mget_json_from_tmps_and_images\u001b[49m\u001b[43m(\u001b[49m\u001b[43mfun_from_tmp_and_path_image\u001b[49m\u001b[43m,\u001b[49m\u001b[43m \u001b[49m\u001b[43mbalans\u001b[49m\u001b[43m \u001b[49m\u001b[38;5;241;43m=\u001b[39;49m\u001b[43m \u001b[49m\u001b[38;5;28;43;01mTrue\u001b[39;49;00m\u001b[43m)\u001b[49m\n",
      "File \u001b[0;32m~/program/python/project/layout_highlighter/imgDoc/env/lib/python3.10/site-packages/img_doc/dataset/publaynet_dataset.py:135\u001b[0m, in \u001b[0;36mPubLayNetDataset.get_json_from_tmps_and_images\u001b[0;34m(self, fun_from_tmp_and_path_image, balans)\u001b[0m\n\u001b[1;32m    134\u001b[0m \u001b[38;5;28;01mdef\u001b[39;00m \u001b[38;5;21mget_json_from_tmps_and_images\u001b[39m(\u001b[38;5;28mself\u001b[39m, fun_from_tmp_and_path_image, balans \u001b[38;5;241m=\u001b[39m \u001b[38;5;28;01mFalse\u001b[39;00m):\n\u001b[0;32m--> 135\u001b[0m     train \u001b[38;5;241m=\u001b[39m \u001b[38;5;28;43mself\u001b[39;49m\u001b[38;5;241;43m.\u001b[39;49m\u001b[43m__get_json_from_train_tmps_and_images\u001b[49m\u001b[43m(\u001b[49m\u001b[43mfun_from_tmp_and_path_image\u001b[49m\u001b[43m,\u001b[49m\u001b[43m \u001b[49m\u001b[43mbalans\u001b[49m\u001b[43m)\u001b[49m\n\u001b[1;32m    137\u001b[0m     \u001b[38;5;28;01mreturn\u001b[39;00m {\u001b[38;5;124m\"\u001b[39m\u001b[38;5;124mtrain\u001b[39m\u001b[38;5;124m\"\u001b[39m: train}\n",
      "File \u001b[0;32m~/program/python/project/layout_highlighter/imgDoc/env/lib/python3.10/site-packages/img_doc/dataset/publaynet_dataset.py:158\u001b[0m, in \u001b[0;36mPubLayNetDataset.__get_json_from_train_tmps_and_images\u001b[0;34m(self, fun_from_tmp_and_path_image, balans)\u001b[0m\n\u001b[1;32m    156\u001b[0m             tmp_json[\u001b[38;5;124m\"\u001b[39m\u001b[38;5;124mblocks\u001b[39m\u001b[38;5;124m\"\u001b[39m] \u001b[38;5;241m=\u001b[39m [tmp_json[\u001b[38;5;124m\"\u001b[39m\u001b[38;5;124mblocks\u001b[39m\u001b[38;5;124m\"\u001b[39m][i] \u001b[38;5;28;01mfor\u001b[39;00m i \u001b[38;5;129;01min\u001b[39;00m balans_dict[os\u001b[38;5;241m.\u001b[39mpath\u001b[38;5;241m.\u001b[39mbasename(path_tmp_json[:\u001b[38;5;241m-\u001b[39m\u001b[38;5;241m5\u001b[39m])]]\n\u001b[1;32m    157\u001b[0m     path_image \u001b[38;5;241m=\u001b[39m os\u001b[38;5;241m.\u001b[39mpath\u001b[38;5;241m.\u001b[39mjoin(\u001b[38;5;28mself\u001b[39m\u001b[38;5;241m.\u001b[39mpath_dir_train_image, name_tmp_json[:\u001b[38;5;241m-\u001b[39m\u001b[38;5;241m5\u001b[39m])\n\u001b[0;32m--> 158\u001b[0m     rez\u001b[38;5;241m.\u001b[39mappend(\u001b[43mfun_from_tmp_and_path_image\u001b[49m\u001b[43m(\u001b[49m\u001b[43mtmp_json\u001b[49m\u001b[43m,\u001b[49m\u001b[43m \u001b[49m\u001b[43mpath_image\u001b[49m\u001b[43m)\u001b[49m)\n\u001b[1;32m    159\u001b[0m \u001b[38;5;28;01mreturn\u001b[39;00m rez\n",
      "Cell \u001b[0;32mIn[4], line 8\u001b[0m, in \u001b[0;36mfun_from_tmp_and_path_image\u001b[0;34m(tmp_json, img_path)\u001b[0m\n\u001b[1;32m      5\u001b[0m doc\u001b[38;5;241m.\u001b[39mpages[\u001b[38;5;241m0\u001b[39m]\u001b[38;5;241m.\u001b[39mset_blocks_from_dict(tmp_json[\u001b[38;5;124m\"\u001b[39m\u001b[38;5;124mblocks\u001b[39m\u001b[38;5;124m\"\u001b[39m])\n\u001b[1;32m      6\u001b[0m doc\u001b[38;5;241m.\u001b[39mpages[\u001b[38;5;241m0\u001b[39m]\u001b[38;5;241m.\u001b[39mset_words_from_dict(tmp_json[\u001b[38;5;124m\"\u001b[39m\u001b[38;5;124madditional_info\u001b[39m\u001b[38;5;124m\"\u001b[39m][\u001b[38;5;124m\"\u001b[39m\u001b[38;5;124mwords\u001b[39m\u001b[38;5;124m\"\u001b[39m])\n\u001b[0;32m----> 8\u001b[0m \u001b[43mdoc\u001b[49m\u001b[38;5;241;43m.\u001b[39;49m\u001b[43mpages\u001b[49m\u001b[43m[\u001b[49m\u001b[38;5;241;43m0\u001b[39;49m\u001b[43m]\u001b[49m\u001b[38;5;241;43m.\u001b[39;49m\u001b[43mextract_word_bold\u001b[49m\u001b[43m(\u001b[49m\u001b[43m)\u001b[49m\n\u001b[1;32m      9\u001b[0m \u001b[38;5;28;01mfor\u001b[39;00m word \u001b[38;5;129;01min\u001b[39;00m doc\u001b[38;5;241m.\u001b[39mpages[\u001b[38;5;241m0\u001b[39m]\u001b[38;5;241m.\u001b[39mwords:\n\u001b[1;32m     10\u001b[0m     \u001b[38;5;28;01mfor\u001b[39;00m block \u001b[38;5;129;01min\u001b[39;00m doc\u001b[38;5;241m.\u001b[39mpages[\u001b[38;5;241m0\u001b[39m]\u001b[38;5;241m.\u001b[39mblocks:\n",
      "File \u001b[0;32m~/program/python/project/layout_highlighter/imgDoc/env/lib/python3.10/site-packages/img_doc/document/page/page.py:49\u001b[0m, in \u001b[0;36mPage.extract_word_bold\u001b[0;34m(self, method, conf)\u001b[0m\n\u001b[1;32m     48\u001b[0m \u001b[38;5;28;01mdef\u001b[39;00m \u001b[38;5;21mextract_word_bold\u001b[39m(\u001b[38;5;28mself\u001b[39m, method:\u001b[38;5;28mstr\u001b[39m \u001b[38;5;241m=\u001b[39m \u001b[38;5;124m\"\u001b[39m\u001b[38;5;124msph\u001b[39m\u001b[38;5;124m\"\u001b[39m, conf\u001b[38;5;241m=\u001b[39m{}):\n\u001b[0;32m---> 49\u001b[0m     \u001b[43mBOLD_EXTRACTORS\u001b[49m\u001b[43m[\u001b[49m\u001b[43mmethod\u001b[49m\u001b[43m]\u001b[49m\u001b[38;5;241;43m.\u001b[39;49m\u001b[43mextract\u001b[49m\u001b[43m(\u001b[49m\u001b[38;5;28;43mself\u001b[39;49m\u001b[43m,\u001b[49m\u001b[43m \u001b[49m\u001b[43mconf\u001b[49m\u001b[43m)\u001b[49m\n",
      "File \u001b[0;32m~/program/python/project/layout_highlighter/imgDoc/env/lib/python3.10/site-packages/img_doc/document/page/extractors/word_extractors/bold_extractors/sph_bold_extractor.py:16\u001b[0m, in \u001b[0;36mSPHBoldExtractor.extract\u001b[0;34m(self, page, conf)\u001b[0m\n\u001b[1;32m     14\u001b[0m img_word \u001b[38;5;241m=\u001b[39m Image(word\u001b[38;5;241m.\u001b[39msegment\u001b[38;5;241m.\u001b[39mget_segment_from_img(gray_img))\n\u001b[1;32m     15\u001b[0m \u001b[38;5;66;03m# img_word.resize(8)\u001b[39;00m\n\u001b[0;32m---> 16\u001b[0m word\u001b[38;5;241m.\u001b[39mset_bold(\u001b[38;5;28;43mself\u001b[39;49m\u001b[38;5;241;43m.\u001b[39;49m\u001b[43mevaluation_word_img\u001b[49m\u001b[43m(\u001b[49m\u001b[43mimg_word\u001b[49m\u001b[38;5;241;43m.\u001b[39;49m\u001b[43mimg\u001b[49m\u001b[43m)\u001b[49m)\n",
      "File \u001b[0;32m~/program/python/project/layout_highlighter/imgDoc/env/lib/python3.10/site-packages/img_doc/document/page/extractors/word_extractors/bold_extractors/sph_bold_extractor.py:21\u001b[0m, in \u001b[0;36mSPHBoldExtractor.evaluation_word_img\u001b[0;34m(self, img_word)\u001b[0m\n\u001b[1;32m     19\u001b[0m s \u001b[38;5;241m=\u001b[39m \u001b[38;5;28mself\u001b[39m\u001b[38;5;241m.\u001b[39m_get_s_word_img(img_word)\n\u001b[1;32m     20\u001b[0m p \u001b[38;5;241m=\u001b[39m \u001b[38;5;28mself\u001b[39m\u001b[38;5;241m.\u001b[39m_get_p_word_img(img_word)\n\u001b[0;32m---> 21\u001b[0m h \u001b[38;5;241m=\u001b[39m \u001b[38;5;28;43mself\u001b[39;49m\u001b[38;5;241;43m.\u001b[39;49m\u001b[43m_get_h_word_img\u001b[49m\u001b[43m(\u001b[49m\u001b[43mimg_word\u001b[49m\u001b[43m)\u001b[49m\n\u001b[1;32m     22\u001b[0m \u001b[38;5;66;03m# return p\u001b[39;00m\n\u001b[1;32m     24\u001b[0m \u001b[38;5;28;01mif\u001b[39;00m p\u001b[38;5;241m==\u001b[39m\u001b[38;5;241m0\u001b[39m \u001b[38;5;129;01mor\u001b[39;00m s\u001b[38;5;241m==\u001b[39m\u001b[38;5;241m0\u001b[39m \u001b[38;5;129;01mor\u001b[39;00m h\u001b[38;5;241m==\u001b[39m\u001b[38;5;241m0\u001b[39m:\n",
      "File \u001b[0;32m~/program/python/project/layout_highlighter/imgDoc/env/lib/python3.10/site-packages/img_doc/document/page/extractors/word_extractors/bold_extractors/sph_bold_extractor.py:61\u001b[0m, in \u001b[0;36mSPHBoldExtractor._get_h_word_img\u001b[0;34m(self, img_word)\u001b[0m\n\u001b[1;32m     59\u001b[0m c1 \u001b[38;5;241m=\u001b[39m ((mean_[:b1] \u001b[38;5;241m-\u001b[39m a2)\u001b[38;5;241m*\u001b[39m\u001b[38;5;241m*\u001b[39m\u001b[38;5;241m2\u001b[39m)\u001b[38;5;241m.\u001b[39msum()\n\u001b[1;32m     60\u001b[0m c2 \u001b[38;5;241m=\u001b[39m ((mean_[b1:b2] \u001b[38;5;241m-\u001b[39m a1)\u001b[38;5;241m*\u001b[39m\u001b[38;5;241m*\u001b[39m\u001b[38;5;241m2\u001b[39m)\u001b[38;5;241m.\u001b[39msum()\n\u001b[0;32m---> 61\u001b[0m c3 \u001b[38;5;241m=\u001b[39m \u001b[43m(\u001b[49m\u001b[43m(\u001b[49m\u001b[43mmean_\u001b[49m\u001b[43m[\u001b[49m\u001b[43mb2\u001b[49m\u001b[43m:\u001b[49m\u001b[43m]\u001b[49m\u001b[43m \u001b[49m\u001b[38;5;241;43m-\u001b[39;49m\u001b[43m \u001b[49m\u001b[43ma2\u001b[49m\u001b[43m)\u001b[49m\u001b[38;5;241;43m*\u001b[39;49m\u001b[38;5;241;43m*\u001b[39;49m\u001b[38;5;241;43m2\u001b[39;49m\u001b[43m)\u001b[49m\u001b[38;5;241;43m.\u001b[39;49m\u001b[43msum\u001b[49m\u001b[43m(\u001b[49m\u001b[43m)\u001b[49m\n\u001b[1;32m     62\u001b[0m c \u001b[38;5;241m=\u001b[39m c1\u001b[38;5;241m+\u001b[39mc2\u001b[38;5;241m+\u001b[39mc3\n\u001b[1;32m     63\u001b[0m \u001b[38;5;28;01mif\u001b[39;00m c_min \u001b[38;5;241m>\u001b[39m c:\n",
      "File \u001b[0;32m~/program/python/project/layout_highlighter/imgDoc/env/lib/python3.10/site-packages/numpy/core/_methods.py:47\u001b[0m, in \u001b[0;36m_sum\u001b[0;34m(a, axis, dtype, out, keepdims, initial, where)\u001b[0m\n\u001b[1;32m     43\u001b[0m \u001b[38;5;28;01mdef\u001b[39;00m \u001b[38;5;21m_amin\u001b[39m(a, axis\u001b[38;5;241m=\u001b[39m\u001b[38;5;28;01mNone\u001b[39;00m, out\u001b[38;5;241m=\u001b[39m\u001b[38;5;28;01mNone\u001b[39;00m, keepdims\u001b[38;5;241m=\u001b[39m\u001b[38;5;28;01mFalse\u001b[39;00m,\n\u001b[1;32m     44\u001b[0m           initial\u001b[38;5;241m=\u001b[39m_NoValue, where\u001b[38;5;241m=\u001b[39m\u001b[38;5;28;01mTrue\u001b[39;00m):\n\u001b[1;32m     45\u001b[0m     \u001b[38;5;28;01mreturn\u001b[39;00m umr_minimum(a, axis, \u001b[38;5;28;01mNone\u001b[39;00m, out, keepdims, initial, where)\n\u001b[0;32m---> 47\u001b[0m \u001b[38;5;28;01mdef\u001b[39;00m \u001b[38;5;21m_sum\u001b[39m(a, axis\u001b[38;5;241m=\u001b[39m\u001b[38;5;28;01mNone\u001b[39;00m, dtype\u001b[38;5;241m=\u001b[39m\u001b[38;5;28;01mNone\u001b[39;00m, out\u001b[38;5;241m=\u001b[39m\u001b[38;5;28;01mNone\u001b[39;00m, keepdims\u001b[38;5;241m=\u001b[39m\u001b[38;5;28;01mFalse\u001b[39;00m,\n\u001b[1;32m     48\u001b[0m          initial\u001b[38;5;241m=\u001b[39m_NoValue, where\u001b[38;5;241m=\u001b[39m\u001b[38;5;28;01mTrue\u001b[39;00m):\n\u001b[1;32m     49\u001b[0m     \u001b[38;5;28;01mreturn\u001b[39;00m umr_sum(a, axis, dtype, out, keepdims, initial, where)\n\u001b[1;32m     51\u001b[0m \u001b[38;5;28;01mdef\u001b[39;00m \u001b[38;5;21m_prod\u001b[39m(a, axis\u001b[38;5;241m=\u001b[39m\u001b[38;5;28;01mNone\u001b[39;00m, dtype\u001b[38;5;241m=\u001b[39m\u001b[38;5;28;01mNone\u001b[39;00m, out\u001b[38;5;241m=\u001b[39m\u001b[38;5;28;01mNone\u001b[39;00m, keepdims\u001b[38;5;241m=\u001b[39m\u001b[38;5;28;01mFalse\u001b[39;00m,\n\u001b[1;32m     52\u001b[0m           initial\u001b[38;5;241m=\u001b[39m_NoValue, where\u001b[38;5;241m=\u001b[39m\u001b[38;5;28;01mTrue\u001b[39;00m):\n",
      "\u001b[0;31mKeyboardInterrupt\u001b[0m: "
     ]
    }
   ],
   "source": [
    "rnd_cls = BaseRandomWalkClassificator({\"properties\":[\"many_dist\", \"many_angle\", \"place_in_block\", \"height\"],\"count_step\":10})\n",
    "def fun_from_tmp_and_path_image(tmp_json, img_path):\n",
    "    doc = Document()\n",
    "    doc.set_from_path(img_path)\n",
    "    doc.pages[0].set_blocks_from_dict(tmp_json[\"blocks\"])\n",
    "    doc.pages[0].set_words_from_dict(tmp_json[\"additional_info\"][\"words\"])\n",
    "    \n",
    "    doc.pages[0].extract_word_bold()\n",
    "    for word in doc.pages[0].words:\n",
    "        for block in doc.pages[0].blocks:\n",
    "            if block.segment.is_intersection(word.segment):\n",
    "                block.words.append(word)\n",
    "    x = []\n",
    "    y = []\n",
    "    for page in doc.pages:\n",
    "        for block in page.blocks:\n",
    "            try:\n",
    "                x.append(rnd_cls.get_block_vec(block))\n",
    "                y.append(block.label)\n",
    "            except:\n",
    "                t = block.get_text()\n",
    "                if len(t) > 10:\n",
    "                    text_ = t[:10] + \"...\"\n",
    "                else:\n",
    "                    text_ = t\n",
    "                print(doc.path, text_)\n",
    "    return {\"x\": x, \"y\": y}\n",
    "\n",
    "# rez = pln_ds.get_dict_image_with_label_block()\n",
    "rez = pln_ds.get_json_from_tmps_and_images(fun_from_tmp_and_path_image, balans = True)"
   ]
  },
  {
   "cell_type": "code",
   "execution_count": 5,
   "id": "31c3058e-ed9c-43f7-8638-f376a76fde4f",
   "metadata": {},
   "outputs": [
    {
     "name": "stdout",
     "output_type": "stream",
     "text": [
      "train:\n",
      "/home/daniil/program/dataset/publaynet/train/PMC3505796_00004.jpg\n",
      "/home/daniil/program/dataset/publaynet/train/PMC5329893_00002.jpg\n",
      "/home/daniil/program/dataset/publaynet/train/PMC5919984_00000.jpg\n",
      "    0.48%    \r"
     ]
    },
    {
     "name": "stderr",
     "output_type": "stream",
     "text": [
      "/home/daniil/program/python/project/layout_highlighter/imgDoc/env/lib/python3.10/site-packages/img_doc/document/page/extractors/word_extractors/bold_extractors/sph_bold_extractor.py:46: RuntimeWarning: Mean of empty slice.\n",
      "  mean_ = img_word.mean(1)\n",
      "/home/daniil/program/python/project/layout_highlighter/imgDoc/env/lib/python3.10/site-packages/numpy/core/_methods.py:121: RuntimeWarning: invalid value encountered in divide\n",
      "  ret = um.true_divide(\n"
     ]
    },
    {
     "name": "stdout",
     "output_type": "stream",
     "text": [
      "/home/daniil/program/dataset/publaynet/train/PMC5800348_00000.jpg\n",
      "/home/daniil/program/dataset/publaynet/train/PMC5397437_00004.jpg\n",
      "/home/daniil/program/dataset/publaynet/train/PMC4782684_00238.jpg\n",
      "/home/daniil/program/dataset/publaynet/train/PMC6087436_00004.jpg\n",
      "/home/daniil/program/dataset/publaynet/train/PMC4233714_00005.jpg\n",
      "/home/daniil/program/dataset/publaynet/train/PMC4781946_00002.jpg\n",
      "/home/daniil/program/dataset/publaynet/train/PMC3644173_00007.jpg\n",
      "/home/daniil/program/dataset/publaynet/train/PMC5004597_00008.jpg\n",
      "/home/daniil/program/dataset/publaynet/train/PMC3993045_00000.jpg\n",
      "/home/daniil/program/dataset/publaynet/train/PMC5029444_00005.jpg\n",
      "/home/daniil/program/dataset/publaynet/train/PMC4867865_00005.jpg\n",
      "/home/daniil/program/dataset/publaynet/train/PMC6055857_00003.jpg\n",
      "/home/daniil/program/dataset/publaynet/train/PMC5773900_00006.jpg\n",
      "/home/daniil/program/dataset/publaynet/train/PMC5703426_00026.jpg\n",
      "/home/daniil/program/dataset/publaynet/train/PMC4950444_00001.jpg\n",
      "/home/daniil/program/dataset/publaynet/train/PMC5733397_00022.jpg\n",
      "/home/daniil/program/dataset/publaynet/train/PMC3016243_00010.jpg\n",
      "/home/daniil/program/dataset/publaynet/train/PMC4742498_00000.jpg\n",
      "/home/daniil/program/dataset/publaynet/train/PMC4453623_00000.jpg\n",
      "/home/daniil/program/dataset/publaynet/train/PMC3549480_00006.jpg\n",
      "/home/daniil/program/dataset/publaynet/train/PMC5362069_00002.jpg\n",
      "/home/daniil/program/dataset/publaynet/train/PMC4663701_00032.jpg\n",
      "/home/daniil/program/dataset/publaynet/train/PMC5640724_00000.jpg\n",
      "/home/daniil/program/dataset/publaynet/train/PMC3506735_00003.jpg\n",
      "/home/daniil/program/dataset/publaynet/train/PMC5605883_00071.jpg\n",
      "/home/daniil/program/dataset/publaynet/train/PMC5813066_00001.jpg\n",
      "/home/daniil/program/dataset/publaynet/train/PMC3671139_00002.jpg\n",
      "/home/daniil/program/dataset/publaynet/train/PMC5000778_00003.jpg\n",
      "/home/daniil/program/dataset/publaynet/train/PMC5560457_00004.jpg\n",
      "/home/daniil/program/dataset/publaynet/train/PMC4030623_00000.jpg\n",
      "/home/daniil/program/dataset/publaynet/train/PMC4406160_00007.jpg\n",
      "/home/daniil/program/dataset/publaynet/train/PMC5627505_00002.jpg\n",
      "/home/daniil/program/dataset/publaynet/train/PMC4737095_00006.jpg\n",
      "/home/daniil/program/dataset/publaynet/train/PMC5638421_00001.jpg\n",
      "/home/daniil/program/dataset/publaynet/train/PMC3989063_00004.jpg\n",
      "/home/daniil/program/dataset/publaynet/train/PMC4791149_00000.jpg\n",
      "/home/daniil/program/dataset/publaynet/train/PMC5510665_00019.jpg\n",
      "/home/daniil/program/dataset/publaynet/train/PMC5760298_00006.jpg\n",
      "/home/daniil/program/dataset/publaynet/train/PMC4993598_00013.jpg\n",
      "/home/daniil/program/dataset/publaynet/train/PMC5344657_00001.jpg\n",
      "/home/daniil/program/dataset/publaynet/train/PMC3170708_00005.jpg\n",
      "/home/daniil/program/dataset/publaynet/train/PMC5676016_00000.jpg\n",
      "/home/daniil/program/dataset/publaynet/train/PMC4027014_00000.jpg\n",
      "/home/daniil/program/dataset/publaynet/train/PMC4840360_00003.jpg\n",
      "/home/daniil/program/dataset/publaynet/train/PMC5716153_00000.jpg\n",
      "/home/daniil/program/dataset/publaynet/train/PMC5885388_00004.jpg\n",
      "/home/daniil/program/dataset/publaynet/train/PMC5560457_00002.jpg\n",
      "/home/daniil/program/dataset/publaynet/train/PMC6060768_00005.jpg\n",
      "/home/daniil/program/dataset/publaynet/train/PMC5125297_00014.jpg\n",
      "/home/daniil/program/dataset/publaynet/train/PMC5513486_00013.jpg\n",
      "/home/daniil/program/dataset/publaynet/train/PMC5614451_00077.jpg\n",
      "/home/daniil/program/dataset/publaynet/train/PMC4255692_00010.jpg\n",
      "/home/daniil/program/dataset/publaynet/train/PMC4487456_00001.jpg\n",
      "/home/daniil/program/dataset/publaynet/train/PMC4850058_00019.jpg\n",
      "/home/daniil/program/dataset/publaynet/train/PMC5473695_00001.jpg\n",
      "/home/daniil/program/dataset/publaynet/train/PMC4193669_00004.jpg\n",
      "/home/daniil/program/dataset/publaynet/train/PMC5760298_00005.jpg\n",
      "/home/daniil/program/dataset/publaynet/train/PMC5899081_00006.jpg\n",
      "/home/daniil/program/dataset/publaynet/train/PMC3483063_00006.jpg\n",
      "/home/daniil/program/dataset/publaynet/train/PMC5537207_00003.jpg\n",
      "/home/daniil/program/dataset/publaynet/train/PMC4685623_00005.jpg\n",
      "/home/daniil/program/dataset/publaynet/train/PMC4864997_00057.jpg\n",
      "/home/daniil/program/dataset/publaynet/train/PMC5604884_00025.jpg\n",
      "/home/daniil/program/dataset/publaynet/train/PMC4270420_00008.jpg\n",
      "/home/daniil/program/dataset/publaynet/train/PMC5985993_00000.jpg\n",
      "/home/daniil/program/dataset/publaynet/train/PMC4964951_00009.jpg\n",
      "/home/daniil/program/dataset/publaynet/train/PMC3779091_00004.jpg\n",
      "/home/daniil/program/dataset/publaynet/train/PMC5863695_00009.jpg\n",
      "/home/daniil/program/dataset/publaynet/train/PMC5709814_00014.jpg\n",
      "/home/daniil/program/dataset/publaynet/train/PMC5714598_00004.jpg\n",
      "/home/daniil/program/dataset/publaynet/train/PMC5904739_00004.jpg\n",
      "/home/daniil/program/dataset/publaynet/train/PMC3671420_00001.jpg\n",
      "/home/daniil/program/dataset/publaynet/train/PMC5575492_00005.jpg\n",
      "/home/daniil/program/dataset/publaynet/train/PMC5729019_00003.jpg\n",
      "/home/daniil/program/dataset/publaynet/train/PMC5568594_00021.jpg\n",
      "/home/daniil/program/dataset/publaynet/train/PMC4550009_00003.jpg\n",
      "/home/daniil/program/dataset/publaynet/train/PMC5640740_00002.jpg\n",
      "/home/daniil/program/dataset/publaynet/train/PMC6016869_00004.jpg\n",
      "/home/daniil/program/dataset/publaynet/train/PMC5668338_00007.jpg\n",
      "/home/daniil/program/dataset/publaynet/train/PMC5863695_00005.jpg\n",
      "/home/daniil/program/dataset/publaynet/train/PMC2667522_00005.jpg\n",
      "/home/daniil/program/dataset/publaynet/train/PMC4796725_00002.jpg\n",
      "/home/daniil/program/dataset/publaynet/train/PMC4633921_00002.jpg\n",
      "/home/daniil/program/dataset/publaynet/train/PMC5322159_00002.jpg\n",
      "/home/daniil/program/dataset/publaynet/train/PMC5036255_00001.jpg\n",
      "/home/daniil/program/dataset/publaynet/train/PMC5604884_00017.jpg\n",
      "/home/daniil/program/dataset/publaynet/train/PMC5184777_00004.jpg\n",
      "/home/daniil/program/dataset/publaynet/train/PMC2669567_00002.jpg\n",
      "/home/daniil/program/dataset/publaynet/train/PMC4457973_00006.jpg\n",
      "/home/daniil/program/dataset/publaynet/train/PMC5065103_00003.jpg\n",
      "/home/daniil/program/dataset/publaynet/train/PMC5640973_00012.jpg\n",
      "/home/daniil/program/dataset/publaynet/train/PMC4302662_00005.jpg\n",
      "/home/daniil/program/dataset/publaynet/train/PMC4184723_00001.jpg\n",
      "/home/daniil/program/dataset/publaynet/train/PMC3910150_00005.jpg\n",
      "/home/daniil/program/dataset/publaynet/train/PMC4380967_00004.jpg\n",
      "/home/daniil/program/dataset/publaynet/train/PMC4255692_00012.jpg\n",
      "/home/daniil/program/dataset/publaynet/train/PMC5867533_00010.jpg\n",
      "/home/daniil/program/dataset/publaynet/train/PMC5664268_00001.jpg\n",
      "/home/daniil/program/dataset/publaynet/train/PMC5843071_00007.jpg\n",
      "/home/daniil/program/dataset/publaynet/train/PMC4733890_00025.jpg\n",
      "/home/daniil/program/dataset/publaynet/train/PMC3195333_00004.jpg\n",
      "/home/daniil/program/dataset/publaynet/train/PMC5324698_00004.jpg\n",
      "/home/daniil/program/dataset/publaynet/train/PMC5760672_00005.jpg\n",
      "/home/daniil/program/dataset/publaynet/train/PMC5312421_00004.jpg\n",
      "/home/daniil/program/dataset/publaynet/train/PMC2660902_00006.jpg\n",
      "/home/daniil/program/dataset/publaynet/train/PMC3470840_00001.jpg\n",
      "/home/daniil/program/dataset/publaynet/train/PMC5316556_00002.jpg\n",
      "/home/daniil/program/dataset/publaynet/train/PMC3549480_00004.jpg\n",
      "/home/daniil/program/dataset/publaynet/train/PMC6060225_00006.jpg\n",
      "/home/daniil/program/dataset/publaynet/train/PMC3588210_00001.jpg\n",
      "/home/daniil/program/dataset/publaynet/train/PMC5389876_00004.jpg\n",
      "/home/daniil/program/dataset/publaynet/train/PMC4917927_00005.jpg\n",
      "/home/daniil/program/dataset/publaynet/train/PMC6070080_00003.jpg\n",
      "/home/daniil/program/dataset/publaynet/train/PMC5066074_00006.jpg\n",
      "/home/daniil/program/dataset/publaynet/train/PMC5139881_00005.jpg\n",
      "/home/daniil/program/dataset/publaynet/train/PMC3017745_00002.jpg\n",
      "/home/daniil/program/dataset/publaynet/train/PMC6078709_00005.jpg\n",
      "    99.99%    \r"
     ]
    }
   ],
   "source": [
    "brwc = BaseRandomWalkClassificator(conf={\"properties\":[\"many_dist\", \"many_angle\", \"place_in_block\", \"height\"],\"count_step\":10})\n",
    "pwc = PageAndWordClassificator(brwc, conf={\"properties\":[\"place_in_page\", \"count_word_in_page\"]})\n",
    "\n",
    "def fun_from_tmp_and_path_image(tmp_json, img_path):\n",
    "    doc = Document()\n",
    "    doc.set_from_path(img_path)\n",
    "    doc.pages[0].set_blocks_from_dict(tmp_json[\"blocks\"])\n",
    "    doc.pages[0].set_words_from_dict(tmp_json[\"additional_info\"][\"words\"])\n",
    "    \n",
    "    doc.pages[0].extract_word_bold()\n",
    "    for word in doc.pages[0].words:\n",
    "        for block in doc.pages[0].blocks:\n",
    "            if block.segment.is_intersection(word.segment):\n",
    "                block.words.append(word)\n",
    "    x = []\n",
    "    y = []\n",
    "    for page in doc.pages:\n",
    "        try:\n",
    "            x =pwc.get_block_and_page_vecs(page)\n",
    "            for block in page.blocks:\n",
    "                y.append(block.label)\n",
    "        except:\n",
    "            print(doc.path)\n",
    "    return {\"x\": x, \"y\": y}\n",
    "\n",
    "# rez = pln_ds.get_dict_image_with_label_block()\n",
    "rez = pln_ds.get_json_from_tmps_and_images(fun_from_tmp_and_path_image, balans = True)"
   ]
  },
  {
   "cell_type": "code",
   "execution_count": null,
   "id": "545e4a50-1afd-4017-8f9d-5e33ad735400",
   "metadata": {
    "scrolled": true
   },
   "outputs": [],
   "source": []
  },
  {
   "cell_type": "code",
   "execution_count": 6,
   "id": "28704d90-fe30-4285-8653-3dc44cc46e02",
   "metadata": {
    "scrolled": true
   },
   "outputs": [],
   "source": [
    "dataset = {\"x\": [], \"y\": []}\n",
    "for train_i in rez[\"train\"]:\n",
    "    for x in train_i[\"x\"]:\n",
    "        dataset[\"x\"].append(x)\n",
    "    for y in train_i[\"y\"]:\n",
    "        dataset[\"y\"].append(y)"
   ]
  },
  {
   "cell_type": "code",
   "execution_count": null,
   "id": "f0910968-9f8d-4175-b12b-718d109b0ec1",
   "metadata": {},
   "outputs": [],
   "source": []
  },
  {
   "cell_type": "code",
   "execution_count": 8,
   "id": "06966b85-652e-430e-8d86-9000dc2d618b",
   "metadata": {},
   "outputs": [
    {
     "name": "stdout",
     "output_type": "stream",
     "text": [
      "Первый x:\n",
      " [0.68718427 0.09889364 0.33333333 0.48969605 0.         1.\n",
      " 0.79489099 0.89442719 1.         0.08695652 1.         0.372678\n",
      " 1.         1.         0.14063251 0.79489099 0.         0.46185235\n",
      " 1.         0.95852535 0.56521739 1.         1.         0.09889364\n",
      " 0.26666667 1.         0.         1.         1.         0.96420539\n",
      " 0.88479263 0.56521739 1.         1.         0.09889364 0.26666667\n",
      " 1.         0.         1.         1.         0.96420539 0.88479263\n",
      " 0.56521739 1.         1.         0.09889364 0.26666667 1.\n",
      " 0.         1.         1.         0.96420539 0.88479263 0.56521739\n",
      " 1.         1.         0.09889364 0.26666667 1.         0.\n",
      " 1.         1.         0.96420539 0.88479263 0.56521739 1.\n",
      " 1.         0.09889364 0.26666667 1.         0.         1.\n",
      " 1.         0.96420539 0.88479263 0.56521739 1.         0.2981424\n",
      " 0.14834045 1.         0.21094877 1.         1.         0.37127483\n",
      " 1.         0.92626728 1.         1.         1.         0.09889364\n",
      " 0.26666667 1.         0.         1.         1.         0.96420539\n",
      " 0.88479263 0.56521739 1.         1.         0.07417023 0.4055175\n",
      " 0.17579064 0.         1.         0.86518412 1.         0.70046083\n",
      " 0.08695652 1.         0.05369128 0.85768262 0.09808102]\n",
      "Последний x:\n",
      " [0.03257792 0.77737008 1.         0.6        0.35760677 0.\n",
      " 0.         0.99978315 0.98507463 1.         0.7        0.03800757\n",
      " 0.97830234 0.04190786 1.         1.         0.         0.35760677\n",
      " 0.99999846 0.76119403 0.69565217 0.8        0.03800757 0.97830234\n",
      " 0.04190786 1.         1.         0.         0.35760677 0.99999846\n",
      " 0.76119403 0.69565217 0.8        1.         1.         0.04889251\n",
      " 0.8        0.         0.         1.         1.         1.\n",
      " 0.36956522 0.8        0.02171861 0.02171861 0.03492322 0.6\n",
      " 0.         1.         0.94964462 0.99809382 0.53731343 0.36956522\n",
      " 1.         0.15633253 0.03071476 0.02793857 0.8        0.\n",
      " 0.99312988 0.         0.99809382 0.53731343 0.06521739 1.\n",
      " 1.         1.         0.04889251 0.8        0.         0.\n",
      " 1.         1.         1.         0.36956522 0.8        0.03800757\n",
      " 0.97830234 0.04190786 1.         1.         0.         0.35760677\n",
      " 0.99999846 0.76119403 0.69565217 0.8        0.03257792 0.77737008\n",
      " 1.         0.6        0.35760677 0.         0.         0.99978315\n",
      " 0.98507463 1.         0.7        0.03257792 0.77737008 1.\n",
      " 0.6        0.35760677 0.         0.         0.99978315 0.98507463\n",
      " 1.         0.7        0.16275168 0.12826603 0.03098107]\n",
      "Размер x:\t 113\n",
      "Первый y:\t 1\n",
      "Последний y:\t 1\n",
      "Кол-во записей:\t 33439\n"
     ]
    }
   ],
   "source": [
    "print(\"Первый x:\\n\", dataset[\"x\"][0])\n",
    "print(\"Последний x:\\n\", dataset[\"x\"][-1])\n",
    "print(\"Размер x:\\t\", len(dataset[\"x\"][0]))\n",
    "print(\"Первый y:\\t\", dataset[\"y\"][0])\n",
    "print(\"Последний y:\\t\", dataset[\"y\"][0])\n",
    "print(\"Кол-во записей:\\t\", len(dataset[\"x\"]))"
   ]
  },
  {
   "cell_type": "code",
   "execution_count": 9,
   "id": "3172f9eb-f5f8-4be2-8e73-0f33a0bb0824",
   "metadata": {},
   "outputs": [],
   "source": [
    "def shuffle(x_arrays, y_arrays):\n",
    "    x_vec = np.concatenate(x_arrays)\n",
    "    y_vec = np.concatenate(y_arrays)\n",
    "    data = [(x, y) for x, y in zip(x_vec, y_vec)]\n",
    "    random.shuffle(data)\n",
    "    x_vec_rnd = np.array([x for x, y in data])\n",
    "    y_vec_rnd = np.array([y for x, y in data])\n",
    "    return x_vec_rnd, y_vec_rnd\n",
    "    \n",
    "\n",
    "def get_data(dataset, balans=True): #, batch_size=128\n",
    "\n",
    "    X = np.array(dataset[\"x\"])\n",
    "    y = np.array(dataset[\"y\"])\n",
    "    \n",
    "    keys = np.unique(y)\n",
    "    Y_keys = dict()\n",
    "    for i, key in enumerate(keys):\n",
    "        z = np.zeros(5)\n",
    "        z[i] = 1\n",
    "        Y_keys[key] = z\n",
    "    Y = np.array([Y_keys[yi] for yi in y])\n",
    "\n",
    "    X_clus_list = []\n",
    "    Y_clus_list = []\n",
    "\n",
    "    for i, item in enumerate(Y_keys.keys()):\n",
    "        X_clus_list.append(X[Y[:,i]==1,:])\n",
    "        Y_clus_list.append(Y[Y[:,i]==1,:])\n",
    "        \n",
    "    if balans:\n",
    "        balans_len = [len(yc) for yc in Y_clus_list]\n",
    "        min_len = min(balans_len)\n",
    "    \n",
    "    train_x = []\n",
    "    train_y = []\n",
    "    test_x = []\n",
    "    test_y = []\n",
    "    val_x = []\n",
    "    val_y = []\n",
    "    for class_data in zip(X_clus_list, Y_clus_list):\n",
    "        data = [(x, y) for x, y in zip(class_data[0], class_data[1])]\n",
    "        random.shuffle(data)\n",
    "        if balans:\n",
    "            data = data[:min_len]\n",
    "        len_data = len(data)\n",
    "        len_test = round(0.2*len_data)\n",
    "        len_val = round((len_data-len_test)*0.2)\n",
    "        len_train = len_data - len_test - len_val\n",
    "        \n",
    "        train_x.append([x for x, y in data[:len_train]])\n",
    "        train_y.append([y for x, y in data[:len_train]])\n",
    "        \n",
    "        val_x.append([x for x, y in data[len_train:len_train+len_val]])\n",
    "        val_y.append([y for x, y in data[len_train:len_train+len_val]])\n",
    "    \n",
    "        test_x.append([x for x, y in data[-len_test:]])\n",
    "        test_y.append([y for x, y in data[-len_test:]])\n",
    "        \n",
    "    train_x, train_y = shuffle(train_x, train_y)\n",
    "    val_x, val_y = shuffle(val_x, val_y)\n",
    "    test_x, test_y = shuffle(test_x, test_y)\n",
    "    \n",
    "    return train_x, train_y, val_x, val_y, test_x, test_y, Y_keys"
   ]
  },
  {
   "cell_type": "code",
   "execution_count": 10,
   "id": "6bae8822-a850-468f-b3e3-64e9c224b824",
   "metadata": {},
   "outputs": [],
   "source": [
    "train_x, train_y, val_x, val_y, test_x, test_y, Y_keys = get_data(dataset, balans=True)"
   ]
  },
  {
   "cell_type": "code",
   "execution_count": 11,
   "id": "9f5c7735-0a18-4275-8142-9c5bda364242",
   "metadata": {},
   "outputs": [],
   "source": [
    "with open(\"rez.json\", \"w\") as f:\n",
    "    json.dump({\"train_x\": train_x.tolist(), \"train_y\": train_y.tolist(),\n",
    "               \"val_x\": val_x.tolist(), \"val_y\": val_y.tolist(), \n",
    "               \"test_x\": test_x.tolist(), \"test_y\": test_y.tolist()}, f)"
   ]
  },
  {
   "cell_type": "code",
   "execution_count": 14,
   "id": "5d7b490c-b97d-4e02-83ca-cbae01ab6cf2",
   "metadata": {
    "scrolled": true
   },
   "outputs": [
    {
     "data": {
      "text/plain": [
       "array([0.625     , 1.        , 1.        , 1.        , 0.19256979,\n",
       "       0.98994949, 0.74535599, 0.68      , 0.08988323, 0.08988323,\n",
       "       0.51311475])"
      ]
     },
     "execution_count": 14,
     "metadata": {},
     "output_type": "execute_result"
    }
   ],
   "source": [
    "train_x[4][10::10]"
   ]
  },
  {
   "cell_type": "code",
   "execution_count": null,
   "id": "a4a54166-544c-426f-ada4-832f378ae358",
   "metadata": {},
   "outputs": [],
   "source": []
  },
  {
   "cell_type": "code",
   "execution_count": null,
   "id": "3374e72c-c457-4095-a588-fb12f38b725c",
   "metadata": {},
   "outputs": [],
   "source": []
  },
  {
   "cell_type": "code",
   "execution_count": null,
   "id": "774c7c01-790d-4c86-8695-65254e325911",
   "metadata": {},
   "outputs": [],
   "source": []
  },
  {
   "cell_type": "code",
   "execution_count": null,
   "id": "1a5b87f3-5bf3-4955-a40f-80ff68ce627f",
   "metadata": {
    "scrolled": true
   },
   "outputs": [],
   "source": []
  },
  {
   "cell_type": "code",
   "execution_count": null,
   "id": "13d517c8-70fb-42ae-9843-7ff43136689b",
   "metadata": {},
   "outputs": [],
   "source": []
  },
  {
   "cell_type": "code",
   "execution_count": null,
   "id": "2b534e87-160c-4531-a146-d719a6c9b171",
   "metadata": {},
   "outputs": [],
   "source": []
  },
  {
   "cell_type": "code",
   "execution_count": null,
   "id": "cfb374b1-5274-4618-9331-6f515d5d8a4c",
   "metadata": {},
   "outputs": [],
   "source": []
  },
  {
   "cell_type": "code",
   "execution_count": null,
   "id": "96c33805-734b-4f8c-a5d7-8035b28a5a39",
   "metadata": {
    "scrolled": true
   },
   "outputs": [],
   "source": []
  },
  {
   "cell_type": "code",
   "execution_count": 2,
   "id": "f02cbb23-87cb-43d0-97de-e210de4d903e",
   "metadata": {},
   "outputs": [],
   "source": [
    "pln_ds = PubLayNetDataset(r\"/home/daniil/program/dataset/publaynet/\", \n",
    "                          r\"/home/daniil/program/dataset/tmp_pln\")"
   ]
  },
  {
   "cell_type": "code",
   "execution_count": 3,
   "id": "70fb788c-0e2f-4d8d-a227-60f1861f356a",
   "metadata": {},
   "outputs": [
    {
     "name": "stdout",
     "output_type": "stream",
     "text": [
      "train:\n",
      "    0.70%    \r"
     ]
    }
   ],
   "source": [
    "def fun_from_tmp_and_path_image(tmp_json, img_path):\n",
    "    doc = Document()\n",
    "    doc.set_from_path(img_path)\n",
    "    return {\"tmp\": tmp_json}\n",
    "\n",
    "\n",
    "rez = pln_ds.get_json_from_tmps_and_images(fun_from_tmp_and_path_image)"
   ]
  },
  {
   "cell_type": "code",
   "execution_count": 4,
   "id": "e7f03c8e-5914-4778-99f9-d24bb9c83cfe",
   "metadata": {},
   "outputs": [],
   "source": [
    "import os, json"
   ]
  },
  {
   "cell_type": "code",
   "execution_count": 23,
   "id": "f7ef7f98-4775-4688-9af3-dd98c55dccf1",
   "metadata": {},
   "outputs": [],
   "source": [
    "path_dataset = r\"/home/daniil/program/dataset/mini_ts_publaynet/\"\n",
    "path_dataset_train = os.path.join(path_dataset, \"train\")"
   ]
  },
  {
   "cell_type": "code",
   "execution_count": 8,
   "id": "591ab587-7e85-4b0e-abfe-dca949e3bbef",
   "metadata": {},
   "outputs": [],
   "source": [
    "path_train = os.path.join(path_dataset, \"train.json\")\n",
    "\n",
    "with open(path_train, \"r\") as f:\n",
    "    train_json = json.load(f)"
   ]
  },
  {
   "cell_type": "code",
   "execution_count": 11,
   "id": "45e77e81-b7d9-487f-bce8-392dbb4fe5ac",
   "metadata": {},
   "outputs": [
    {
     "name": "stdout",
     "output_type": "stream",
     "text": [
      "{'image_id': 0, 'bbox': [40.42, 444.87, 251.55, 63.86], 'category_id': 1}\n",
      "{'file_name': 'PMC3866684_00003.jpg', 'height': 811, 'id': 0, 'width': 613}\n"
     ]
    }
   ],
   "source": [
    "\n",
    "print(train_json[\"annotations\"][0])\n",
    "print(train_json[\"images\"][0])"
   ]
  },
  {
   "cell_type": "code",
   "execution_count": 13,
   "id": "a6b95c74-560f-4428-b343-4893e379af1d",
   "metadata": {},
   "outputs": [],
   "source": [
    "annotation_image = dict()\n",
    "for rez in train_json[\"annotations\"]:\n",
    "    if rez[\"image_id\"] in annotation_image.keys():\n",
    "        annotation_image[rez[\"image_id\"]].append(rez) \n",
    "    else:\n",
    "        annotation_image[rez[\"image_id\"]] = [rez]"
   ]
  },
  {
   "cell_type": "code",
   "execution_count": 24,
   "id": "3ccbd759-45f7-4299-a0f0-9b7ebc271ec1",
   "metadata": {},
   "outputs": [
    {
     "name": "stdout",
     "output_type": "stream",
     "text": [
      "кол-во изображений:\t 7514\n",
      "кол-во сегментов:\t 7514\n",
      "    99.99%    \r"
     ]
    }
   ],
   "source": [
    "LABEL_PUBLAYNET2IMGDOC = {\n",
    "    1:1, # text - text\n",
    "    2:2, # title - header\n",
    "    3:3, # list - list\n",
    "    4:4, # table - table\n",
    "    5:0, # figure -no_struct\n",
    "}\n",
    "\n",
    "def fun_additional_info(img_path):\n",
    "    with open(img_path+\".json\") as f:\n",
    "        rez = json.load(f)\n",
    "    return rez\n",
    "\n",
    "images = pln_ds._PubLayNetDataset__get_image_train_json(annotation_image.keys())\n",
    "images_len = len(images)\n",
    "print(f\"кол-во изображений:\\t {len(annotation_image)}\")\n",
    "print(f\"кол-во сегментов:\\t {images_len}\")\n",
    "\n",
    "for i, img in enumerate(images):\n",
    "    pr = i/images_len*100\n",
    "    print(f\"    {pr:.2f}%    \", end=\"\\r\" )\n",
    "    img_path = os.path.join(path_dataset_train, img[\"file_name\"])\n",
    "    additional_info = fun_additional_info(img_path)\n",
    "    blocks = [{\"x_top_left\":int(aimg[\"bbox\"][0]), \n",
    "               \"y_top_left\":int(aimg[\"bbox\"][1]),\n",
    "               \"width\": int(aimg[\"bbox\"][2]), \n",
    "               \"height\":int(aimg[\"bbox\"][3]),\n",
    "               \"label\": LABEL_PUBLAYNET2IMGDOC[aimg[\"category_id\"]]\n",
    "              }for aimg in annotation_image[img[\"id\"]]]\n",
    "    with open(os.path.join(pln_ds.tmp_path_train_jsons, img[\"file_name\"]+\".json\"), 'w') as f:\n",
    "        json.dump({\"blocks\": blocks, \"additional_info\": additional_info}, f)"
   ]
  },
  {
   "cell_type": "code",
   "execution_count": null,
   "id": "6d9dcaa9-cf6a-48ba-be18-6e7d8362fa5c",
   "metadata": {},
   "outputs": [],
   "source": []
  },
  {
   "cell_type": "code",
   "execution_count": 6,
   "id": "c956d48f-8b7a-4a42-bd51-7dde90dfea05",
   "metadata": {},
   "outputs": [],
   "source": [
    "import os"
   ]
  },
  {
   "cell_type": "code",
   "execution_count": 7,
   "id": "02d9890d-b3ac-4041-84d9-967fb283920a",
   "metadata": {},
   "outputs": [
    {
     "data": {
      "text/plain": [
       "'PMC3437971_00001.jpg'"
      ]
     },
     "execution_count": 7,
     "metadata": {},
     "output_type": "execute_result"
    }
   ],
   "source": [
    "os.path.basename(r'/home/daniil/program/dataset/tmp_publaynet/train/PMC3437971_00001.jpg')"
   ]
  },
  {
   "cell_type": "code",
   "execution_count": null,
   "id": "c75db7e9-c551-454e-99de-23988e2fb860",
   "metadata": {},
   "outputs": [],
   "source": []
  }
 ],
 "metadata": {
  "kernelspec": {
   "display_name": "Python 3 (ipykernel)",
   "language": "python",
   "name": "python3"
  },
  "language_info": {
   "codemirror_mode": {
    "name": "ipython",
    "version": 3
   },
   "file_extension": ".py",
   "mimetype": "text/x-python",
   "name": "python",
   "nbconvert_exporter": "python",
   "pygments_lexer": "ipython3",
   "version": "3.10.12"
  }
 },
 "nbformat": 4,
 "nbformat_minor": 5
}
