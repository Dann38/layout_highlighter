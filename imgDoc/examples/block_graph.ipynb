{
 "cells": [
  {
   "cell_type": "code",
   "execution_count": null,
   "id": "3caeb86d-6c0d-4dff-bf92-36e3ace18de2",
   "metadata": {},
   "outputs": [],
   "source": [
    "!python -m pip install \"../.\"\n",
    "# !python -m pip install matplotlib"
   ]
  },
  {
   "cell_type": "code",
   "execution_count": 1,
   "id": "f1877bcb-2c4f-4250-978b-4f44ad410ad6",
   "metadata": {},
   "outputs": [],
   "source": [
    "import pytesseract\n",
    "from img_doc.extractors.word_extractors import BaseWordExtractor\n",
    "from img_doc.data_structures import Word\n",
    "import numpy as np\n",
    "from typing import List\n",
    "\n",
    "class TesseractWordExtractor(BaseWordExtractor):\n",
    "    def extract_from_img(self, img: np) -> List[Word]:\n",
    "        tesseract_bboxes = pytesseract.image_to_data(\n",
    "            config=\"-l rus\",\n",
    "            image=img,\n",
    "            output_type=pytesseract.Output.DICT)\n",
    "        word_list = []\n",
    "        for index_bbox, level in enumerate(tesseract_bboxes[\"level\"]):\n",
    "            if level == 5:\n",
    "                word = Word(text = tesseract_bboxes[\"text\"][index_bbox])\n",
    "                word.set_point_and_size({\n",
    "                    \"x_top_left\":tesseract_bboxes[\"left\"][index_bbox],\n",
    "                    \"y_top_left\":tesseract_bboxes[\"top\"][index_bbox],\n",
    "                    \"width\":tesseract_bboxes[\"width\"][index_bbox],\n",
    "                    \"height\": tesseract_bboxes[\"height\"][index_bbox],\n",
    "                })\n",
    "                word_list.append(word)\n",
    "        return word_list\n",
    "\n",
    "word_ext = TesseractWordExtractor()\n",
    "\n",
    "from img_doc.extractors.block_extractors.block_extractor_from_word import KMeanBlockExtractor\n",
    "kmean_ext = KMeanBlockExtractor()\n"
   ]
  },
  {
   "cell_type": "code",
   "execution_count": null,
   "id": "400a39ee-20e2-4d03-8e4b-89111a6b384e",
   "metadata": {},
   "outputs": [],
   "source": [
    "from img_doc.data_structures import Image\n",
    "import os\n",
    "\n",
    "image = Image()\n",
    "image.set_img_from_path(os.path.join(\"img\", \"5.jpg\"))\n",
    "words = word_ext.extract_from_img(image.img)\n",
    "\n",
    "history = {\"no_join_blocks\":[], \"graph\": None }\n",
    "blocks = kmeanext.extract_from_word(words, history)\n",
    "\n",
    "for block in blocks:\n",
    "    x0 = block.segment.x_top_left\n",
    "    y0 = block.segment.y_top_left\n",
    "    x1 = block.segment.x_bottom_right\n",
    "    y1 = block.segment.y_bottom_right\n",
    "    plt.plot([x0, x0, x1, x1, x0], [y0, y1, y1, y0, y0])"
   ]
  },
  {
   "cell_type": "code",
   "execution_count": null,
   "id": "5122a9b2-b064-463a-b44b-2f46c5c65a73",
   "metadata": {},
   "outputs": [],
   "source": [
    "import matplotlib.pyplot as plt\n",
    "color = [\"g\", \"y\", \"k\", \"r\"]\n",
    "plt.figure(dpi=180)\n",
    "plt.imshow(image.img)"
   ]
  }
 ],
 "metadata": {
  "kernelspec": {
   "display_name": "Python 3 (ipykernel)",
   "language": "python",
   "name": "python3"
  },
  "language_info": {
   "codemirror_mode": {
    "name": "ipython",
    "version": 3
   },
   "file_extension": ".py",
   "mimetype": "text/x-python",
   "name": "python",
   "nbconvert_exporter": "python",
   "pygments_lexer": "ipython3",
   "version": "3.10.12"
  }
 },
 "nbformat": 4,
 "nbformat_minor": 5
}
