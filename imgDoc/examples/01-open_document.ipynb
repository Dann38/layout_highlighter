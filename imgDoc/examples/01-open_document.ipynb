{
 "cells": [
  {
   "cell_type": "code",
   "execution_count": 1,
   "id": "c3c0358a-9bbc-4372-9fd5-52a7991b689c",
   "metadata": {},
   "outputs": [
    {
     "name": "stderr",
     "output_type": "stream",
     "text": [
      "2024-02-22 10:21:50.697605: I external/local_tsl/tsl/cuda/cudart_stub.cc:31] Could not find cuda drivers on your machine, GPU will not be used.\n",
      "2024-02-22 10:21:50.733629: E external/local_xla/xla/stream_executor/cuda/cuda_dnn.cc:9261] Unable to register cuDNN factory: Attempting to register factory for plugin cuDNN when one has already been registered\n",
      "2024-02-22 10:21:50.733660: E external/local_xla/xla/stream_executor/cuda/cuda_fft.cc:607] Unable to register cuFFT factory: Attempting to register factory for plugin cuFFT when one has already been registered\n",
      "2024-02-22 10:21:50.734773: E external/local_xla/xla/stream_executor/cuda/cuda_blas.cc:1515] Unable to register cuBLAS factory: Attempting to register factory for plugin cuBLAS when one has already been registered\n",
      "2024-02-22 10:21:50.740575: I external/local_tsl/tsl/cuda/cudart_stub.cc:31] Could not find cuda drivers on your machine, GPU will not be used.\n",
      "2024-02-22 10:21:50.740985: I tensorflow/core/platform/cpu_feature_guard.cc:182] This TensorFlow binary is optimized to use available CPU instructions in performance-critical operations.\n",
      "To enable the following instructions: AVX2 FMA, in other operations, rebuild TensorFlow with the appropriate compiler flags.\n",
      "2024-02-22 10:21:51.498825: W tensorflow/compiler/tf2tensorrt/utils/py_utils.cc:38] TF-TRT Warning: Could not find TensorRT\n"
     ]
    }
   ],
   "source": [
    "from img_doc.document import Document"
   ]
  },
  {
   "cell_type": "code",
   "execution_count": 2,
   "id": "8f4b903b-a287-4326-87a8-2091334f0196",
   "metadata": {},
   "outputs": [
    {
     "data": {
      "text/plain": [
       "[<img_doc.document.page.page.Page at 0x7f7d695616f0>,\n",
       " <img_doc.document.page.page.Page at 0x7f7d5bc3e230>,\n",
       " <img_doc.document.page.page.Page at 0x7f7d5bc3e350>,\n",
       " <img_doc.document.page.page.Page at 0x7f7d5bc3e470>,\n",
       " <img_doc.document.page.page.Page at 0x7f7d5bc3e590>,\n",
       " <img_doc.document.page.page.Page at 0x7f7d5bc3e6b0>,\n",
       " <img_doc.document.page.page.Page at 0x7f7d5bc3e7d0>,\n",
       " <img_doc.document.page.page.Page at 0x7f7d5bc3e8f0>,\n",
       " <img_doc.document.page.page.Page at 0x7f7d5bc3ea10>,\n",
       " <img_doc.document.page.page.Page at 0x7f7d5bc3eb30>,\n",
       " <img_doc.document.page.page.Page at 0x7f7d5bc3ec50>,\n",
       " <img_doc.document.page.page.Page at 0x7f7d5bc3ed70>,\n",
       " <img_doc.document.page.page.Page at 0x7f7d5bc3ee90>,\n",
       " <img_doc.document.page.page.Page at 0x7f7d5bc3efb0>,\n",
       " <img_doc.document.page.page.Page at 0x7f7d5bc3f0d0>,\n",
       " <img_doc.document.page.page.Page at 0x7f7d5bc3f1f0>,\n",
       " <img_doc.document.page.page.Page at 0x7f7d5bc3f310>,\n",
       " <img_doc.document.page.page.Page at 0x7f7d5bc3f430>,\n",
       " <img_doc.document.page.page.Page at 0x7f7d5bc3f550>,\n",
       " <img_doc.document.page.page.Page at 0x7f7d5bc3f670>,\n",
       " <img_doc.document.page.page.Page at 0x7f7d5bc3f790>,\n",
       " <img_doc.document.page.page.Page at 0x7f7d5bc3f8b0>,\n",
       " <img_doc.document.page.page.Page at 0x7f7d5bc3f9d0>]"
      ]
     },
     "execution_count": 2,
     "metadata": {},
     "output_type": "execute_result"
    }
   ],
   "source": [
    "doc_pdf = Document()\n",
    "doc_pdf.set_from_path(\"pdf/Rosenblatt1958.pdf\")\n",
    "doc_pdf.pages"
   ]
  },
  {
   "cell_type": "code",
   "execution_count": 3,
   "id": "0d52b7c8-7f5c-4477-a1c1-3587b1d0f771",
   "metadata": {},
   "outputs": [
    {
     "data": {
      "text/plain": [
       "[<img_doc.document.page.page.Page at 0x7f7de050f9d0>]"
      ]
     },
     "execution_count": 3,
     "metadata": {},
     "output_type": "execute_result"
    }
   ],
   "source": [
    "doc_jpg = Document()\n",
    "doc_jpg.set_from_path(\"img/1.jpg\")\n",
    "doc_jpg.pages"
   ]
  },
  {
   "cell_type": "code",
   "execution_count": null,
   "id": "8a7fd035-61d1-4a0c-aa13-fa9364fb52bb",
   "metadata": {},
   "outputs": [],
   "source": []
  },
  {
   "cell_type": "code",
   "execution_count": null,
   "id": "dec66684-db2e-4ed1-9928-a04db299474b",
   "metadata": {},
   "outputs": [],
   "source": []
  }
 ],
 "metadata": {
  "kernelspec": {
   "display_name": "Python 3 (ipykernel)",
   "language": "python",
   "name": "python3"
  },
  "language_info": {
   "codemirror_mode": {
    "name": "ipython",
    "version": 3
   },
   "file_extension": ".py",
   "mimetype": "text/x-python",
   "name": "python",
   "nbconvert_exporter": "python",
   "pygments_lexer": "ipython3",
   "version": "3.10.12"
  }
 },
 "nbformat": 4,
 "nbformat_minor": 5
}
