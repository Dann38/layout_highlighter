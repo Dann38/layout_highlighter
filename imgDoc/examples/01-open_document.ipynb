{
 "cells": [
  {
   "cell_type": "code",
   "execution_count": 1,
   "id": "c3c0358a-9bbc-4372-9fd5-52a7991b689c",
   "metadata": {},
   "outputs": [],
   "source": [
    "from img_doc.document import Document"
   ]
  },
  {
   "cell_type": "code",
   "execution_count": 2,
   "id": "8f4b903b-a287-4326-87a8-2091334f0196",
   "metadata": {},
   "outputs": [
    {
     "data": {
      "text/plain": [
       "[<img_doc.document.page.page.Page at 0x7fb5d4546a10>,\n",
       " <img_doc.document.page.page.Page at 0x7fb59981a1a0>,\n",
       " <img_doc.document.page.page.Page at 0x7fb59981a2c0>,\n",
       " <img_doc.document.page.page.Page at 0x7fb59981a3e0>,\n",
       " <img_doc.document.page.page.Page at 0x7fb59981a500>,\n",
       " <img_doc.document.page.page.Page at 0x7fb59981a620>,\n",
       " <img_doc.document.page.page.Page at 0x7fb59981a740>,\n",
       " <img_doc.document.page.page.Page at 0x7fb59981a860>,\n",
       " <img_doc.document.page.page.Page at 0x7fb59981a980>,\n",
       " <img_doc.document.page.page.Page at 0x7fb59981aaa0>,\n",
       " <img_doc.document.page.page.Page at 0x7fb59981abc0>,\n",
       " <img_doc.document.page.page.Page at 0x7fb59981ace0>,\n",
       " <img_doc.document.page.page.Page at 0x7fb59981ae00>,\n",
       " <img_doc.document.page.page.Page at 0x7fb59981af20>,\n",
       " <img_doc.document.page.page.Page at 0x7fb59981b040>,\n",
       " <img_doc.document.page.page.Page at 0x7fb59981b160>,\n",
       " <img_doc.document.page.page.Page at 0x7fb59981b280>,\n",
       " <img_doc.document.page.page.Page at 0x7fb59981b3a0>,\n",
       " <img_doc.document.page.page.Page at 0x7fb59981b4c0>,\n",
       " <img_doc.document.page.page.Page at 0x7fb59981b5e0>,\n",
       " <img_doc.document.page.page.Page at 0x7fb59981b700>,\n",
       " <img_doc.document.page.page.Page at 0x7fb59981b820>,\n",
       " <img_doc.document.page.page.Page at 0x7fb59981b940>]"
      ]
     },
     "execution_count": 2,
     "metadata": {},
     "output_type": "execute_result"
    }
   ],
   "source": [
    "doc_pdf = Document()\n",
    "doc_pdf.set_from_path(\"pdf/Rosenblatt1958.pdf\")\n",
    "doc_pdf.pages"
   ]
  },
  {
   "cell_type": "code",
   "execution_count": 4,
   "id": "0d52b7c8-7f5c-4477-a1c1-3587b1d0f771",
   "metadata": {},
   "outputs": [
    {
     "data": {
      "text/plain": [
       "[<img_doc.document.page.page.Page at 0x7fb59981bf10>]"
      ]
     },
     "execution_count": 4,
     "metadata": {},
     "output_type": "execute_result"
    }
   ],
   "source": [
    "doc_jpg = Document()\n",
    "doc_jpg.set_from_path(\"img/1.jpg\")\n",
    "doc_jpg.pages"
   ]
  },
  {
   "cell_type": "code",
   "execution_count": null,
   "id": "8a7fd035-61d1-4a0c-aa13-fa9364fb52bb",
   "metadata": {},
   "outputs": [],
   "source": []
  },
  {
   "cell_type": "code",
   "execution_count": null,
   "id": "dec66684-db2e-4ed1-9928-a04db299474b",
   "metadata": {},
   "outputs": [],
   "source": []
  }
 ],
 "metadata": {
  "kernelspec": {
   "display_name": "Python 3 (ipykernel)",
   "language": "python",
   "name": "python3"
  },
  "language_info": {
   "codemirror_mode": {
    "name": "ipython",
    "version": 3
   },
   "file_extension": ".py",
   "mimetype": "text/x-python",
   "name": "python",
   "nbconvert_exporter": "python",
   "pygments_lexer": "ipython3",
   "version": "3.10.12"
  }
 },
 "nbformat": 4,
 "nbformat_minor": 5
}
