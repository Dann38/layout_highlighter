{
 "cells": [
  {
   "cell_type": "code",
   "execution_count": 1,
   "id": "c3c0358a-9bbc-4372-9fd5-52a7991b689c",
   "metadata": {},
   "outputs": [],
   "source": [
    "from img_doc import Document"
   ]
  },
  {
   "cell_type": "code",
   "execution_count": 11,
   "id": "8f4b903b-a287-4326-87a8-2091334f0196",
   "metadata": {},
   "outputs": [
    {
     "data": {
      "text/plain": [
       "[<img_doc.document.data_structures.page.page.Page at 0x7f0a3bfecc10>,\n",
       " <img_doc.document.data_structures.page.page.Page at 0x7f0a3b61ee00>,\n",
       " <img_doc.document.data_structures.page.page.Page at 0x7f0a3adebf40>,\n",
       " <img_doc.document.data_structures.page.page.Page at 0x7f0a3adebe50>,\n",
       " <img_doc.document.data_structures.page.page.Page at 0x7f0a3adeb850>,\n",
       " <img_doc.document.data_structures.page.page.Page at 0x7f0a3adebbe0>,\n",
       " <img_doc.document.data_structures.page.page.Page at 0x7f0a3adeb9d0>,\n",
       " <img_doc.document.data_structures.page.page.Page at 0x7f0a3adeb430>,\n",
       " <img_doc.document.data_structures.page.page.Page at 0x7f0a3adeb820>,\n",
       " <img_doc.document.data_structures.page.page.Page at 0x7f0a3adeb5e0>,\n",
       " <img_doc.document.data_structures.page.page.Page at 0x7f0a3adeb280>,\n",
       " <img_doc.document.data_structures.page.page.Page at 0x7f0a3adea9b0>,\n",
       " <img_doc.document.data_structures.page.page.Page at 0x7f0a3ade9ff0>,\n",
       " <img_doc.document.data_structures.page.page.Page at 0x7f0a3adeaf20>,\n",
       " <img_doc.document.data_structures.page.page.Page at 0x7f0a3adeae60>,\n",
       " <img_doc.document.data_structures.page.page.Page at 0x7f0a3adea050>,\n",
       " <img_doc.document.data_structures.page.page.Page at 0x7f0a3ade9510>,\n",
       " <img_doc.document.data_structures.page.page.Page at 0x7f0a3ade9330>,\n",
       " <img_doc.document.data_structures.page.page.Page at 0x7f0a3ade90c0>,\n",
       " <img_doc.document.data_structures.page.page.Page at 0x7f0a3ade9120>,\n",
       " <img_doc.document.data_structures.page.page.Page at 0x7f0a3ade8e20>,\n",
       " <img_doc.document.data_structures.page.page.Page at 0x7f0a3ade8e80>,\n",
       " <img_doc.document.data_structures.page.page.Page at 0x7f0a3ade85b0>]"
      ]
     },
     "execution_count": 11,
     "metadata": {},
     "output_type": "execute_result"
    }
   ],
   "source": [
    "doc_pdf = Document()\n",
    "doc_pdf.set_from_path(\"pdf/Rosenblatt1958.pdf\")\n",
    "doc_pdf.pages"
   ]
  },
  {
   "cell_type": "code",
   "execution_count": 12,
   "id": "0d52b7c8-7f5c-4477-a1c1-3587b1d0f771",
   "metadata": {},
   "outputs": [
    {
     "data": {
      "text/plain": [
       "[<img_doc.document.data_structures.page.page.Page at 0x7f0a3ade8070>]"
      ]
     },
     "execution_count": 12,
     "metadata": {},
     "output_type": "execute_result"
    }
   ],
   "source": [
    "doc_jpg = Document()\n",
    "doc_jpg.set_from_path(\"img/1.jpg\")\n",
    "doc_jpg.pages"
   ]
  },
  {
   "cell_type": "code",
   "execution_count": null,
   "id": "8a7fd035-61d1-4a0c-aa13-fa9364fb52bb",
   "metadata": {},
   "outputs": [],
   "source": []
  },
  {
   "cell_type": "code",
   "execution_count": null,
   "id": "dec66684-db2e-4ed1-9928-a04db299474b",
   "metadata": {},
   "outputs": [],
   "source": []
  }
 ],
 "metadata": {
  "kernelspec": {
   "display_name": "Python 3 (ipykernel)",
   "language": "python",
   "name": "python3"
  },
  "language_info": {
   "codemirror_mode": {
    "name": "ipython",
    "version": 3
   },
   "file_extension": ".py",
   "mimetype": "text/x-python",
   "name": "python",
   "nbconvert_exporter": "python",
   "pygments_lexer": "ipython3",
   "version": "3.10.12"
  }
 },
 "nbformat": 4,
 "nbformat_minor": 5
}
