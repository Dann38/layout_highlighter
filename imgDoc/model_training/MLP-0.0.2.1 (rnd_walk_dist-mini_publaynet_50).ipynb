{
 "cells": [
  {
   "cell_type": "code",
   "execution_count": 1,
   "id": "6cbb02fc-28e3-4cf8-849f-32d31488d991",
   "metadata": {},
   "outputs": [
    {
     "name": "stdout",
     "output_type": "stream",
     "text": [
      "Collecting tensorflow\n",
      "  Downloading tensorflow-2.15.0.post1-cp310-cp310-manylinux_2_17_x86_64.manylinux2014_x86_64.whl (475.2 MB)\n",
      "\u001b[2K     \u001b[38;2;114;156;31m━━━━━━━━━━━━━━━━━━━━━━━━━━━━━━━━━━━━━\u001b[0m \u001b[32m475.2/475.2 MB\u001b[0m \u001b[31m586.1 kB/s\u001b[0m eta \u001b[36m0:00:00\u001b[0mm eta \u001b[36m0:00:01\u001b[0m[36m0:00:15\u001b[0m\n",
      "\u001b[?25hCollecting gast!=0.5.0,!=0.5.1,!=0.5.2,>=0.2.1\n",
      "  Downloading gast-0.5.4-py3-none-any.whl (19 kB)\n",
      "Collecting libclang>=13.0.0\n",
      "  Downloading libclang-16.0.6-py2.py3-none-manylinux2010_x86_64.whl (22.9 MB)\n",
      "\u001b[2K     \u001b[38;2;114;156;31m━━━━━━━━━━━━━━━━━━━━━━━━━━━━━━━━━━━━━━━━\u001b[0m \u001b[32m22.9/22.9 MB\u001b[0m \u001b[31m1.8 MB/s\u001b[0m eta \u001b[36m0:00:00\u001b[0mm eta \u001b[36m0:00:01\u001b[0m[36m0:00:01\u001b[0mm\n",
      "\u001b[?25hCollecting tensorflow-estimator<2.16,>=2.15.0\n",
      "  Downloading tensorflow_estimator-2.15.0-py2.py3-none-any.whl (441 kB)\n",
      "\u001b[2K     \u001b[38;2;114;156;31m━━━━━━━━━━━━━━━━━━━━━━━━━━━━━━━━━━━━━━━\u001b[0m \u001b[32m442.0/442.0 KB\u001b[0m \u001b[31m2.1 MB/s\u001b[0m eta \u001b[36m0:00:00\u001b[0m MB/s\u001b[0m eta \u001b[36m0:00:01\u001b[0m:01\u001b[0m\n",
      "\u001b[?25hCollecting protobuf!=4.21.0,!=4.21.1,!=4.21.2,!=4.21.3,!=4.21.4,!=4.21.5,<5.0.0dev,>=3.20.3\n",
      "  Downloading protobuf-4.25.2-cp37-abi3-manylinux2014_x86_64.whl (294 kB)\n",
      "\u001b[2K     \u001b[38;2;114;156;31m━━━━━━━━━━━━━━━━━━━━━━━━━━━━━━━━━━━━━━━\u001b[0m \u001b[32m294.6/294.6 KB\u001b[0m \u001b[31m2.1 MB/s\u001b[0m eta \u001b[36m0:00:00\u001b[0m[31m2.2 MB/s\u001b[0m eta \u001b[36m0:00:01\u001b[0m\n",
      "\u001b[?25hCollecting astunparse>=1.6.0\n",
      "  Downloading astunparse-1.6.3-py2.py3-none-any.whl (12 kB)\n",
      "Collecting tensorflow-io-gcs-filesystem>=0.23.1\n",
      "  Downloading tensorflow_io_gcs_filesystem-0.36.0-cp310-cp310-manylinux_2_17_x86_64.manylinux2014_x86_64.whl (5.1 MB)\n",
      "\u001b[2K     \u001b[38;2;114;156;31m━━━━━━━━━━━━━━━━━━━━━━━━━━━━━━━━━━━━━━━━\u001b[0m \u001b[32m5.1/5.1 MB\u001b[0m \u001b[31m1.8 MB/s\u001b[0m eta \u001b[36m0:00:00\u001b[0mm eta \u001b[36m0:00:01\u001b[0m[36m0:00:01\u001b[0m\n",
      "\u001b[?25hRequirement already satisfied: setuptools in /home/daniil/program/python/project/layout_highlighter/imgDoc/env/lib/python3.10/site-packages (from tensorflow) (59.6.0)\n",
      "Collecting keras<2.16,>=2.15.0\n",
      "  Downloading keras-2.15.0-py3-none-any.whl (1.7 MB)\n",
      "\u001b[2K     \u001b[38;2;114;156;31m━━━━━━━━━━━━━━━━━━━━━━━━━━━━━━━━━━━━━━━━\u001b[0m \u001b[32m1.7/1.7 MB\u001b[0m \u001b[31m2.0 MB/s\u001b[0m eta \u001b[36m0:00:00\u001b[0m[36m0:00:01\u001b[0mm eta \u001b[36m0:00:01\u001b[0m\n",
      "\u001b[?25hCollecting grpcio<2.0,>=1.24.3\n",
      "  Downloading grpcio-1.60.1-cp310-cp310-manylinux_2_17_x86_64.manylinux2014_x86_64.whl (5.4 MB)\n",
      "\u001b[2K     \u001b[38;2;114;156;31m━━━━━━━━━━━━━━━━━━━━━━━━━━━━━━━━━━━━━━━━\u001b[0m \u001b[32m5.4/5.4 MB\u001b[0m \u001b[31m2.0 MB/s\u001b[0m eta \u001b[36m0:00:00\u001b[0mm eta \u001b[36m0:00:01\u001b[0m[36m0:00:01\u001b[0m\n",
      "\u001b[?25hCollecting flatbuffers>=23.5.26\n",
      "  Downloading flatbuffers-23.5.26-py2.py3-none-any.whl (26 kB)\n",
      "Requirement already satisfied: numpy<2.0.0,>=1.23.5 in /home/daniil/program/python/project/layout_highlighter/imgDoc/env/lib/python3.10/site-packages (from tensorflow) (1.26.3)\n",
      "Requirement already satisfied: packaging in /home/daniil/program/python/project/layout_highlighter/imgDoc/env/lib/python3.10/site-packages (from tensorflow) (23.2)\n",
      "Requirement already satisfied: six>=1.12.0 in /home/daniil/program/python/project/layout_highlighter/imgDoc/env/lib/python3.10/site-packages (from tensorflow) (1.16.0)\n",
      "Collecting opt-einsum>=2.3.2\n",
      "  Downloading opt_einsum-3.3.0-py3-none-any.whl (65 kB)\n",
      "\u001b[2K     \u001b[38;2;114;156;31m━━━━━━━━━━━━━━━━━━━━━━━━━━━━━━━━━━━━━━━━\u001b[0m \u001b[32m65.5/65.5 KB\u001b[0m \u001b[31m2.5 MB/s\u001b[0m eta \u001b[36m0:00:00\u001b[0m\n",
      "\u001b[?25hCollecting wrapt<1.15,>=1.11.0\n",
      "  Downloading wrapt-1.14.1-cp310-cp310-manylinux_2_5_x86_64.manylinux1_x86_64.manylinux_2_17_x86_64.manylinux2014_x86_64.whl (77 kB)\n",
      "\u001b[2K     \u001b[38;2;114;156;31m━━━━━━━━━━━━━━━━━━━━━━━━━━━━━━━━━━━━━━━━\u001b[0m \u001b[32m77.9/77.9 KB\u001b[0m \u001b[31m2.5 MB/s\u001b[0m eta \u001b[36m0:00:00\u001b[0m\n",
      "\u001b[?25hCollecting absl-py>=1.0.0\n",
      "  Downloading absl_py-2.1.0-py3-none-any.whl (133 kB)\n",
      "\u001b[2K     \u001b[38;2;114;156;31m━━━━━━━━━━━━━━━━━━━━━━━━━━━━━━━━━━━━━━━\u001b[0m \u001b[32m133.7/133.7 KB\u001b[0m \u001b[31m2.4 MB/s\u001b[0m eta \u001b[36m0:00:00\u001b[0m[31m2.7 MB/s\u001b[0m eta \u001b[36m0:00:01\u001b[0m\n",
      "\u001b[?25hCollecting tensorboard<2.16,>=2.15\n",
      "  Downloading tensorboard-2.15.1-py3-none-any.whl (5.5 MB)\n",
      "\u001b[2K     \u001b[38;2;114;156;31m━━━━━━━━━━━━━━━━━━━━━━━━━━━━━━━━━━━━━━━━\u001b[0m \u001b[32m5.5/5.5 MB\u001b[0m \u001b[31m2.1 MB/s\u001b[0m eta \u001b[36m0:00:00\u001b[0mm eta \u001b[36m0:00:01\u001b[0m[36m0:00:01\u001b[0m\n",
      "\u001b[?25hRequirement already satisfied: typing-extensions>=3.6.6 in /home/daniil/program/python/project/layout_highlighter/imgDoc/env/lib/python3.10/site-packages (from tensorflow) (4.9.0)\n",
      "Collecting ml-dtypes~=0.2.0\n",
      "  Downloading ml_dtypes-0.2.0-cp310-cp310-manylinux_2_17_x86_64.manylinux2014_x86_64.whl (1.0 MB)\n",
      "\u001b[2K     \u001b[38;2;114;156;31m━━━━━━━━━━━━━━━━━━━━━━━━━━━━━━━━━━━━━━━━\u001b[0m \u001b[32m1.0/1.0 MB\u001b[0m \u001b[31m2.3 MB/s\u001b[0m eta \u001b[36m0:00:00\u001b[0mm eta \u001b[36m0:00:01\u001b[0m[36m0:00:01\u001b[0m\n",
      "\u001b[?25hCollecting google-pasta>=0.1.1\n",
      "  Downloading google_pasta-0.2.0-py3-none-any.whl (57 kB)\n",
      "\u001b[2K     \u001b[38;2;114;156;31m━━━━━━━━━━━━━━━━━━━━━━━━━━━━━━━━━━━━━━━━\u001b[0m \u001b[32m57.5/57.5 KB\u001b[0m \u001b[31m2.9 MB/s\u001b[0m eta \u001b[36m0:00:00\u001b[0m\n",
      "\u001b[?25hCollecting h5py>=2.9.0\n",
      "  Downloading h5py-3.10.0-cp310-cp310-manylinux_2_17_x86_64.manylinux2014_x86_64.whl (4.8 MB)\n",
      "\u001b[2K     \u001b[38;2;114;156;31m━━━━━━━━━━━━━━━━━━━━━━━━━━━━━━━━━━━━━━━━\u001b[0m \u001b[32m4.8/4.8 MB\u001b[0m \u001b[31m2.8 MB/s\u001b[0m eta \u001b[36m0:00:00\u001b[0mm eta \u001b[36m0:00:01\u001b[0m0:01\u001b[0m:01\u001b[0m\n",
      "\u001b[?25hCollecting termcolor>=1.1.0\n",
      "  Downloading termcolor-2.4.0-py3-none-any.whl (7.7 kB)\n",
      "Collecting wheel<1.0,>=0.23.0\n",
      "  Using cached wheel-0.42.0-py3-none-any.whl (65 kB)\n",
      "Collecting google-auth-oauthlib<2,>=0.5\n",
      "  Downloading google_auth_oauthlib-1.2.0-py2.py3-none-any.whl (24 kB)\n",
      "Requirement already satisfied: requests<3,>=2.21.0 in /home/daniil/program/python/project/layout_highlighter/imgDoc/env/lib/python3.10/site-packages (from tensorboard<2.16,>=2.15->tensorflow) (2.31.0)\n",
      "Collecting werkzeug>=1.0.1\n",
      "  Using cached werkzeug-3.0.1-py3-none-any.whl (226 kB)\n",
      "Collecting markdown>=2.6.8\n",
      "  Downloading Markdown-3.5.2-py3-none-any.whl (103 kB)\n",
      "\u001b[2K     \u001b[38;2;114;156;31m━━━━━━━━━━━━━━━━━━━━━━━━━━━━━━━━━━━━━━━\u001b[0m \u001b[32m103.9/103.9 KB\u001b[0m \u001b[31m3.9 MB/s\u001b[0m eta \u001b[36m0:00:00\u001b[0m\n",
      "\u001b[?25hCollecting google-auth<3,>=1.6.3\n",
      "  Downloading google_auth-2.27.0-py2.py3-none-any.whl (186 kB)\n",
      "\u001b[2K     \u001b[38;2;114;156;31m━━━━━━━━━━━━━━━━━━━━━━━━━━━━━━━━━━━━━━━\u001b[0m \u001b[32m186.8/186.8 KB\u001b[0m \u001b[31m3.6 MB/s\u001b[0m eta \u001b[36m0:00:00\u001b[0m[31m4.5 MB/s\u001b[0m eta \u001b[36m0:00:01\u001b[0m\n",
      "\u001b[?25hCollecting protobuf!=4.21.0,!=4.21.1,!=4.21.2,!=4.21.3,!=4.21.4,!=4.21.5,<5.0.0dev,>=3.20.3\n",
      "  Downloading protobuf-4.23.4-cp37-abi3-manylinux2014_x86_64.whl (304 kB)\n",
      "\u001b[2K     \u001b[38;2;114;156;31m━━━━━━━━━━━━━━━━━━━━━━━━━━━━━━━━━━━━━━━\u001b[0m \u001b[32m304.5/304.5 KB\u001b[0m \u001b[31m3.0 MB/s\u001b[0m eta \u001b[36m0:00:00\u001b[0m MB/s\u001b[0m eta \u001b[36m0:00:01\u001b[0m\n",
      "\u001b[?25hCollecting tensorboard-data-server<0.8.0,>=0.7.0\n",
      "  Downloading tensorboard_data_server-0.7.2-py3-none-manylinux_2_31_x86_64.whl (6.6 MB)\n",
      "\u001b[2K     \u001b[38;2;114;156;31m━━━━━━━━━━━━━━━━━━━━━━━━━━━━━━━━━━━━━━━━\u001b[0m \u001b[32m6.6/6.6 MB\u001b[0m \u001b[31m3.8 MB/s\u001b[0m eta \u001b[36m0:00:00\u001b[0mm eta \u001b[36m0:00:01\u001b[0m0:01\u001b[0m:01\u001b[0m\n",
      "\u001b[?25hCollecting pyasn1-modules>=0.2.1\n",
      "  Using cached pyasn1_modules-0.3.0-py2.py3-none-any.whl (181 kB)\n",
      "Collecting cachetools<6.0,>=2.0.0\n",
      "  Using cached cachetools-5.3.2-py3-none-any.whl (9.3 kB)\n",
      "Collecting rsa<5,>=3.1.4\n",
      "  Using cached rsa-4.9-py3-none-any.whl (34 kB)\n",
      "Collecting requests-oauthlib>=0.7.0\n",
      "  Using cached requests_oauthlib-1.3.1-py2.py3-none-any.whl (23 kB)\n",
      "Requirement already satisfied: certifi>=2017.4.17 in /home/daniil/program/python/project/layout_highlighter/imgDoc/env/lib/python3.10/site-packages (from requests<3,>=2.21.0->tensorboard<2.16,>=2.15->tensorflow) (2024.2.2)\n",
      "Requirement already satisfied: idna<4,>=2.5 in /home/daniil/program/python/project/layout_highlighter/imgDoc/env/lib/python3.10/site-packages (from requests<3,>=2.21.0->tensorboard<2.16,>=2.15->tensorflow) (3.6)\n",
      "Requirement already satisfied: charset-normalizer<4,>=2 in /home/daniil/program/python/project/layout_highlighter/imgDoc/env/lib/python3.10/site-packages (from requests<3,>=2.21.0->tensorboard<2.16,>=2.15->tensorflow) (3.3.2)\n",
      "Requirement already satisfied: urllib3<3,>=1.21.1 in /home/daniil/program/python/project/layout_highlighter/imgDoc/env/lib/python3.10/site-packages (from requests<3,>=2.21.0->tensorboard<2.16,>=2.15->tensorflow) (2.2.0)\n",
      "Requirement already satisfied: MarkupSafe>=2.1.1 in /home/daniil/program/python/project/layout_highlighter/imgDoc/env/lib/python3.10/site-packages (from werkzeug>=1.0.1->tensorboard<2.16,>=2.15->tensorflow) (2.1.5)\n",
      "Collecting pyasn1<0.6.0,>=0.4.6\n",
      "  Using cached pyasn1-0.5.1-py2.py3-none-any.whl (84 kB)\n",
      "Collecting oauthlib>=3.0.0\n",
      "  Using cached oauthlib-3.2.2-py3-none-any.whl (151 kB)\n",
      "Installing collected packages: libclang, flatbuffers, wrapt, wheel, werkzeug, termcolor, tensorflow-io-gcs-filesystem, tensorflow-estimator, tensorboard-data-server, pyasn1, protobuf, opt-einsum, oauthlib, ml-dtypes, markdown, keras, h5py, grpcio, google-pasta, gast, cachetools, absl-py, rsa, requests-oauthlib, pyasn1-modules, astunparse, google-auth, google-auth-oauthlib, tensorboard, tensorflow\n",
      "Successfully installed absl-py-2.1.0 astunparse-1.6.3 cachetools-5.3.2 flatbuffers-23.5.26 gast-0.5.4 google-auth-2.27.0 google-auth-oauthlib-1.2.0 google-pasta-0.2.0 grpcio-1.60.1 h5py-3.10.0 keras-2.15.0 libclang-16.0.6 markdown-3.5.2 ml-dtypes-0.2.0 oauthlib-3.2.2 opt-einsum-3.3.0 protobuf-4.23.4 pyasn1-0.5.1 pyasn1-modules-0.3.0 requests-oauthlib-1.3.1 rsa-4.9 tensorboard-2.15.1 tensorboard-data-server-0.7.2 tensorflow-2.15.0.post1 tensorflow-estimator-2.15.0 tensorflow-io-gcs-filesystem-0.36.0 termcolor-2.4.0 werkzeug-3.0.1 wheel-0.42.0 wrapt-1.14.1\n",
      "Collecting tf-nightly\n",
      "  Downloading tf_nightly-2.16.0.dev20240206-cp310-cp310-manylinux_2_17_x86_64.manylinux2014_x86_64.whl (590.8 MB)\n",
      "\u001b[2K     \u001b[38;2;114;156;31m━━━━━━━━━━━━━━━━━━━━━━━━━━━━━━━━━━━━━\u001b[0m \u001b[32m590.8/590.8 MB\u001b[0m \u001b[31m902.5 kB/s\u001b[0m eta \u001b[36m0:00:00\u001b[0mm eta \u001b[36m0:00:01\u001b[0m[36m0:00:11\u001b[0m\n",
      "\u001b[?25hRequirement already satisfied: protobuf!=4.21.0,!=4.21.1,!=4.21.2,!=4.21.3,!=4.21.4,!=4.21.5,<5.0.0dev,>=3.20.3 in /home/daniil/program/python/project/layout_highlighter/imgDoc/env/lib/python3.10/site-packages (from tf-nightly) (4.23.4)\n",
      "Requirement already satisfied: google-pasta>=0.1.1 in /home/daniil/program/python/project/layout_highlighter/imgDoc/env/lib/python3.10/site-packages (from tf-nightly) (0.2.0)\n",
      "Requirement already satisfied: numpy<2.0.0,>=1.23.5 in /home/daniil/program/python/project/layout_highlighter/imgDoc/env/lib/python3.10/site-packages (from tf-nightly) (1.26.3)\n",
      "Requirement already satisfied: gast!=0.5.0,!=0.5.1,!=0.5.2,>=0.2.1 in /home/daniil/program/python/project/layout_highlighter/imgDoc/env/lib/python3.10/site-packages (from tf-nightly) (0.5.4)\n",
      "Requirement already satisfied: libclang>=13.0.0 in /home/daniil/program/python/project/layout_highlighter/imgDoc/env/lib/python3.10/site-packages (from tf-nightly) (16.0.6)\n",
      "Requirement already satisfied: grpcio<2.0,>=1.24.3 in /home/daniil/program/python/project/layout_highlighter/imgDoc/env/lib/python3.10/site-packages (from tf-nightly) (1.60.1)\n",
      "Collecting ml-dtypes~=0.3.1\n",
      "  Downloading ml_dtypes-0.3.2-cp310-cp310-manylinux_2_17_x86_64.manylinux2014_x86_64.whl (2.2 MB)\n",
      "\u001b[2K     \u001b[38;2;114;156;31m━━━━━━━━━━━━━━━━━━━━━━━━━━━━━━━━━━━━━━━━\u001b[0m \u001b[32m2.2/2.2 MB\u001b[0m \u001b[31m1.1 MB/s\u001b[0m eta \u001b[36m0:00:00\u001b[0mm eta \u001b[36m0:00:01\u001b[0m[36m0:00:01\u001b[0m\n",
      "\u001b[?25hRequirement already satisfied: astunparse>=1.6.0 in /home/daniil/program/python/project/layout_highlighter/imgDoc/env/lib/python3.10/site-packages (from tf-nightly) (1.6.3)\n",
      "Requirement already satisfied: packaging in /home/daniil/program/python/project/layout_highlighter/imgDoc/env/lib/python3.10/site-packages (from tf-nightly) (23.2)\n",
      "Requirement already satisfied: flatbuffers>=23.5.26 in /home/daniil/program/python/project/layout_highlighter/imgDoc/env/lib/python3.10/site-packages (from tf-nightly) (23.5.26)\n",
      "Requirement already satisfied: six>=1.12.0 in /home/daniil/program/python/project/layout_highlighter/imgDoc/env/lib/python3.10/site-packages (from tf-nightly) (1.16.0)\n",
      "Requirement already satisfied: h5py>=3.10.0 in /home/daniil/program/python/project/layout_highlighter/imgDoc/env/lib/python3.10/site-packages (from tf-nightly) (3.10.0)\n",
      "Requirement already satisfied: termcolor>=1.1.0 in /home/daniil/program/python/project/layout_highlighter/imgDoc/env/lib/python3.10/site-packages (from tf-nightly) (2.4.0)\n",
      "Requirement already satisfied: absl-py>=1.0.0 in /home/daniil/program/python/project/layout_highlighter/imgDoc/env/lib/python3.10/site-packages (from tf-nightly) (2.1.0)\n",
      "Requirement already satisfied: setuptools in /home/daniil/program/python/project/layout_highlighter/imgDoc/env/lib/python3.10/site-packages (from tf-nightly) (59.6.0)\n",
      "Collecting keras-nightly~=3.0.0.dev\n",
      "  Downloading keras_nightly-3.0.4.dev2024020703-py3-none-any.whl (1.0 MB)\n",
      "\u001b[2K     \u001b[38;2;114;156;31m━━━━━━━━━━━━━━━━━━━━━━━━━━━━━━━━━━━━━━━━\u001b[0m \u001b[32m1.0/1.0 MB\u001b[0m \u001b[31m999.3 kB/s\u001b[0m eta \u001b[36m0:00:00\u001b[0meta \u001b[36m0:00:01\u001b[0m[36m0:00:01\u001b[0m\n",
      "\u001b[?25hRequirement already satisfied: tensorflow-io-gcs-filesystem>=0.23.1 in /home/daniil/program/python/project/layout_highlighter/imgDoc/env/lib/python3.10/site-packages (from tf-nightly) (0.36.0)\n",
      "Requirement already satisfied: wrapt<1.15,>=1.11.0 in /home/daniil/program/python/project/layout_highlighter/imgDoc/env/lib/python3.10/site-packages (from tf-nightly) (1.14.1)\n",
      "Requirement already satisfied: typing-extensions>=3.6.6 in /home/daniil/program/python/project/layout_highlighter/imgDoc/env/lib/python3.10/site-packages (from tf-nightly) (4.9.0)\n",
      "Collecting tb-nightly~=2.16.0.a\n",
      "  Downloading tb_nightly-2.16.0a20240206-py3-none-any.whl (5.5 MB)\n",
      "\u001b[2K     \u001b[38;2;114;156;31m━━━━━━━━━━━━━━━━━━━━━━━━━━━━━━━━━━━━━━━━\u001b[0m \u001b[32m5.5/5.5 MB\u001b[0m \u001b[31m1.3 MB/s\u001b[0m eta \u001b[36m0:00:00\u001b[0mm eta \u001b[36m0:00:01\u001b[0m[36m0:00:01\u001b[0m\n",
      "\u001b[?25hRequirement already satisfied: opt-einsum>=2.3.2 in /home/daniil/program/python/project/layout_highlighter/imgDoc/env/lib/python3.10/site-packages (from tf-nightly) (3.3.0)\n",
      "Requirement already satisfied: requests<3,>=2.21.0 in /home/daniil/program/python/project/layout_highlighter/imgDoc/env/lib/python3.10/site-packages (from tf-nightly) (2.31.0)\n",
      "Requirement already satisfied: wheel<1.0,>=0.23.0 in /home/daniil/program/python/project/layout_highlighter/imgDoc/env/lib/python3.10/site-packages (from astunparse>=1.6.0->tf-nightly) (0.42.0)\n",
      "Collecting rich\n",
      "  Downloading rich-13.7.0-py3-none-any.whl (240 kB)\n",
      "\u001b[2K     \u001b[38;2;114;156;31m━━━━━━━━━━━━━━━━━━━━━━━━━━━━━━━━━━━━━━━\u001b[0m \u001b[32m240.6/240.6 KB\u001b[0m \u001b[31m1.3 MB/s\u001b[0m eta \u001b[36m0:00:00\u001b[0m MB/s\u001b[0m eta \u001b[36m0:00:01\u001b[0m:01\u001b[0m\n",
      "\u001b[?25hCollecting namex\n",
      "  Downloading namex-0.0.7-py3-none-any.whl (5.8 kB)\n",
      "Collecting dm-tree\n",
      "  Downloading dm_tree-0.1.8-cp310-cp310-manylinux_2_17_x86_64.manylinux2014_x86_64.whl (152 kB)\n",
      "\u001b[2K     \u001b[38;2;114;156;31m━━━━━━━━━━━━━━━━━━━━━━━━━━━━━━━━━━━━━━━\u001b[0m \u001b[32m152.8/152.8 KB\u001b[0m \u001b[31m1.3 MB/s\u001b[0m eta \u001b[36m0:00:00\u001b[0m[31m1.7 MB/s\u001b[0m eta \u001b[36m0:00:01\u001b[0m\n",
      "\u001b[?25hRequirement already satisfied: idna<4,>=2.5 in /home/daniil/program/python/project/layout_highlighter/imgDoc/env/lib/python3.10/site-packages (from requests<3,>=2.21.0->tf-nightly) (3.6)\n",
      "Requirement already satisfied: charset-normalizer<4,>=2 in /home/daniil/program/python/project/layout_highlighter/imgDoc/env/lib/python3.10/site-packages (from requests<3,>=2.21.0->tf-nightly) (3.3.2)\n",
      "Requirement already satisfied: certifi>=2017.4.17 in /home/daniil/program/python/project/layout_highlighter/imgDoc/env/lib/python3.10/site-packages (from requests<3,>=2.21.0->tf-nightly) (2024.2.2)\n",
      "Requirement already satisfied: urllib3<3,>=1.21.1 in /home/daniil/program/python/project/layout_highlighter/imgDoc/env/lib/python3.10/site-packages (from requests<3,>=2.21.0->tf-nightly) (2.2.0)\n",
      "Requirement already satisfied: markdown>=2.6.8 in /home/daniil/program/python/project/layout_highlighter/imgDoc/env/lib/python3.10/site-packages (from tb-nightly~=2.16.0.a->tf-nightly) (3.5.2)\n",
      "Requirement already satisfied: werkzeug>=1.0.1 in /home/daniil/program/python/project/layout_highlighter/imgDoc/env/lib/python3.10/site-packages (from tb-nightly~=2.16.0.a->tf-nightly) (3.0.1)\n",
      "Collecting tf-keras-nightly\n",
      "  Downloading tf_keras_nightly-2.16.0.dev2024020610-py3-none-any.whl (1.7 MB)\n",
      "\u001b[2K     \u001b[38;2;114;156;31m━━━━━━━━━━━━━━━━━━━━━━━━━━━━━━━━━━━━━━━━\u001b[0m \u001b[32m1.7/1.7 MB\u001b[0m \u001b[31m1.2 MB/s\u001b[0m eta \u001b[36m0:00:00\u001b[0mm eta \u001b[36m0:00:01\u001b[0m[36m0:00:01\u001b[0m\n",
      "\u001b[?25hRequirement already satisfied: tensorboard-data-server<0.8.0,>=0.7.0 in /home/daniil/program/python/project/layout_highlighter/imgDoc/env/lib/python3.10/site-packages (from tb-nightly~=2.16.0.a->tf-nightly) (0.7.2)\n",
      "Requirement already satisfied: MarkupSafe>=2.1.1 in /home/daniil/program/python/project/layout_highlighter/imgDoc/env/lib/python3.10/site-packages (from werkzeug>=1.0.1->tb-nightly~=2.16.0.a->tf-nightly) (2.1.5)\n",
      "Collecting markdown-it-py>=2.2.0\n",
      "  Downloading markdown_it_py-3.0.0-py3-none-any.whl (87 kB)\n",
      "\u001b[2K     \u001b[38;2;114;156;31m━━━━━━━━━━━━━━━━━━━━━━━━━━━━━━━━━━━━━━━━\u001b[0m \u001b[32m87.5/87.5 KB\u001b[0m \u001b[31m1.3 MB/s\u001b[0m eta \u001b[36m0:00:00\u001b[0m[31m1.1 MB/s\u001b[0m eta \u001b[36m0:00:01\u001b[0m\n",
      "\u001b[?25hRequirement already satisfied: pygments<3.0.0,>=2.13.0 in /home/daniil/program/python/project/layout_highlighter/imgDoc/env/lib/python3.10/site-packages (from rich->keras-nightly~=3.0.0.dev->tf-nightly) (2.17.2)\n",
      "Collecting mdurl~=0.1\n",
      "  Downloading mdurl-0.1.2-py3-none-any.whl (10.0 kB)\n",
      "Installing collected packages: namex, dm-tree, tf-keras-nightly, ml-dtypes, mdurl, tb-nightly, markdown-it-py, rich, keras-nightly, tf-nightly\n",
      "  Attempting uninstall: ml-dtypes\n",
      "    Found existing installation: ml-dtypes 0.2.0\n",
      "    Uninstalling ml-dtypes-0.2.0:\n",
      "      Successfully uninstalled ml-dtypes-0.2.0\n",
      "\u001b[31mERROR: pip's dependency resolver does not currently take into account all the packages that are installed. This behaviour is the source of the following dependency conflicts.\n",
      "tensorflow 2.15.0.post1 requires ml-dtypes~=0.2.0, but you have ml-dtypes 0.3.2 which is incompatible.\u001b[0m\u001b[31m\n",
      "\u001b[0mSuccessfully installed dm-tree-0.1.8 keras-nightly-3.0.4.dev2024020703 markdown-it-py-3.0.0 mdurl-0.1.2 ml-dtypes-0.3.2 namex-0.0.7 rich-13.7.0 tb-nightly-2.16.0a20240206 tf-keras-nightly-2.16.0.dev2024020610 tf-nightly-2.16.0.dev20240206\n"
     ]
    }
   ],
   "source": [
    "!python -m pip install tensorflow\n",
    "!python -m pip install tf-nightly"
   ]
  },
  {
   "cell_type": "code",
   "execution_count": 2,
   "id": "6a641b10-835b-46a6-918a-90a14755887b",
   "metadata": {},
   "outputs": [
    {
     "name": "stderr",
     "output_type": "stream",
     "text": [
      "2024-02-07 14:42:12.885460: I external/local_tsl/tsl/cuda/cudart_stub.cc:32] Could not find cuda drivers on your machine, GPU will not be used.\n",
      "2024-02-07 14:42:12.889092: I external/local_tsl/tsl/cuda/cudart_stub.cc:32] Could not find cuda drivers on your machine, GPU will not be used.\n",
      "2024-02-07 14:42:12.933083: I tensorflow/core/platform/cpu_feature_guard.cc:210] This TensorFlow binary is optimized to use available CPU instructions in performance-critical operations.\n",
      "To enable the following instructions: AVX2 FMA, in other operations, rebuild TensorFlow with the appropriate compiler flags.\n",
      "2024-02-07 14:42:17.529816: W tensorflow/compiler/tf2tensorrt/utils/py_utils.cc:38] TF-TRT Warning: Could not find TensorRT\n"
     ]
    }
   ],
   "source": [
    "import tensorflow as tf\n",
    "tf.random.set_seed(22)"
   ]
  },
  {
   "cell_type": "code",
   "execution_count": 30,
   "id": "5c4c4b5a-ffec-4fc7-819d-12d63a145bc3",
   "metadata": {},
   "outputs": [],
   "source": [
    "import json\n",
    "import numpy as np\n",
    "import pandas as pd\n",
    "from time import time\n",
    "import random\n",
    "import matplotlib.pyplot as plt"
   ]
  },
  {
   "cell_type": "code",
   "execution_count": 4,
   "id": "d91ebc77-9780-41cc-8e49-d253fbd676f7",
   "metadata": {},
   "outputs": [],
   "source": [
    "name_model = \"mlp_rnd_walk_many_dist-mini_publaynet_50\"\n",
    "with open(f\"./dataset/json/{name_model}.json\", \"r\") as f:\n",
    "    dataset = json.load(f)"
   ]
  },
  {
   "cell_type": "code",
   "execution_count": 5,
   "id": "229cfcc2-75d8-486e-a52b-214aeaeddbab",
   "metadata": {},
   "outputs": [
    {
     "name": "stdout",
     "output_type": "stream",
     "text": [
      "Первый x:\n",
      " [0.0010090817356205853, 0.0, 0.0030272452068617556, 0.0010090817356205853, 0.0030272452068617556, 0.0, 0.0, 0.0030272452068617556, 0.0030272452068617556, 0.0, 0.0, 0.0030272452068617556, 0.0020181634712411706, 0.0030272452068617556, 0.005045408678102927, 0.0030272452068617556, 0.0030272452068617556, 0.0, 0.0, 0.0030272452068617556, 0.0010090817356205853, 0.0, 0.0030272452068617556, 0.0010090817356205853, 0.0030272452068617556, 0.0, 0.0, 0.0030272452068617556, 0.0030272452068617556, 0.0, 0.0, 0.0030272452068617556, 0.0010090817356205853, 0.0, 0.0030272452068617556, 0.0010090817356205853, 0.0030272452068617556, 0.0, 0.0, 0.0030272452068617556, 0.0020181634712411706, 0.0030272452068617556, 0.005045408678102927, 0.0030272452068617556, 0.005045408678102927, 0.020181634712411706, 0.0, 0.028254288597376387, 0.0020181634712411706, 0.0030272452068617556, 0.005045408678102927, 0.0030272452068617556, 0.0020181634712411706, 0.0030272452068617556, 0.005045408678102927, 0.0030272452068617556, 0.005045408678102927, 0.011099899091826439, 0.0, 0.0020181634712411706, 0.016145307769929364, 0.0020181634712411706, 0.0, 0.011099899091826439, 0.016145307769929364, 0.0020181634712411706, 0.0, 0.011099899091826439, 0.005045408678102927, 0.0020181634712411706, 0.016145307769929364, 0.0020181634712411706, 0.0, 0.0030272452068617556, 0.005045408678102927, 0.0030272452068617556, 0.0020181634712411706, 0.0020181634712411706, 0.005045408678102927, 0.0030272452068617556, 0.0, 0.0010090817356205853, 0.0020181634712411706, 0.004036326942482341, 0.0020181634712411706, 0.0020181634712411706, 0.005045408678102927, 0.0030272452068617556, 0.0, 0.0010090817356205853, 0.0020181634712411706, 0.004036326942482341, 0.0, 0.0010090817356205853, 0.005045408678102927, 0.0020181634712411706, 0.0030272452068617556, 0.0020181634712411706, 0.02320887991927346, 0.0010090817356205853, 0.012108980827447022, 0.0020181634712411706, 0.0, 0.034308779011099896, 0.012108980827447022, 0.0020181634712411706, 0.0, 0.034308779011099896, 0.027245206861755803, 0.0, 0.0, 0.0020181634712411706, 0.004036326942482341, 0.0, 0.027245206861755803, 0.004036326942482341, 0.0, 0.0, 0.004036326942482341, 0.0030272452068617556, 0.0, 0.0, 0.004036326942482341, 0.0030272452068617556, 0.0, 0.0, 0.004036326942482341, 0.0030272452068617556, 0.0, 0.0, 0.004036326942482341, 0.0030272452068617556, 0.004036326942482341, 0.0, 0.027245206861755803, 0.004036326942482341, 0.0, 0.0, 0.004036326942482341, 0.0030272452068617556, 0.0, 0.0030272452068617556, 0.0030272452068617556, 0.004036326942482341, 0.0030272452068617556, 0.0020181634712411706, 0.02320887991927346, 0.0010090817356205853, 0.0, 0.0030272452068617556, 0.0030272452068617556, 0.004036326942482341, 0.0030272452068617556, 0.0020181634712411706, 0.02320887991927346, 0.0010090817356205853, 0.0, 0.004036326942482341, 0.0010090817356205853, 0.0020181634712411706, 0.0010090817356205853, 0.0, 0.0030272452068617556, 0.0010090817356205853, 0.013118062563067608, 0.0010090817356205853, 0.012108980827447022, 0.0010090817356205853, 0.012108980827447022, 0.0020181634712411706, 0.0, 0.034308779011099896, 0.012108980827447022, 0.0020181634712411706, 0.0, 0.034308779011099896, 0.027245206861755803, 0.0, 0.0, 0.0020181634712411706, 0.012108980827447022, 0.0020181634712411706, 0.0, 0.034308779011099896, 0.012108980827447022, 0.0020181634712411706, 0.0, 0.034308779011099896, 0.012108980827447022, 0.0020181634712411706, 0.0, 0.034308779011099896, 0.013118062563067608, 0.0010090817356205853, 0.012108980827447022, 0.0010090817356205853, 0.0010090817356205853, 0.0, 0.0030272452068617556, 0.0010090817356205853]\n",
      "Последний, x:\n",
      " [0.012594458438287154, 0.0033585222502099076, 0.0, 0.0033585222502099076, 0.0016792611251049538, 0.0, 0.014273719563392108, 0.0033585222502099076, 0.014273719563392108, 0.0, 0.0, 0.0033585222502099076, 0.0041981528127623844, 0.0033585222502099076, 0.0041981528127623844, 0.0033585222502099076, 0.0041981528127623844, 0.0, 0.0, 0.005037783375314861, 0.0041981528127623844, 0.0033585222502099076, 0.0041981528127623844, 0.0033585222502099076, 0.0025188916876574307, 0.0033585222502099076, 0.0025188916876574307, 0.0041981528127623844, 0.014273719563392108, 0.0041981528127623844, 0.0, 0.0033585222502099076, 0.0025188916876574307, 0.0033585222502099076, 0.0025188916876574307, 0.0041981528127623844, 0.0025188916876574307, 0.005037783375314861, 0.0, 0.005877413937867338, 0.0025188916876574307, 0.0033585222502099076, 0.0025188916876574307, 0.0041981528127623844, 0.012594458438287154, 0.005037783375314861, 0.0025188916876574307, 0.005037783375314861, 0.005877413937867338, 0.009235936188077247, 0.0041981528127623844, 0.005037783375314861, 0.0041981528127623844, 0.0033585222502099076, 0.005877413937867338, 0.0033585222502099076, 0.0033585222502099076, 0.0033585222502099076, 0.0033585222502099076, 0.0033585222502099076, 0.014273719563392108, 0.0033585222502099076, 0.0033585222502099076, 0.0025188916876574307, 0.0041981528127623844, 0.0025188916876574307, 0.0041981528127623844, 0.0033585222502099076, 0.0041981528127623844, 0.0033585222502099076, 0.005877413937867338, 0.0033585222502099076, 0.0041981528127623844, 0.0025188916876574307, 0.0041981528127623844, 0.0033585222502099076, 0.014273719563392108, 0.0033585222502099076, 0.0033585222502099076, 0.0025188916876574307, 0.0025188916876574307, 0.0025188916876574307, 0.005037783375314861, 0.0025188916876574307, 0.01343408900083963, 0.0025188916876574307, 0.0016792611251049538, 0.0025188916876574307, 0.0041981528127623844, 0.0008396305625524769, 0.0025188916876574307, 0.0, 0.01595298068849706, 0.011754827875734676, 0.022670025188916875, 0.0008396305625524769, 0.0025188916876574307, 0.0025188916876574307, 0.005037783375314861, 0.0025188916876574307, 0.0025188916876574307, 0.0033585222502099076, 0.0025188916876574307, 0.0033585222502099076, 0.022670025188916875, 0.0041981528127623844, 0.01343408900083963, 0.0041981528127623844, 0.005037783375314861, 0.0041981528127623844, 0.0016792611251049538, 0.0, 0.005037783375314861, 0.0041981528127623844, 0.0016792611251049538, 0.0, 0.0016792611251049538, 0.017632241813602016, 0.0041981528127623844, 0.0, 0.005037783375314861, 0.0041981528127623844, 0.0016792611251049538, 0.0, 0.005037783375314861, 0.0041981528127623844, 0.0016792611251049538, 0.0, 0.022670025188916875, 0.0041981528127623844, 0.01343408900083963, 0.0041981528127623844, 0.0041981528127623844, 0.0033585222502099076, 0.0025188916876574307, 0.0041981528127623844, 0.0025188916876574307, 0.0033585222502099076, 0.0025188916876574307, 0.0033585222502099076, 0.0041981528127623844, 0.0033585222502099076, 0.0025188916876574307, 0.0041981528127623844, 0.0041981528127623844, 0.0033585222502099076, 0.014273719563392108, 0.0033585222502099076, 0.0041981528127623844, 0.0033585222502099076, 0.0025188916876574307, 0.0041981528127623844, 0.0025188916876574307, 0.0033585222502099076, 0.0025188916876574307, 0.0033585222502099076, 0.0025188916876574307, 0.0025188916876574307, 0.005037783375314861, 0.0025188916876574307, 0.0025188916876574307, 0.0033585222502099076, 0.0025188916876574307, 0.0033585222502099076, 0.022670025188916875, 0.0041981528127623844, 0.01343408900083963, 0.0041981528127623844, 0.01343408900083963, 0.0025188916876574307, 0.0016792611251049538, 0.0025188916876574307, 0.0016792611251049538, 0.0033585222502099076, 0.012594458438287154, 0.0033585222502099076, 0.005037783375314861, 0.0033585222502099076, 0.0041981528127623844, 0.0033585222502099076, 0.0025188916876574307, 0.0025188916876574307, 0.005037783375314861, 0.0025188916876574307, 0.01343408900083963, 0.0025188916876574307, 0.0016792611251049538, 0.0025188916876574307, 0.022670025188916875, 0.0041981528127623844, 0.01343408900083963, 0.0041981528127623844, 0.02518891687657431, 0.0033585222502099076, 0.022670025188916875, 0.0033585222502099076, 0.005877413937867338, 0.0033585222502099076, 0.02518891687657431, 0.0033585222502099076]\n",
      "Размер x:\t 200\n",
      "Первый y:\t 1\n",
      "Последний y:\t 1\n",
      "Кол-во записей:\t 4997\n"
     ]
    }
   ],
   "source": [
    "print(\"Первый x:\\n\", dataset[\"x\"][0])\n",
    "print(\"Последний, x:\\n\", dataset[\"x\"][-1])\n",
    "print(\"Размер x:\\t\", len(dataset[\"x\"][0]))\n",
    "print(\"Первый y:\\t\", dataset[\"y\"][0])\n",
    "print(\"Последний y:\\t\", dataset[\"y\"][0])\n",
    "print(\"Кол-во записей:\\t\", len(dataset[\"x\"]))"
   ]
  },
  {
   "cell_type": "code",
   "execution_count": 159,
   "id": "427e2492-1540-48c8-a651-15c3faa3e7b4",
   "metadata": {},
   "outputs": [],
   "source": [
    "X = np.array(dataset[\"x\"])\n",
    "y = np.array(dataset[\"y\"])\n"
   ]
  },
  {
   "cell_type": "code",
   "execution_count": 160,
   "id": "78aed930-31fb-402b-a0e7-a88f672033ff",
   "metadata": {},
   "outputs": [
    {
     "data": {
      "text/plain": [
       "(4997, 4997)"
      ]
     },
     "execution_count": 160,
     "metadata": {},
     "output_type": "execute_result"
    }
   ],
   "source": [
    "len(y), len(X)"
   ]
  },
  {
   "cell_type": "code",
   "execution_count": 164,
   "id": "3d926d22-f4b9-4f08-9887-ccd3f5085982",
   "metadata": {},
   "outputs": [
    {
     "data": {
      "text/plain": [
       "({1: array([1., 0., 0., 0., 0.]),\n",
       "  2: array([0., 1., 0., 0., 0.]),\n",
       "  3: array([0., 0., 1., 0., 0.]),\n",
       "  4: array([0., 0., 0., 1., 0.]),\n",
       "  5: array([0., 0., 0., 0., 1.])},\n",
       " array([[1., 0., 0., 0., 0.],\n",
       "        [1., 0., 0., 0., 0.],\n",
       "        [1., 0., 0., 0., 0.],\n",
       "        ...,\n",
       "        [0., 0., 1., 0., 0.],\n",
       "        [0., 0., 1., 0., 0.],\n",
       "        [0., 0., 1., 0., 0.]]))"
      ]
     },
     "execution_count": 164,
     "metadata": {},
     "output_type": "execute_result"
    }
   ],
   "source": [
    "keys = np.unique(y)\n",
    "Y_keys = dict()\n",
    "for i, key in enumerate(keys):\n",
    "    zeros = np.zeros((len(keys)))\n",
    "    zeros[i] = 1\n",
    "    Y_keys[key] = zeros\n",
    "Y_keys\n",
    "Y = np.array([Y_keys[yi] for yi in y])\n",
    "Y_keys, Y"
   ]
  },
  {
   "cell_type": "code",
   "execution_count": 165,
   "id": "3d1fa062-616b-472a-bcc3-6699d722efa0",
   "metadata": {},
   "outputs": [],
   "source": [
    "X_clus_list = []\n",
    "Y_clus_list = []\n",
    "for i, item in enumerate(Y_keys.keys()):\n",
    "    X_clus_list.append(X[Y[:,i]==1,:])\n",
    "    Y_clus_list.append(Y[Y[:,i]==1,:])"
   ]
  },
  {
   "cell_type": "code",
   "execution_count": 166,
   "id": "bcacb98c-d791-42b3-83cd-3f441deb5877",
   "metadata": {},
   "outputs": [
    {
     "data": {
      "text/plain": [
       "(998, [1000, 1000, 1000, 999, 998])"
      ]
     },
     "execution_count": 166,
     "metadata": {},
     "output_type": "execute_result"
    }
   ],
   "source": [
    "balans_len = [len(yc) for yc in Y_clus_list]\n",
    "min_len = min(balans_len)\n",
    "min_len, balans_len"
   ]
  },
  {
   "cell_type": "code",
   "execution_count": 167,
   "id": "9e6eb666-e072-4d33-ada5-7ad444af1d9c",
   "metadata": {},
   "outputs": [],
   "source": [
    "X = np.concatenate([xc[:min_len] for xc in X_clus_list])\n",
    "Y = np.concatenate([yc[:min_len] for yc in Y_clus_list])"
   ]
  },
  {
   "cell_type": "code",
   "execution_count": 168,
   "id": "c2527703-fc7c-49f9-aecd-39a2b175a926",
   "metadata": {},
   "outputs": [
    {
     "name": "stdout",
     "output_type": "stream",
     "text": [
      "4990 : 3194 798 998\n"
     ]
    }
   ],
   "source": [
    "X.dtype = \"float32\"\n",
    "Y.dtype = \"float32\"\n",
    "data = [(tf.reshape(x, shape=[-1, 100]),y ) for x, y in zip(X, Y)]\n",
    "\n",
    "random.shuffle(data)\n",
    "len_data = len(data)\n",
    "len_test = round(len_data*0.2)\n",
    "len_val = round((len_data-len_test)*0.2)\n",
    "len_train = len_data-len_test-len_val\n",
    "print(len_data, \":\", len_train, len_val, len_test)\n",
    "\n",
    "train_data, val_data = data[:len_train], data[len_train:len_train+len_val]"
   ]
  },
  {
   "cell_type": "code",
   "execution_count": null,
   "id": "c65ead6e-7513-4c76-a1f5-afecc99bc589",
   "metadata": {},
   "outputs": [],
   "source": []
  },
  {
   "cell_type": "code",
   "execution_count": 169,
   "id": "74fbf346-c66c-4737-a009-6e4d5d88c9ae",
   "metadata": {},
   "outputs": [
    {
     "data": {
      "image/png": "[encoded data removed]",
      "text/plain": [
       "<Figure size 640x480 with 1 Axes>"
      ]
     },
     "metadata": {},
     "output_type": "display_data"
    }
   ],
   "source": [
    "x = tf.linspace(-2, 2, 201)\n",
    "x = tf.cast(x, tf.float32)\n",
    "plt.plot(x, tf.nn.relu(x));\n",
    "plt.xlabel('x')\n",
    "plt.ylabel('ReLU(x)')\n",
    "plt.title('ReLU activation function');"
   ]
  },
  {
   "cell_type": "code",
   "execution_count": 170,
   "id": "6af87167-7c0c-44a7-9d1f-fbe9818c575b",
   "metadata": {},
   "outputs": [
    {
     "data": {
      "image/png": "[encoded data removed]",
      "text/plain": [
       "<Figure size 640x480 with 1 Axes>"
      ]
     },
     "metadata": {},
     "output_type": "display_data"
    }
   ],
   "source": [
    "x = tf.linspace(-4, 4, 201)\n",
    "x = tf.cast(x, tf.float32)\n",
    "plt.plot(x, tf.nn.softmax(x, axis=0));\n",
    "plt.xlabel('x')\n",
    "plt.ylabel('Softmax(x)')\n",
    "plt.title('Softmax activation function');"
   ]
  },
  {
   "cell_type": "code",
   "execution_count": 171,
   "id": "5bae8031-3f08-4e77-abfa-99c439c43b11",
   "metadata": {},
   "outputs": [],
   "source": [
    "def xavier_init(shape):\n",
    "  # Computes the xavier initialization values for a weight matrix\n",
    "  in_dim, out_dim = shape\n",
    "  xavier_lim = tf.sqrt(6.)/tf.sqrt(tf.cast(in_dim + out_dim, tf.float32))\n",
    "  weight_vals = tf.random.uniform(shape=(in_dim, out_dim), \n",
    "                                  minval=-xavier_lim, maxval=xavier_lim, seed=22)\n",
    "  return weight_vals"
   ]
  },
  {
   "cell_type": "code",
   "execution_count": 149,
   "id": "84b749fc-089a-40b4-9f4d-02be59e0e8c1",
   "metadata": {},
   "outputs": [],
   "source": [
    "class DenseLayer(tf.Module):\n",
    "\n",
    "  def __init__(self, out_dim, weight_init=xavier_init, activation=tf.identity):\n",
    "    # Initialize the dimensions and activation functions\n",
    "    self.out_dim = out_dim\n",
    "    self.weight_init = weight_init\n",
    "    self.activation = activation\n",
    "    self.built = False\n",
    "\n",
    "  def __call__(self, x):\n",
    "    if not self.built:\n",
    "      # Infer the input dimension based on first call\n",
    "      self.in_dim = x.shape[1]                                                  \n",
    "      # Initialize the weights and biases\n",
    "      self.w = tf.Variable(self.weight_init(shape=(self.in_dim, self.out_dim)))\n",
    "      self.b = tf.Variable(tf.zeros(shape=(self.out_dim,)))\n",
    "      self.built = True\n",
    "    # Compute the forward pass\n",
    "    z = tf.add(tf.matmul(x, self.w), self.b)\n",
    "    return self.activation(z)"
   ]
  },
  {
   "cell_type": "code",
   "execution_count": 150,
   "id": "17ed1f4b-b514-4481-b9be-f03e28ac82e0",
   "metadata": {},
   "outputs": [],
   "source": [
    "class MLP(tf.Module):\n",
    "\n",
    "  def __init__(self, layers):\n",
    "    self.layers = layers\n",
    "\n",
    "  @tf.function\n",
    "  def __call__(self, x, preds=False): \n",
    "    # Execute the model's layers sequentially\n",
    "    for layer in self.layers:\n",
    "      x = layer(x)\n",
    "    return x"
   ]
  },
  {
   "cell_type": "code",
   "execution_count": 151,
   "id": "c7f5acdd-c43c-4d62-b9b3-0b0f8f282e66",
   "metadata": {},
   "outputs": [],
   "source": [
    "hidden_layer_1_size = 50\n",
    "hidden_layer_2_size = 100\n",
    "hidden_layer_3_size = 100\n",
    "hidden_layer_4_size = 50\n",
    "output_size = 5\n",
    "\n",
    "mlp_model = MLP([\n",
    "    DenseLayer(out_dim=hidden_layer_1_size, activation=tf.nn.relu),\n",
    "    DenseLayer(out_dim=hidden_layer_2_size, activation=tf.nn.relu),\n",
    "    DenseLayer(out_dim=hidden_layer_3_size, activation=tf.nn.relu),\n",
    "    DenseLayer(out_dim=hidden_layer_4_size, activation=tf.nn.relu),\n",
    "    DenseLayer(out_dim=output_size)])"
   ]
  },
  {
   "cell_type": "code",
   "execution_count": 172,
   "id": "455c53ab-c29f-49bf-9b9b-e8b60c97df45",
   "metadata": {},
   "outputs": [],
   "source": [
    "def cross_entropy_loss(y_pred, y):\n",
    "  # Compute cross entropy loss with a sparse operation\n",
    "  \n",
    "  sparse_ce = tf.nn.sparse_softmax_cross_entropy_with_logits(labels=, logits=y_pred)\n",
    "  return tf.reduce_mean(sparse_ce)"
   ]
  },
  {
   "cell_type": "code",
   "execution_count": 173,
   "id": "16cdf698-82a3-47be-b084-53ae1fdea795",
   "metadata": {},
   "outputs": [],
   "source": [
    "def accuracy(y_pred, y):\n",
    "  # Compute accuracy after extracting class predictions\n",
    "  class_preds = tf.argmax(tf.nn.softmax(y_pred), axis=1)\n",
    "  is_equal = tf.equal(y, class_preds)\n",
    "  return tf.reduce_mean(tf.cast(is_equal, tf.float32))"
   ]
  },
  {
   "cell_type": "code",
   "execution_count": 174,
   "id": "d5f1ecb2-5c64-4159-8ab3-93dbc3d66ccf",
   "metadata": {},
   "outputs": [],
   "source": [
    "class Adam:\n",
    "\n",
    "    def __init__(self, learning_rate=1e-3, beta_1=0.9, beta_2=0.999, ep=1e-7):\n",
    "      # Initialize optimizer parameters and variable slots\n",
    "      self.beta_1 = beta_1\n",
    "      self.beta_2 = beta_2\n",
    "      self.learning_rate = learning_rate\n",
    "      self.ep = ep\n",
    "      self.t = 1.\n",
    "      self.v_dvar, self.s_dvar = [], []\n",
    "      self.built = False\n",
    "\n",
    "    def apply_gradients(self, grads, vars):\n",
    "      # Initialize variables on the first call\n",
    "      if not self.built:\n",
    "        for var in vars:\n",
    "          v = tf.Variable(tf.zeros(shape=var.shape))\n",
    "          s = tf.Variable(tf.zeros(shape=var.shape))\n",
    "          self.v_dvar.append(v)\n",
    "          self.s_dvar.append(s)\n",
    "        self.built = True\n",
    "      # Update the model variables given their gradients\n",
    "      for i, (d_var, var) in enumerate(zip(grads, vars)):\n",
    "        self.v_dvar[i].assign(self.beta_1*self.v_dvar[i] + (1-self.beta_1)*d_var)\n",
    "        self.s_dvar[i].assign(self.beta_2*self.s_dvar[i] + (1-self.beta_2)*tf.square(d_var))\n",
    "        v_dvar_bc = self.v_dvar[i]/(1-(self.beta_1**self.t))\n",
    "        s_dvar_bc = self.s_dvar[i]/(1-(self.beta_2**self.t))\n",
    "        var.assign_sub(self.learning_rate*(v_dvar_bc/(tf.sqrt(s_dvar_bc) + self.ep)))\n",
    "      self.t += 1.\n",
    "      return"
   ]
  },
  {
   "cell_type": "code",
   "execution_count": 175,
   "id": "73143386-2dfd-4526-a1cc-272f7cc880f7",
   "metadata": {},
   "outputs": [],
   "source": [
    "def train_step(x_batch, y_batch, loss, acc, model, optimizer):\n",
    "  # Update the model state given a batch of data\n",
    "  with tf.GradientTape() as tape:\n",
    "    y_pred = model(x_batch)\n",
    "    batch_loss = loss(y_pred, y_batch)\n",
    "  batch_acc = acc(y_pred, y_batch)\n",
    "  grads = tape.gradient(batch_loss, model.variables)\n",
    "  optimizer.apply_gradients(grads, model.variables)\n",
    "  return batch_loss, batch_acc\n",
    "\n",
    "def val_step(x_batch, y_batch, loss, acc, model):\n",
    "  # Evaluate the model on given a batch of validation data\n",
    "  y_pred = model(x_batch)\n",
    "  batch_loss = loss(y_pred, y_batch)\n",
    "  batch_acc = acc(y_pred, y_batch)\n",
    "  return batch_loss, batch_acc"
   ]
  },
  {
   "cell_type": "code",
   "execution_count": 176,
   "id": "76c4a359-c92c-4aac-86b9-070fbd5f86f8",
   "metadata": {},
   "outputs": [],
   "source": [
    "def train_model(mlp, train_data, val_data, loss, acc, optimizer, epochs):\n",
    "  # Initialize data structures\n",
    "  train_losses, train_accs = [], []\n",
    "  val_losses, val_accs = [], []\n",
    "\n",
    "  # Format training loop and begin training\n",
    "  for epoch in range(epochs):\n",
    "    batch_losses_train, batch_accs_train = [], []\n",
    "    batch_losses_val, batch_accs_val = [], []\n",
    "\n",
    "    # Iterate over the training data\n",
    "    for x_batch, y_batch in train_data:\n",
    "      # Compute gradients and update the model's parameters\n",
    "      batch_loss, batch_acc = train_step(x_batch, y_batch, loss, acc, mlp, optimizer)\n",
    "      # Keep track of batch-level training performance\n",
    "      batch_losses_train.append(batch_loss)\n",
    "      batch_accs_train.append(batch_acc)\n",
    "\n",
    "    # Iterate over the validation data\n",
    "    for x_batch, y_batch in val_data:\n",
    "      batch_loss, batch_acc = val_step(x_batch, y_batch, loss, acc, mlp)\n",
    "      batch_losses_val.append(batch_loss)\n",
    "      batch_accs_val.append(batch_acc)\n",
    "\n",
    "    # Keep track of epoch-level model performance\n",
    "    train_loss, train_acc = tf.reduce_mean(batch_losses_train), tf.reduce_mean(batch_accs_train)\n",
    "    val_loss, val_acc = tf.reduce_mean(batch_losses_val), tf.reduce_mean(batch_accs_val)\n",
    "    train_losses.append(train_loss)\n",
    "    train_accs.append(train_acc)\n",
    "    val_losses.append(val_loss)\n",
    "    val_accs.append(val_acc)\n",
    "    print(f\"Epoch: {epoch}\")\n",
    "    print(f\"Training loss: {train_loss:.3f}, Training accuracy: {train_acc:.3f}\")\n",
    "    print(f\"Validation loss: {val_loss:.3f}, Validation accuracy: {val_acc:.3f}\")\n",
    "    return train_losses, train_accs, val_losses, val_accs"
   ]
  },
  {
   "cell_type": "code",
   "execution_count": 177,
   "id": "4f89c4e8-b8b9-4c12-b07c-219cf43715ab",
   "metadata": {},
   "outputs": [
    {
     "ename": "ValueError",
     "evalue": "`labels.shape.rank` must equal `logits.shape.rank - 1`. Received: labels.shape=() of rank 0 and logits.shape=(4, 5) of rank 2",
     "output_type": "error",
     "traceback": [
      "\u001b[0;31m---------------------------------------------------------------------------\u001b[0m",
      "\u001b[0;31mValueError\u001b[0m                                Traceback (most recent call last)",
      "Cell \u001b[0;32mIn[177], line 1\u001b[0m\n\u001b[0;32m----> 1\u001b[0m train_losses, train_accs, val_losses, val_accs \u001b[38;5;241m=\u001b[39m \u001b[43mtrain_model\u001b[49m\u001b[43m(\u001b[49m\u001b[43mmlp_model\u001b[49m\u001b[43m,\u001b[49m\u001b[43m \u001b[49m\u001b[43mtrain_data\u001b[49m\u001b[43m,\u001b[49m\u001b[43m \u001b[49m\u001b[43mval_data\u001b[49m\u001b[43m,\u001b[49m\u001b[43m \u001b[49m\n\u001b[1;32m      2\u001b[0m \u001b[43m                                                             \u001b[49m\u001b[43mloss\u001b[49m\u001b[38;5;241;43m=\u001b[39;49m\u001b[43mcross_entropy_loss\u001b[49m\u001b[43m,\u001b[49m\u001b[43m \u001b[49m\u001b[43macc\u001b[49m\u001b[38;5;241;43m=\u001b[39;49m\u001b[43maccuracy\u001b[49m\u001b[43m,\u001b[49m\n\u001b[1;32m      3\u001b[0m \u001b[43m                                                             \u001b[49m\u001b[43moptimizer\u001b[49m\u001b[38;5;241;43m=\u001b[39;49m\u001b[43mAdam\u001b[49m\u001b[43m(\u001b[49m\u001b[43m)\u001b[49m\u001b[43m,\u001b[49m\u001b[43m \u001b[49m\u001b[43mepochs\u001b[49m\u001b[38;5;241;43m=\u001b[39;49m\u001b[38;5;241;43m10\u001b[39;49m\u001b[43m)\u001b[49m\n",
      "Cell \u001b[0;32mIn[176], line 14\u001b[0m, in \u001b[0;36mtrain_model\u001b[0;34m(mlp, train_data, val_data, loss, acc, optimizer, epochs)\u001b[0m\n\u001b[1;32m     11\u001b[0m \u001b[38;5;66;03m# Iterate over the training data\u001b[39;00m\n\u001b[1;32m     12\u001b[0m \u001b[38;5;28;01mfor\u001b[39;00m x_batch, y_batch \u001b[38;5;129;01min\u001b[39;00m train_data:\n\u001b[1;32m     13\u001b[0m   \u001b[38;5;66;03m# Compute gradients and update the model's parameters\u001b[39;00m\n\u001b[0;32m---> 14\u001b[0m   batch_loss, batch_acc \u001b[38;5;241m=\u001b[39m \u001b[43mtrain_step\u001b[49m\u001b[43m(\u001b[49m\u001b[43mx_batch\u001b[49m\u001b[43m,\u001b[49m\u001b[43m \u001b[49m\u001b[43my_batch\u001b[49m\u001b[43m,\u001b[49m\u001b[43m \u001b[49m\u001b[43mloss\u001b[49m\u001b[43m,\u001b[49m\u001b[43m \u001b[49m\u001b[43macc\u001b[49m\u001b[43m,\u001b[49m\u001b[43m \u001b[49m\u001b[43mmlp\u001b[49m\u001b[43m,\u001b[49m\u001b[43m \u001b[49m\u001b[43moptimizer\u001b[49m\u001b[43m)\u001b[49m\n\u001b[1;32m     15\u001b[0m   \u001b[38;5;66;03m# Keep track of batch-level training performance\u001b[39;00m\n\u001b[1;32m     16\u001b[0m   batch_losses_train\u001b[38;5;241m.\u001b[39mappend(batch_loss)\n",
      "Cell \u001b[0;32mIn[175], line 5\u001b[0m, in \u001b[0;36mtrain_step\u001b[0;34m(x_batch, y_batch, loss, acc, model, optimizer)\u001b[0m\n\u001b[1;32m      3\u001b[0m \u001b[38;5;28;01mwith\u001b[39;00m tf\u001b[38;5;241m.\u001b[39mGradientTape() \u001b[38;5;28;01mas\u001b[39;00m tape:\n\u001b[1;32m      4\u001b[0m   y_pred \u001b[38;5;241m=\u001b[39m model(x_batch)\n\u001b[0;32m----> 5\u001b[0m   batch_loss \u001b[38;5;241m=\u001b[39m \u001b[43mloss\u001b[49m\u001b[43m(\u001b[49m\u001b[43my_pred\u001b[49m\u001b[43m,\u001b[49m\u001b[43m \u001b[49m\u001b[43my_batch\u001b[49m\u001b[43m)\u001b[49m\n\u001b[1;32m      6\u001b[0m batch_acc \u001b[38;5;241m=\u001b[39m acc(y_pred, y_batch)\n\u001b[1;32m      7\u001b[0m grads \u001b[38;5;241m=\u001b[39m tape\u001b[38;5;241m.\u001b[39mgradient(batch_loss, model\u001b[38;5;241m.\u001b[39mvariables)\n",
      "Cell \u001b[0;32mIn[172], line 4\u001b[0m, in \u001b[0;36mcross_entropy_loss\u001b[0;34m(y_pred, y)\u001b[0m\n\u001b[1;32m      1\u001b[0m \u001b[38;5;28;01mdef\u001b[39;00m \u001b[38;5;21mcross_entropy_loss\u001b[39m(y_pred, y):\n\u001b[1;32m      2\u001b[0m   \u001b[38;5;66;03m# Compute cross entropy loss with a sparse operation\u001b[39;00m\n\u001b[0;32m----> 4\u001b[0m   sparse_ce \u001b[38;5;241m=\u001b[39m \u001b[43mtf\u001b[49m\u001b[38;5;241;43m.\u001b[39;49m\u001b[43mnn\u001b[49m\u001b[38;5;241;43m.\u001b[39;49m\u001b[43msparse_softmax_cross_entropy_with_logits\u001b[49m\u001b[43m(\u001b[49m\u001b[43mlabels\u001b[49m\u001b[38;5;241;43m=\u001b[39;49m\u001b[43mnp\u001b[49m\u001b[38;5;241;43m.\u001b[39;49m\u001b[43margmax\u001b[49m\u001b[43m(\u001b[49m\u001b[43my\u001b[49m\u001b[43m)\u001b[49m\u001b[43m,\u001b[49m\u001b[43m \u001b[49m\u001b[43mlogits\u001b[49m\u001b[38;5;241;43m=\u001b[39;49m\u001b[43my_pred\u001b[49m\u001b[43m)\u001b[49m\n\u001b[1;32m      5\u001b[0m   \u001b[38;5;28;01mreturn\u001b[39;00m tf\u001b[38;5;241m.\u001b[39mreduce_mean(sparse_ce)\n",
      "File \u001b[0;32m~/program/python/project/layout_highlighter/imgDoc/env/lib/python3.10/site-packages/tensorflow/python/util/traceback_utils.py:153\u001b[0m, in \u001b[0;36mfilter_traceback.<locals>.error_handler\u001b[0;34m(*args, **kwargs)\u001b[0m\n\u001b[1;32m    151\u001b[0m \u001b[38;5;28;01mexcept\u001b[39;00m \u001b[38;5;167;01mException\u001b[39;00m \u001b[38;5;28;01mas\u001b[39;00m e:\n\u001b[1;32m    152\u001b[0m   filtered_tb \u001b[38;5;241m=\u001b[39m _process_traceback_frames(e\u001b[38;5;241m.\u001b[39m__traceback__)\n\u001b[0;32m--> 153\u001b[0m   \u001b[38;5;28;01mraise\u001b[39;00m e\u001b[38;5;241m.\u001b[39mwith_traceback(filtered_tb) \u001b[38;5;28;01mfrom\u001b[39;00m \u001b[38;5;28;01mNone\u001b[39;00m\n\u001b[1;32m    154\u001b[0m \u001b[38;5;28;01mfinally\u001b[39;00m:\n\u001b[1;32m    155\u001b[0m   \u001b[38;5;28;01mdel\u001b[39;00m filtered_tb\n",
      "File \u001b[0;32m~/program/python/project/layout_highlighter/imgDoc/env/lib/python3.10/site-packages/tensorflow/python/ops/nn_ops.py:4359\u001b[0m, in \u001b[0;36msparse_softmax_cross_entropy_with_logits\u001b[0;34m(labels, logits, name)\u001b[0m\n\u001b[1;32m   4354\u001b[0m   \u001b[38;5;28;01mraise\u001b[39;00m \u001b[38;5;167;01mValueError\u001b[39;00m(\n\u001b[1;32m   4355\u001b[0m       \u001b[38;5;124mf\u001b[39m\u001b[38;5;124m\"\u001b[39m\u001b[38;5;124m`logits` cannot be a scalar. Received logits=\u001b[39m\u001b[38;5;132;01m{\u001b[39;00mlogits\u001b[38;5;132;01m}\u001b[39;00m\u001b[38;5;124m`\u001b[39m\u001b[38;5;124m\"\u001b[39m)\n\u001b[1;32m   4356\u001b[0m \u001b[38;5;28;01mif\u001b[39;00m logits\u001b[38;5;241m.\u001b[39mget_shape()\u001b[38;5;241m.\u001b[39mndims \u001b[38;5;129;01mis\u001b[39;00m \u001b[38;5;129;01mnot\u001b[39;00m \u001b[38;5;28;01mNone\u001b[39;00m \u001b[38;5;129;01mand\u001b[39;00m (\n\u001b[1;32m   4357\u001b[0m     labels_static_shape\u001b[38;5;241m.\u001b[39mndims \u001b[38;5;129;01mis\u001b[39;00m \u001b[38;5;129;01mnot\u001b[39;00m \u001b[38;5;28;01mNone\u001b[39;00m \u001b[38;5;129;01mand\u001b[39;00m\n\u001b[1;32m   4358\u001b[0m     labels_static_shape\u001b[38;5;241m.\u001b[39mndims \u001b[38;5;241m!=\u001b[39m logits\u001b[38;5;241m.\u001b[39mget_shape()\u001b[38;5;241m.\u001b[39mndims \u001b[38;5;241m-\u001b[39m \u001b[38;5;241m1\u001b[39m):\n\u001b[0;32m-> 4359\u001b[0m   \u001b[38;5;28;01mraise\u001b[39;00m \u001b[38;5;167;01mValueError\u001b[39;00m(\n\u001b[1;32m   4360\u001b[0m       \u001b[38;5;124m\"\u001b[39m\u001b[38;5;124m`labels.shape.rank` must equal `logits.shape.rank - 1`. \u001b[39m\u001b[38;5;124m\"\u001b[39m\n\u001b[1;32m   4361\u001b[0m       \u001b[38;5;124mf\u001b[39m\u001b[38;5;124m\"\u001b[39m\u001b[38;5;124mReceived: labels.shape=\u001b[39m\u001b[38;5;132;01m{\u001b[39;00mlabels_static_shape\u001b[38;5;132;01m}\u001b[39;00m\u001b[38;5;124m of rank \u001b[39m\u001b[38;5;124m\"\u001b[39m\n\u001b[1;32m   4362\u001b[0m       \u001b[38;5;124mf\u001b[39m\u001b[38;5;124m\"\u001b[39m\u001b[38;5;132;01m{\u001b[39;00mlabels_static_shape\u001b[38;5;241m.\u001b[39mrank\u001b[38;5;132;01m}\u001b[39;00m\u001b[38;5;124m and logits.shape=\u001b[39m\u001b[38;5;132;01m{\u001b[39;00mlogits\u001b[38;5;241m.\u001b[39mget_shape()\u001b[38;5;132;01m}\u001b[39;00m\u001b[38;5;124m \u001b[39m\u001b[38;5;124m\"\u001b[39m\n\u001b[1;32m   4363\u001b[0m       \u001b[38;5;124mf\u001b[39m\u001b[38;5;124m\"\u001b[39m\u001b[38;5;124mof rank \u001b[39m\u001b[38;5;132;01m{\u001b[39;00mlogits\u001b[38;5;241m.\u001b[39mget_shape()\u001b[38;5;241m.\u001b[39mrank\u001b[38;5;132;01m}\u001b[39;00m\u001b[38;5;124m\"\u001b[39m)\n\u001b[1;32m   4364\u001b[0m \u001b[38;5;28;01mif\u001b[39;00m (static_shapes_fully_defined \u001b[38;5;129;01mand\u001b[39;00m\n\u001b[1;32m   4365\u001b[0m     labels_static_shape \u001b[38;5;241m!=\u001b[39m logits\u001b[38;5;241m.\u001b[39mget_shape()[:\u001b[38;5;241m-\u001b[39m\u001b[38;5;241m1\u001b[39m]):\n\u001b[1;32m   4366\u001b[0m   \u001b[38;5;28;01mraise\u001b[39;00m \u001b[38;5;167;01mValueError\u001b[39;00m(\n\u001b[1;32m   4367\u001b[0m       \u001b[38;5;124m\"\u001b[39m\u001b[38;5;124m`labels.shape` must equal `logits.shape` except for \u001b[39m\u001b[38;5;124m\"\u001b[39m\n\u001b[1;32m   4368\u001b[0m       \u001b[38;5;124mf\u001b[39m\u001b[38;5;124m\"\u001b[39m\u001b[38;5;124mthe last dimension. Received: labels.shape=\u001b[39m\u001b[38;5;132;01m{\u001b[39;00mlabels_static_shape\u001b[38;5;132;01m}\u001b[39;00m\u001b[38;5;124m \u001b[39m\u001b[38;5;124m\"\u001b[39m\n\u001b[1;32m   4369\u001b[0m       \u001b[38;5;124mf\u001b[39m\u001b[38;5;124m\"\u001b[39m\u001b[38;5;124mand logits.shape=\u001b[39m\u001b[38;5;132;01m{\u001b[39;00mlogits\u001b[38;5;241m.\u001b[39mget_shape()\u001b[38;5;132;01m}\u001b[39;00m\u001b[38;5;124m\"\u001b[39m)\n",
      "\u001b[0;31mValueError\u001b[0m: `labels.shape.rank` must equal `logits.shape.rank - 1`. Received: labels.shape=() of rank 0 and logits.shape=(4, 5) of rank 2"
     ]
    }
   ],
   "source": [
    "train_losses, train_accs, val_losses, val_accs = train_model(mlp_model, train_data, val_data, \n",
    "                                                             loss=cross_entropy_loss, acc=accuracy,\n",
    "                                                             optimizer=Adam(), epochs=10)"
   ]
  },
  {
   "cell_type": "code",
   "execution_count": 85,
   "id": "075dbf21-0a6e-4111-9c69-5834df69a36a",
   "metadata": {},
   "outputs": [
    {
     "data": {
      "text/plain": [
       "100"
      ]
     },
     "execution_count": 85,
     "metadata": {},
     "output_type": "execute_result"
    }
   ],
   "source": [
    "train_data[0][0].shape[1]"
   ]
  },
  {
   "cell_type": "code",
   "execution_count": 158,
   "id": "423d5e3d-1ec7-4193-8335-3206f3a906fa",
   "metadata": {},
   "outputs": [
    {
     "ename": "ModuleNotFoundError",
     "evalue": "No module named 'tensorflow_datasets'",
     "output_type": "error",
     "traceback": [
      "\u001b[0;31m---------------------------------------------------------------------------\u001b[0m",
      "\u001b[0;31mModuleNotFoundError\u001b[0m                       Traceback (most recent call last)",
      "Cell \u001b[0;32mIn[158], line 1\u001b[0m\n\u001b[0;32m----> 1\u001b[0m \u001b[38;5;28;01mimport\u001b[39;00m \u001b[38;5;21;01mtensorflow_datasets\u001b[39;00m \u001b[38;5;28;01mas\u001b[39;00m \u001b[38;5;21;01mtfds\u001b[39;00m\n",
      "\u001b[0;31mModuleNotFoundError\u001b[0m: No module named 'tensorflow_datasets'"
     ]
    }
   ],
   "source": [
    "import tensorflow_datasets as tfds"
   ]
  },
  {
   "cell_type": "code",
   "execution_count": null,
   "id": "5a5064f4-1619-4d7c-83c9-54f6c5aa4586",
   "metadata": {},
   "outputs": [],
   "source": []
  }
 ],
 "metadata": {
  "kernelspec": {
   "display_name": "Python 3 (ipykernel)",
   "language": "python",
   "name": "python3"
  },
  "language_info": {
   "codemirror_mode": {
    "name": "ipython",
    "version": 3
   },
   "file_extension": ".py",
   "mimetype": "text/x-python",
   "name": "python",
   "nbconvert_exporter": "python",
   "pygments_lexer": "ipython3",
   "version": "3.10.12"
  }
 },
 "nbformat": 4,
 "nbformat_minor": 5
}
