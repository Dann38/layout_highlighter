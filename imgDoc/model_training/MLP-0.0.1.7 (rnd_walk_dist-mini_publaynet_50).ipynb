{
 "cells": [
  {
   "cell_type": "code",
   "execution_count": 20,
   "id": "dd08cd98-5998-496f-8c52-657855feb1ea",
   "metadata": {},
   "outputs": [
    {
     "name": "stderr",
     "output_type": "stream",
     "text": [
      "/tmp/ipykernel_5617/923370504.py:3: DeprecationWarning: \n",
      "Pyarrow will become a required dependency of pandas in the next major release of pandas (pandas 3.0),\n",
      "(to allow more performant data types, such as the Arrow string type, and better interoperability with other libraries)\n",
      "but was not found to be installed on your system.\n",
      "If this would cause problems for you,\n",
      "please provide us feedback at https://github.com/pandas-dev/pandas/issues/54466\n",
      "        \n",
      "  import pandas as pd\n"
     ]
    }
   ],
   "source": [
    "import json\n",
    "import numpy as np\n",
    "import pandas as pd\n",
    "from time import time\n",
    "\n",
    "from sklearn.model_selection import train_test_split\n",
    "from sklearn.preprocessing import StandardScaler\n",
    "from sklearn.neural_network import MLPClassifier\n",
    "from sklearn.metrics import accuracy_score\n",
    "import pickle "
   ]
  },
  {
   "cell_type": "code",
   "execution_count": 2,
   "id": "ce9412a1-a14e-4994-ad3f-06a552fb305a",
   "metadata": {},
   "outputs": [],
   "source": [
    "with open(\"./dataset/json/mini_publaynat_rnd_walk_dist_veclen50.json\", \"r\") as f:\n",
    "    dataset = json.load(f)"
   ]
  },
  {
   "cell_type": "code",
   "execution_count": 4,
   "id": "200c0cc1-3902-451a-b38a-5f42c0814b99",
   "metadata": {},
   "outputs": [
    {
     "name": "stdout",
     "output_type": "stream",
     "text": [
      "Первый x:\n",
      " [0.0, 0.0, 0.0, 0.0, 0.0, 0.0, 0.0, 0.0, 0.0, 0.0, 0.0, 0.0, 0.0, 0.0, 0.0, 0.0, 0.0, 0.0, 0.0, 0.0, 0.0, 0.0, 0.0, 0.0, 0.0, 0.0, 0.0, 0.0, 0.0, 0.0, 0.0, 0.0, 0.0, 0.0, 0.0, 0.0, 0.0, 0.0, 0.0, 0.0, 0.0, 0.0, 0.0, 0.0, 0.0, 0.0, 0.0, 0.0, 0.0, 0.0]\n",
      "Последний, x:\n",
      " [0.0, 0.0, 0.0, 0.0, 0.0, 0.0, 0.0, 0.0, 0.0, 0.0, 0.0, 0.0, 0.0, 0.0, 0.0, 0.0, 0.0, 0.0, 0.0, 0.0, 0.0, 0.0, 0.0, 0.0, 0.0, 0.0, 0.0, 0.0, 0.0, 0.0, 0.0, 0.0, 0.0, 0.0, 0.0, 0.0, 0.0, 0.0, 0.0, 0.0, 0.0, 0.0, 0.0, 0.0, 0.0, 0.0, 0.0, 0.0, 0.0, 0.0]\n",
      "Размер x:\t 50\n",
      "Первый y:\t 1\n",
      "Последний y:\t 1\n",
      "Кол-во записей:\t 4958\n"
     ]
    }
   ],
   "source": [
    "print(\"Первый x:\\n\", dataset[\"x\"][0])\n",
    "print(\"Последний, x:\\n\", dataset[\"x\"][-1])\n",
    "print(\"Размер x:\\t\", len(dataset[\"x\"][0]))\n",
    "print(\"Первый y:\\t\", dataset[\"y\"][0])\n",
    "print(\"Последний y:\\t\", dataset[\"y\"][0])\n",
    "print(\"Кол-во записей:\\t\", len(dataset[\"x\"]))"
   ]
  },
  {
   "cell_type": "code",
   "execution_count": 112,
   "id": "3403fdd8-575d-4d85-ad82-3ef8c8fe478a",
   "metadata": {},
   "outputs": [],
   "source": [
    "\n",
    "X = np.array(dataset[\"x\"])\n",
    "y = np.array(dataset[\"y\"])\n"
   ]
  },
  {
   "cell_type": "code",
   "execution_count": 113,
   "id": "b8fb2fce-70a2-4e6f-ab4e-2fe381212612",
   "metadata": {},
   "outputs": [],
   "source": [
    "y = y[X.sum(1)!=0]\n",
    "X = X[X.sum(1)!=0, :]\n"
   ]
  },
  {
   "cell_type": "code",
   "execution_count": 120,
   "id": "9c618651-e6ac-471d-ada9-6c83bcac3de0",
   "metadata": {},
   "outputs": [
    {
     "data": {
      "text/plain": [
       "array([[0.        , 0.        , 0.        , ..., 0.03030303, 0.06060606,\n",
       "        0.06060606],\n",
       "       [0.01546392, 0.01546392, 0.        , ..., 0.01546392, 0.        ,\n",
       "        0.05154639],\n",
       "       [0.01632653, 0.01632653, 0.        , ..., 0.        , 0.06122449,\n",
       "        0.06122449],\n",
       "       ...,\n",
       "       [0.04482759, 0.04482759, 0.04482759, ..., 0.02413793, 0.02068966,\n",
       "        0.01724138],\n",
       "       [0.        , 0.        , 0.        , ..., 0.03255814, 0.00930233,\n",
       "        0.00930233],\n",
       "       [0.        , 0.        , 0.06666667, ..., 0.06666667, 0.06666667,\n",
       "        0.        ]])"
      ]
     },
     "execution_count": 120,
     "metadata": {},
     "output_type": "execute_result"
    }
   ],
   "source": [
    "X = np.array([x/x.sum() for x in X])\n",
    "X"
   ]
  },
  {
   "cell_type": "code",
   "execution_count": 121,
   "id": "ff136b6f-bb05-4922-8508-ce6274c7b500",
   "metadata": {},
   "outputs": [
    {
     "data": {
      "text/plain": [
       "(3505, 3505)"
      ]
     },
     "execution_count": 121,
     "metadata": {},
     "output_type": "execute_result"
    }
   ],
   "source": [
    "len(y), len(X)"
   ]
  },
  {
   "cell_type": "code",
   "execution_count": 122,
   "id": "0d475e67-d7af-4f6c-92d1-0396ec0ce2ea",
   "metadata": {},
   "outputs": [
    {
     "data": {
      "text/plain": [
       "({1: array([1., 0., 0., 0., 0.]),\n",
       "  2: array([0., 1., 0., 0., 0.]),\n",
       "  3: array([0., 0., 1., 0., 0.]),\n",
       "  4: array([0., 0., 0., 1., 0.]),\n",
       "  5: array([0., 0., 0., 0., 1.])},\n",
       " array([[1., 0., 0., 0., 0.],\n",
       "        [1., 0., 0., 0., 0.],\n",
       "        [1., 0., 0., 0., 0.],\n",
       "        ...,\n",
       "        [0., 0., 1., 0., 0.],\n",
       "        [0., 0., 1., 0., 0.],\n",
       "        [0., 0., 1., 0., 0.]]))"
      ]
     },
     "execution_count": 122,
     "metadata": {},
     "output_type": "execute_result"
    }
   ],
   "source": [
    "keys = np.unique(y)\n",
    "Y_keys = dict()\n",
    "for i, key in enumerate(keys):\n",
    "    zeros = np.zeros((len(keys)))\n",
    "    zeros[i] = 1\n",
    "    Y_keys[key] = zeros\n",
    "Y_keys\n",
    "Y = np.array([Y_keys[yi] for yi in y] )\n",
    "Y_keys, Y"
   ]
  },
  {
   "cell_type": "code",
   "execution_count": 123,
   "id": "f88812b3-f114-4c5c-95ea-4a7982d03042",
   "metadata": {},
   "outputs": [],
   "source": [
    "X_clus_list = []\n",
    "Y_clus_list = []\n",
    "for i, item in enumerate(Y_keys.keys()):\n",
    "    X_clus_list.append(X[Y[:,i]==1,:])\n",
    "    Y_clus_list.append(Y[Y[:,i]==1,:])"
   ]
  },
  {
   "cell_type": "code",
   "execution_count": null,
   "id": "fa3a5414-676a-4320-8cef-7a09c6a0a3ce",
   "metadata": {},
   "outputs": [],
   "source": []
  },
  {
   "cell_type": "code",
   "execution_count": 124,
   "id": "8cb35ac7-1b29-44a5-8f34-a2423aadce68",
   "metadata": {},
   "outputs": [
    {
     "data": {
      "text/plain": [
       "(442, [849, 442, 811, 804, 599])"
      ]
     },
     "execution_count": 124,
     "metadata": {},
     "output_type": "execute_result"
    }
   ],
   "source": [
    "balans_len = [len(yc) for yc in Y_clus_list]\n",
    "min_len = min(balans_len)\n",
    "min_len, balans_len"
   ]
  },
  {
   "cell_type": "code",
   "execution_count": 125,
   "id": "4fbdc3ab-f1c8-4959-a36b-f91a5051e7d8",
   "metadata": {},
   "outputs": [],
   "source": [
    "X = np.concatenate([xc[:min_len] for xc in X_clus_list])\n",
    "Y = np.concatenate([yc[:min_len] for yc in Y_clus_list])"
   ]
  },
  {
   "cell_type": "code",
   "execution_count": 228,
   "id": "cfc6cdf5-4e1f-47d9-b56b-9deb4cfacfc9",
   "metadata": {},
   "outputs": [],
   "source": [
    "X_train, X_test, y_train, y_test = train_test_split(X, Y, test_size=0.2, random_state=49)"
   ]
  },
  {
   "cell_type": "code",
   "execution_count": 229,
   "id": "4da2fae0-18e1-40a3-b115-81eff0e6272e",
   "metadata": {},
   "outputs": [],
   "source": [
    "i = 0\n",
    "aas = [0.00001]\n",
    "miis = [2000]\n",
    "modds = [( 50, 50, 50, 50)]\n",
    "df = pd.DataFrame(columns = ['alpha','max_iter','model', 'train_acc','test_acc','train_time'])\n",
    "for a in aas:\n",
    "    for mi in miis:\n",
    "        for mod in modds:\n",
    "            st = time()\n",
    "            mlp = MLPClassifier(hidden_layer_sizes=mod, alpha=a, max_iter=mi)\n",
    "            mlp.fit(X_train, y_train)\n",
    "            end = time() - st\n",
    "            \n",
    "            acc_tr = accuracy_score(y_train, mlp.predict(X_train)) # Train Accuracy\n",
    "            acc = accuracy_score(y_test, mlp.predict(X_test)) # Test Accuracy\n",
    "            df.loc[i] = [a, mi, mod, acc_tr,acc,end]\n",
    "            i=i+1"
   ]
  },
  {
   "cell_type": "code",
   "execution_count": 230,
   "id": "5cf23c38-16d4-4671-a141-946271bd8902",
   "metadata": {},
   "outputs": [
    {
     "data": {
      "text/html": [
       "<div>\n",
       "<style scoped>\n",
       "    .dataframe tbody tr th:only-of-type {\n",
       "        vertical-align: middle;\n",
       "    }\n",
       "\n",
       "    .dataframe tbody tr th {\n",
       "        vertical-align: top;\n",
       "    }\n",
       "\n",
       "    .dataframe thead th {\n",
       "        text-align: right;\n",
       "    }\n",
       "</style>\n",
       "<table border=\"1\" class=\"dataframe\">\n",
       "  <thead>\n",
       "    <tr style=\"text-align: right;\">\n",
       "      <th></th>\n",
       "      <th>alpha</th>\n",
       "      <th>max_iter</th>\n",
       "      <th>model</th>\n",
       "      <th>train_acc</th>\n",
       "      <th>test_acc</th>\n",
       "      <th>train_time</th>\n",
       "    </tr>\n",
       "  </thead>\n",
       "  <tbody>\n",
       "    <tr>\n",
       "      <th>0</th>\n",
       "      <td>0.00001</td>\n",
       "      <td>2000</td>\n",
       "      <td>(50, 50, 50, 50)</td>\n",
       "      <td>0.75905</td>\n",
       "      <td>0.190045</td>\n",
       "      <td>7.403339</td>\n",
       "    </tr>\n",
       "  </tbody>\n",
       "</table>\n",
       "</div>"
      ],
      "text/plain": [
       "     alpha  max_iter             model  train_acc  test_acc  train_time\n",
       "0  0.00001      2000  (50, 50, 50, 50)    0.75905  0.190045    7.403339"
      ]
     },
     "execution_count": 230,
     "metadata": {},
     "output_type": "execute_result"
    }
   ],
   "source": [
    "df # Results\n",
    "# 0\t0.00001\t2000\t(50, 50, 50, 50)\t0.765271\t0.187783\t9.691846 (43)\n",
    "# \t0.00001\t2000\t(50, 50, 50, 50)\t0.75\t0.192308\t9.430116 (44)\n",
    "# 0.00001\t2000\t(50, 50, 50, 50)\t0.616516\t0.199095\t10.068232 (45)\n",
    "# 0.00001\t2000\t(50, 50, 50, 50)\t0.796946\t0.20362\t6.908683 (46)"
   ]
  },
  {
   "cell_type": "code",
   "execution_count": 156,
   "id": "e196fb18-de24-4453-9ff9-ed54dfc8fe09",
   "metadata": {},
   "outputs": [
    {
     "data": {
      "text/html": [
       "<div>\n",
       "<style scoped>\n",
       "    .dataframe tbody tr th:only-of-type {\n",
       "        vertical-align: middle;\n",
       "    }\n",
       "\n",
       "    .dataframe tbody tr th {\n",
       "        vertical-align: top;\n",
       "    }\n",
       "\n",
       "    .dataframe thead th {\n",
       "        text-align: right;\n",
       "    }\n",
       "</style>\n",
       "<table border=\"1\" class=\"dataframe\">\n",
       "  <thead>\n",
       "    <tr style=\"text-align: right;\">\n",
       "      <th></th>\n",
       "      <th>alpha</th>\n",
       "      <th>max_iter</th>\n",
       "      <th>model</th>\n",
       "      <th>train_acc</th>\n",
       "      <th>test_acc</th>\n",
       "      <th>train_time</th>\n",
       "    </tr>\n",
       "  </thead>\n",
       "  <tbody>\n",
       "    <tr>\n",
       "      <th>0</th>\n",
       "      <td>0.00001</td>\n",
       "      <td>5000</td>\n",
       "      <td>(100, 50, 5, 5)</td>\n",
       "      <td>0.554864</td>\n",
       "      <td>0.162896</td>\n",
       "      <td>9.305634</td>\n",
       "    </tr>\n",
       "  </tbody>\n",
       "</table>\n",
       "</div>"
      ],
      "text/plain": [
       "     alpha  max_iter            model  train_acc  test_acc  train_time\n",
       "0  0.00001      5000  (100, 50, 5, 5)   0.554864  0.162896    9.305634"
      ]
     },
     "execution_count": 156,
     "metadata": {},
     "output_type": "execute_result"
    }
   ],
   "source": [
    "df[\"train_acc\"].max()\n",
    "df[df[\"train_acc\"] == df[\"train_acc\"].max()]"
   ]
  },
  {
   "cell_type": "code",
   "execution_count": 157,
   "id": "e0a80815-54d8-4511-8fc4-99a590780b96",
   "metadata": {},
   "outputs": [
    {
     "data": {
      "text/html": [
       "<div>\n",
       "<style scoped>\n",
       "    .dataframe tbody tr th:only-of-type {\n",
       "        vertical-align: middle;\n",
       "    }\n",
       "\n",
       "    .dataframe tbody tr th {\n",
       "        vertical-align: top;\n",
       "    }\n",
       "\n",
       "    .dataframe thead th {\n",
       "        text-align: right;\n",
       "    }\n",
       "</style>\n",
       "<table border=\"1\" class=\"dataframe\">\n",
       "  <thead>\n",
       "    <tr style=\"text-align: right;\">\n",
       "      <th></th>\n",
       "      <th>alpha</th>\n",
       "      <th>max_iter</th>\n",
       "      <th>model</th>\n",
       "      <th>train_acc</th>\n",
       "      <th>test_acc</th>\n",
       "      <th>train_time</th>\n",
       "    </tr>\n",
       "  </thead>\n",
       "  <tbody>\n",
       "    <tr>\n",
       "      <th>0</th>\n",
       "      <td>0.00001</td>\n",
       "      <td>5000</td>\n",
       "      <td>(100, 50, 5, 5)</td>\n",
       "      <td>0.554864</td>\n",
       "      <td>0.162896</td>\n",
       "      <td>9.305634</td>\n",
       "    </tr>\n",
       "  </tbody>\n",
       "</table>\n",
       "</div>"
      ],
      "text/plain": [
       "     alpha  max_iter            model  train_acc  test_acc  train_time\n",
       "0  0.00001      5000  (100, 50, 5, 5)   0.554864  0.162896    9.305634"
      ]
     },
     "execution_count": 157,
     "metadata": {},
     "output_type": "execute_result"
    }
   ],
   "source": [
    "df[df[\"test_acc\"] == df[\"test_acc\"].max()]"
   ]
  },
  {
   "cell_type": "code",
   "execution_count": 153,
   "id": "355a714d-6e81-4b26-831a-aa41aa6a9622",
   "metadata": {},
   "outputs": [
    {
     "data": {
      "text/html": [
       "<div>\n",
       "<style scoped>\n",
       "    .dataframe tbody tr th:only-of-type {\n",
       "        vertical-align: middle;\n",
       "    }\n",
       "\n",
       "    .dataframe tbody tr th {\n",
       "        vertical-align: top;\n",
       "    }\n",
       "\n",
       "    .dataframe thead th {\n",
       "        text-align: right;\n",
       "    }\n",
       "</style>\n",
       "<table border=\"1\" class=\"dataframe\">\n",
       "  <thead>\n",
       "    <tr style=\"text-align: right;\">\n",
       "      <th></th>\n",
       "      <th>alpha</th>\n",
       "      <th>max_iter</th>\n",
       "      <th>model</th>\n",
       "      <th>train_acc</th>\n",
       "      <th>test_acc</th>\n",
       "      <th>train_time</th>\n",
       "    </tr>\n",
       "  </thead>\n",
       "  <tbody>\n",
       "    <tr>\n",
       "      <th>8</th>\n",
       "      <td>0.00001</td>\n",
       "      <td>20000</td>\n",
       "      <td>(50, 50, 50, 50)</td>\n",
       "      <td>0.785633</td>\n",
       "      <td>0.221719</td>\n",
       "      <td>7.943425</td>\n",
       "    </tr>\n",
       "    <tr>\n",
       "      <th>6</th>\n",
       "      <td>0.00001</td>\n",
       "      <td>10000</td>\n",
       "      <td>(50, 50, 50, 50, 50, 50)</td>\n",
       "      <td>0.701923</td>\n",
       "      <td>0.199095</td>\n",
       "      <td>8.354873</td>\n",
       "    </tr>\n",
       "    <tr>\n",
       "      <th>4</th>\n",
       "      <td>0.00001</td>\n",
       "      <td>10000</td>\n",
       "      <td>(50, 50, 50, 50)</td>\n",
       "      <td>0.717195</td>\n",
       "      <td>0.196833</td>\n",
       "      <td>10.358008</td>\n",
       "    </tr>\n",
       "    <tr>\n",
       "      <th>9</th>\n",
       "      <td>0.00001</td>\n",
       "      <td>20000</td>\n",
       "      <td>(50, 50, 50, 50, 50)</td>\n",
       "      <td>0.624434</td>\n",
       "      <td>0.194570</td>\n",
       "      <td>4.590786</td>\n",
       "    </tr>\n",
       "    <tr>\n",
       "      <th>1</th>\n",
       "      <td>0.00001</td>\n",
       "      <td>5000</td>\n",
       "      <td>(50, 50, 50, 50, 50)</td>\n",
       "      <td>0.673077</td>\n",
       "      <td>0.187783</td>\n",
       "      <td>8.126346</td>\n",
       "    </tr>\n",
       "    <tr>\n",
       "      <th>10</th>\n",
       "      <td>0.00001</td>\n",
       "      <td>20000</td>\n",
       "      <td>(50, 50, 50, 50, 50, 50)</td>\n",
       "      <td>0.536199</td>\n",
       "      <td>0.171946</td>\n",
       "      <td>4.438486</td>\n",
       "    </tr>\n",
       "    <tr>\n",
       "      <th>2</th>\n",
       "      <td>0.00001</td>\n",
       "      <td>5000</td>\n",
       "      <td>(50, 50, 50, 50, 50, 50)</td>\n",
       "      <td>0.606900</td>\n",
       "      <td>0.160633</td>\n",
       "      <td>5.626406</td>\n",
       "    </tr>\n",
       "    <tr>\n",
       "      <th>5</th>\n",
       "      <td>0.00001</td>\n",
       "      <td>10000</td>\n",
       "      <td>(50, 50, 50, 50, 50)</td>\n",
       "      <td>0.657805</td>\n",
       "      <td>0.158371</td>\n",
       "      <td>9.126492</td>\n",
       "    </tr>\n",
       "    <tr>\n",
       "      <th>0</th>\n",
       "      <td>0.00001</td>\n",
       "      <td>5000</td>\n",
       "      <td>(50, 50, 50, 50)</td>\n",
       "      <td>0.537330</td>\n",
       "      <td>0.151584</td>\n",
       "      <td>10.171808</td>\n",
       "    </tr>\n",
       "    <tr>\n",
       "      <th>11</th>\n",
       "      <td>0.00001</td>\n",
       "      <td>20000</td>\n",
       "      <td>(50, 50, 50, 50, 50, 50, 50)</td>\n",
       "      <td>0.410068</td>\n",
       "      <td>0.131222</td>\n",
       "      <td>4.411276</td>\n",
       "    </tr>\n",
       "    <tr>\n",
       "      <th>7</th>\n",
       "      <td>0.00001</td>\n",
       "      <td>10000</td>\n",
       "      <td>(50, 50, 50, 50, 50, 50, 50)</td>\n",
       "      <td>0.461538</td>\n",
       "      <td>0.115385</td>\n",
       "      <td>6.677355</td>\n",
       "    </tr>\n",
       "    <tr>\n",
       "      <th>3</th>\n",
       "      <td>0.00001</td>\n",
       "      <td>5000</td>\n",
       "      <td>(50, 50, 50, 50, 50, 50, 50)</td>\n",
       "      <td>0.374434</td>\n",
       "      <td>0.113122</td>\n",
       "      <td>5.223359</td>\n",
       "    </tr>\n",
       "  </tbody>\n",
       "</table>\n",
       "</div>"
      ],
      "text/plain": [
       "      alpha  max_iter                         model  train_acc  test_acc  \\\n",
       "8   0.00001     20000              (50, 50, 50, 50)   0.785633  0.221719   \n",
       "6   0.00001     10000      (50, 50, 50, 50, 50, 50)   0.701923  0.199095   \n",
       "4   0.00001     10000              (50, 50, 50, 50)   0.717195  0.196833   \n",
       "9   0.00001     20000          (50, 50, 50, 50, 50)   0.624434  0.194570   \n",
       "1   0.00001      5000          (50, 50, 50, 50, 50)   0.673077  0.187783   \n",
       "10  0.00001     20000      (50, 50, 50, 50, 50, 50)   0.536199  0.171946   \n",
       "2   0.00001      5000      (50, 50, 50, 50, 50, 50)   0.606900  0.160633   \n",
       "5   0.00001     10000          (50, 50, 50, 50, 50)   0.657805  0.158371   \n",
       "0   0.00001      5000              (50, 50, 50, 50)   0.537330  0.151584   \n",
       "11  0.00001     20000  (50, 50, 50, 50, 50, 50, 50)   0.410068  0.131222   \n",
       "7   0.00001     10000  (50, 50, 50, 50, 50, 50, 50)   0.461538  0.115385   \n",
       "3   0.00001      5000  (50, 50, 50, 50, 50, 50, 50)   0.374434  0.113122   \n",
       "\n",
       "    train_time  \n",
       "8     7.943425  \n",
       "6     8.354873  \n",
       "4    10.358008  \n",
       "9     4.590786  \n",
       "1     8.126346  \n",
       "10    4.438486  \n",
       "2     5.626406  \n",
       "5     9.126492  \n",
       "0    10.171808  \n",
       "11    4.411276  \n",
       "7     6.677355  \n",
       "3     5.223359  "
      ]
     },
     "execution_count": 153,
     "metadata": {},
     "output_type": "execute_result"
    }
   ],
   "source": [
    "df.sort_values(\"test_acc\",  ascending=False)[:15]"
   ]
  },
  {
   "cell_type": "raw",
   "id": "7276881b-129f-4f26-ab59-7368d385d09d",
   "metadata": {},
   "source": [
    "\n",
    "### Результат\n",
    "НЕНОРМ  1.0\t  | 500\t  | (20, 20, 20, 20, 20)\t| 0.816742 |\t0.377828 |\t1.473909\n",
    "НОРМ    0.001 |\t20000 |\t(50, 5, 10, 15, 20)\t    | 0.44457  |\t0.192308 | 11.896763\n",
    "НОРМ  0.00001 |\t2000  |\t(50, 50, 50, 50)\t    | 0.78224  |    0.242081 |\t13.261162\n",
    "НОРМ  0.00001 | 20000 |\t(50, 50, 50, 50)\t    | 0.785633 |\t0.221719 |\t7.943425"
   ]
  },
  {
   "cell_type": "code",
   "execution_count": 101,
   "id": "01c31a3a-0650-444d-8373-4a68eaa782dc",
   "metadata": {},
   "outputs": [
    {
     "data": {
      "text/html": [
       "<div>\n",
       "<style scoped>\n",
       "    .dataframe tbody tr th:only-of-type {\n",
       "        vertical-align: middle;\n",
       "    }\n",
       "\n",
       "    .dataframe tbody tr th {\n",
       "        vertical-align: top;\n",
       "    }\n",
       "\n",
       "    .dataframe thead th {\n",
       "        text-align: right;\n",
       "    }\n",
       "</style>\n",
       "<table border=\"1\" class=\"dataframe\">\n",
       "  <thead>\n",
       "    <tr style=\"text-align: right;\">\n",
       "      <th></th>\n",
       "      <th>alpha</th>\n",
       "      <th>max_iter</th>\n",
       "      <th>model</th>\n",
       "      <th>train_acc</th>\n",
       "      <th>test_acc</th>\n",
       "      <th>train_time</th>\n",
       "    </tr>\n",
       "  </thead>\n",
       "  <tbody>\n",
       "    <tr>\n",
       "      <th>169</th>\n",
       "      <td>1.0</td>\n",
       "      <td>500</td>\n",
       "      <td>(20, 20, 20, 20, 20)</td>\n",
       "      <td>0.816742</td>\n",
       "      <td>0.377828</td>\n",
       "      <td>1.473909</td>\n",
       "    </tr>\n",
       "  </tbody>\n",
       "</table>\n",
       "</div>"
      ],
      "text/plain": [
       "     alpha  max_iter                 model  train_acc  test_acc  train_time\n",
       "169    1.0       500  (20, 20, 20, 20, 20)   0.816742  0.377828    1.473909"
      ]
     },
     "execution_count": 101,
     "metadata": {},
     "output_type": "execute_result"
    }
   ],
   "source": [
    "df[df[\"test_acc\"] == df[\"test_acc\"].max()]"
   ]
  },
  {
   "cell_type": "code",
   "execution_count": 136,
   "id": "147b1e89-00d1-4418-bd45-455eba05aefc",
   "metadata": {},
   "outputs": [
    {
     "data": {
      "text/html": [
       "<div>\n",
       "<style scoped>\n",
       "    .dataframe tbody tr th:only-of-type {\n",
       "        vertical-align: middle;\n",
       "    }\n",
       "\n",
       "    .dataframe tbody tr th {\n",
       "        vertical-align: top;\n",
       "    }\n",
       "\n",
       "    .dataframe thead th {\n",
       "        text-align: right;\n",
       "    }\n",
       "</style>\n",
       "<table border=\"1\" class=\"dataframe\">\n",
       "  <thead>\n",
       "    <tr style=\"text-align: right;\">\n",
       "      <th></th>\n",
       "      <th>alpha</th>\n",
       "      <th>max_iter</th>\n",
       "      <th>model</th>\n",
       "      <th>train_acc</th>\n",
       "      <th>test_acc</th>\n",
       "      <th>train_time</th>\n",
       "    </tr>\n",
       "  </thead>\n",
       "  <tbody>\n",
       "    <tr>\n",
       "      <th>34</th>\n",
       "      <td>0.001</td>\n",
       "      <td>20000</td>\n",
       "      <td>(50, 5, 10, 15, 20)</td>\n",
       "      <td>0.44457</td>\n",
       "      <td>0.192308</td>\n",
       "      <td>11.896763</td>\n",
       "    </tr>\n",
       "  </tbody>\n",
       "</table>\n",
       "</div>"
      ],
      "text/plain": [
       "    alpha  max_iter                model  train_acc  test_acc  train_time\n",
       "34  0.001     20000  (50, 5, 10, 15, 20)    0.44457  0.192308   11.896763"
      ]
     },
     "execution_count": 136,
     "metadata": {},
     "output_type": "execute_result"
    }
   ],
   "source": [
    "df[df[\"test_acc\"] == df[\"test_acc\"].max()]"
   ]
  },
  {
   "cell_type": "code",
   "execution_count": 148,
   "id": "1869698b-db5b-44e1-a5db-5b6cc5072a29",
   "metadata": {},
   "outputs": [
    {
     "data": {
      "text/plain": [
       "[339, 365, 357, 349, 358]"
      ]
     },
     "execution_count": 148,
     "metadata": {},
     "output_type": "execute_result"
    }
   ],
   "source": [
    "Y_clus_list = []\n",
    "for i, item in enumerate(Y_keys.keys()):\n",
    "    Y_clus_list.append(y_train[y_train[:,i]==1,:])\n",
    "balans_len = [len(yc) for yc in Y_clus_list]\n",
    "balans_len"
   ]
  },
  {
   "cell_type": "code",
   "execution_count": 222,
   "id": "8a8f1214-41b4-4ff4-bd34-3fb1a62d298c",
   "metadata": {},
   "outputs": [],
   "source": [
    "# save the model \n",
    "filename = 'model-2.sav'\n",
    "pickle.dump(mlp, open(filename, 'wb')) "
   ]
  },
  {
   "cell_type": "code",
   "execution_count": null,
   "id": "751e81bf-2f00-46bf-b43f-8091188f4274",
   "metadata": {},
   "outputs": [],
   "source": []
  }
 ],
 "metadata": {
  "kernelspec": {
   "display_name": "Python 3 (ipykernel)",
   "language": "python",
   "name": "python3"
  },
  "language_info": {
   "codemirror_mode": {
    "name": "ipython",
    "version": 3
   },
   "file_extension": ".py",
   "mimetype": "text/x-python",
   "name": "python",
   "nbconvert_exporter": "python",
   "pygments_lexer": "ipython3",
   "version": "3.10.12"
  }
 },
 "nbformat": 4,
 "nbformat_minor": 5
}
