{
 "cells": [
  {
   "cell_type": "code",
   "execution_count": 1,
   "id": "7a4108a6-f39b-4066-ba53-7448284e0ceb",
   "metadata": {},
   "outputs": [],
   "source": [
    "import json\n",
    "from img_doc.document.data_structures.page.extractors.word_extractors import TesseractWordExtractor\n",
    "import numpy as np\n",
    "from typing import List\n",
    "# from img_doc.document. import Word, Block, Image\n",
    "import pytesseract\n",
    "import cv2\n",
    "from img_doc.document import Document"
   ]
  },
  {
   "cell_type": "code",
   "execution_count": 2,
   "id": "dd9a159f-482d-465f-80f5-694d2685f2e6",
   "metadata": {},
   "outputs": [
    {
     "name": "stdout",
     "output_type": "stream",
     "text": [
      "ok\n"
     ]
    }
   ],
   "source": [
    "path_file_train = \"/home/daniil/program/dataset/publaynet/train.json\"\n",
    "with open(path_file_train, \"r\") as f:\n",
    "    print(\"ok\")\n",
    "\n",
    "\n",
    "COUNT_MIN_CATEGORY = 2500\n",
    "images_start = 1\n",
    "annotations_start = 27417937\n",
    "category_1000 = 52300000\n",
    "# 1000 категорий на category_1000 от annotations_start\n",
    "category_start = 1696001803"
   ]
  },
  {
   "cell_type": "code",
   "execution_count": 3,
   "id": "88293d85-44b6-42f4-86e3-cb9d3a43cdf2",
   "metadata": {},
   "outputs": [],
   "source": [
    "def my_read(seek=0, step=2000):\n",
    "    with open(path_file_train, \"r\") as f:\n",
    "        f.seek(seek)\n",
    "        str_ = f.read(step)\n",
    "    return str_\n",
    "    "
   ]
  },
  {
   "cell_type": "code",
   "execution_count": null,
   "id": "b24a56d9-4aeb-48df-a74c-3b21d905b759",
   "metadata": {},
   "outputs": [],
   "source": []
  },
  {
   "cell_type": "markdown",
   "id": "063118dc-050f-44a1-9321-907b00932f29",
   "metadata": {},
   "source": [
    "# Поиск нужного количества сегментов"
   ]
  },
  {
   "cell_type": "code",
   "execution_count": 4,
   "id": "171c61ba-93fc-41b0-83f9-0249ef8ab2d4",
   "metadata": {},
   "outputs": [],
   "source": [
    "step = 1000\n",
    "min_size_dataset = COUNT_MIN_CATEGORY\n",
    "key_category = '\"category_id\"'\n",
    "key_image_id = '\"image_id\"'\n",
    "len_key_category = 3+len(key_category)\n",
    "list_count_category = {1: 0, 2: 0, 3: 0, 4: 0, 5: 0}\n",
    "my_dataset = []\n",
    "seek = annotations_start\n",
    "while seek < category_start:    \n",
    "    str_ = my_read(seek=seek, step=step)\n",
    "    # try:\n",
    "    index_char_category = str_.find(key_category)\n",
    "    rigth_border = seek+index_char_category+len_key_category \n",
    "    if index_char_category != -1:\n",
    "        str_info = my_read(rigth_border-step, step=step)\n",
    "        index_char_image = str_info.rfind(key_image_id)\n",
    "        rez = json.loads(\"{\" + str_info[index_char_image:] + \"}\")\n",
    "        my_dataset.append(rez)  \n",
    "        list_count_category[rez[\"category_id\"]] += 1\n",
    "        \n",
    "        stop_ = True\n",
    "        for key, count in list_count_category.items():\n",
    "            if count < min_size_dataset:\n",
    "                stop_ = False\n",
    "\n",
    "        if stop_:\n",
    "            break\n",
    "    \n",
    "    seek = rigth_border  "
   ]
  },
  {
   "cell_type": "code",
   "execution_count": 5,
   "id": "926fbd6f-fddc-407a-9aca-cb335835c601",
   "metadata": {},
   "outputs": [
    {
     "data": {
      "text/plain": [
       "{1: 95320, 2: 25141, 3: 2500, 4: 4580, 5: 4261}"
      ]
     },
     "execution_count": 5,
     "metadata": {},
     "output_type": "execute_result"
    }
   ],
   "source": [
    "list_count_category"
   ]
  },
  {
   "cell_type": "markdown",
   "id": "0bc01a49-02d8-437f-95fc-f05ca68e531b",
   "metadata": {},
   "source": [
    "# Поиск нужных картинок"
   ]
  },
  {
   "cell_type": "code",
   "execution_count": 6,
   "id": "14ec148d-2506-4655-a737-6cc5320828a5",
   "metadata": {},
   "outputs": [],
   "source": [
    "list_image_id = list(set([row[\"image_id\"] for row in my_dataset]))"
   ]
  },
  {
   "cell_type": "code",
   "execution_count": 7,
   "id": "d1cc9c39-1dc6-45eb-a86d-751e3ca29f26",
   "metadata": {},
   "outputs": [],
   "source": [
    "step = 300\n",
    "\n",
    "key_filename = '\"file_name\"'\n",
    "list_exit = dict()\n",
    "for key in list_image_id:\n",
    "    list_exit[key] = False\n",
    "    \n",
    "\n",
    "my_images = []\n",
    "seek = images_start\n",
    "while seek < annotations_start:    \n",
    "    str_ = my_read(seek=seek, step=step)\n",
    "    # try:\n",
    "    index_char_filename = str_.find(key_filename)\n",
    "    left_border = seek+index_char_filename-1\n",
    "    if index_char_filename != -1:\n",
    "        str_info = my_read(left_border, step=step)\n",
    "        right_bord = str_info.find(\"}\")\n",
    "        rez = json.loads(str_info[:right_bord+1])\n",
    "        if rez[\"id\"] in list_exit.keys():\n",
    "            if not list_exit[rez[\"id\"]]: \n",
    "                list_exit[rez[\"id\"]] = True\n",
    "                my_images.append(rez)\n",
    "        for key, ind in list_exit.items():\n",
    "            if ind:\n",
    "                break\n",
    "\n",
    "    \n",
    "    seek = left_border+right_bord "
   ]
  },
  {
   "cell_type": "code",
   "execution_count": 8,
   "id": "50b7dd40-6360-46e7-bf80-337659d58df3",
   "metadata": {},
   "outputs": [
    {
     "name": "stdout",
     "output_type": "stream",
     "text": [
      "кол-во изображений:\t 13360\n",
      "кол-во сегментов:\t 131802\n"
     ]
    }
   ],
   "source": [
    "print(f\"кол-во изображений:\\t {len(my_images)}\")\n",
    "print(f\"кол-во сегментов:\\t {len(my_dataset)}\")"
   ]
  },
  {
   "cell_type": "code",
   "execution_count": 9,
   "id": "3c593aaf-f1ef-449c-9a3e-8ca87f761c6f",
   "metadata": {},
   "outputs": [],
   "source": [
    "path_dir_image = \"/home/daniil/program/dataset/publaynet/train\"\n",
    "path_mini_publaynet = \"/home/daniil/program/dataset/mini2_ts_publaynet\"\n",
    "path_mini_publaynet_train = \"/home/daniil/program/dataset/mini2_ts_publaynet/train\""
   ]
  },
  {
   "cell_type": "code",
   "execution_count": 10,
   "id": "9054f7ca-8350-4035-812f-71e4de8bf030",
   "metadata": {},
   "outputs": [],
   "source": [
    "import os, shutil"
   ]
  },
  {
   "cell_type": "code",
   "execution_count": null,
   "id": "f9129d8b-953b-4255-acea-055461f27539",
   "metadata": {},
   "outputs": [
    {
     "name": "stdout",
     "output_type": "stream",
     "text": [
      "    75.55%    \r"
     ]
    }
   ],
   "source": [
    "img_len = len(my_images)\n",
    "if not os.path.exists(path_mini_publaynet):\n",
    "    os.mkdir(path_mini_publaynet)\n",
    "    os.mkdir(path_mini_publaynet_train)\n",
    "for i, img in enumerate(my_images):\n",
    "    pr = i/img_len*100\n",
    "    print(f\"    {pr:.2f}%    \", end=\"\\r\" )\n",
    "    img_path = os.path.join(path_dir_image, img[\"file_name\"])\n",
    "    shutil.copy(\n",
    "        img_path,\n",
    "        os.path.join(path_mini_publaynet_train)\n",
    "    )\n",
    "    doc = Document()\n",
    "    doc.set_from_path(img_path)\n",
    "    doc.pages[0].extract_word(conf={\"lang\": \"eng\", \"psm\": 4, \"oem\": 3, \"k\": 4})\n",
    "    json_words = [w.to_dict()  for w in doc.pages[0].words]\n",
    "    with open(os.path.join(path_mini_publaynet_train, img[\"file_name\"]+\".json\"), 'w') as f:\n",
    "        json.dump({\"words\": json_words}, f)"
   ]
  },
  {
   "cell_type": "code",
   "execution_count": null,
   "id": "716708e4-bf55-4876-85dd-54619a9959b4",
   "metadata": {},
   "outputs": [],
   "source": [
    "categories = [{\"supercategory\": \"\", \"id\": 1, \"name\": \"text\"}, \n",
    "               {\"supercategory\": \"\", \"id\": 2, \"name\": \"title\"}, \n",
    "               {\"supercategory\": \"\", \"id\": 3, \"name\": \"list\"}, \n",
    "               {\"supercategory\": \"\", \"id\": 4, \"name\": \"table\"}, \n",
    "               {\"supercategory\": \"\", \"id\": 5, \"name\": \"figure\"}]"
   ]
  },
  {
   "cell_type": "code",
   "execution_count": null,
   "id": "9fd35012-6920-444a-9fa8-8f4970b99cfb",
   "metadata": {},
   "outputs": [],
   "source": [
    "with open(os.path.join(path_mini_publaynet, \"train.json\"), 'w') as f:\n",
    "    json.dump({\"images\": my_images, \"annotations\": my_dataset, \"categories\": categories}, f)"
   ]
  },
  {
   "cell_type": "code",
   "execution_count": null,
   "id": "3932810a-0977-4f70-9b2c-916289cdc2e5",
   "metadata": {},
   "outputs": [],
   "source": []
  }
 ],
 "metadata": {
  "kernelspec": {
   "display_name": "Python 3 (ipykernel)",
   "language": "python",
   "name": "python3"
  },
  "language_info": {
   "codemirror_mode": {
    "name": "ipython",
    "version": 3
   },
   "file_extension": ".py",
   "mimetype": "text/x-python",
   "name": "python",
   "nbconvert_exporter": "python",
   "pygments_lexer": "ipython3",
   "version": "3.10.12"
  }
 },
 "nbformat": 4,
 "nbformat_minor": 5
}
