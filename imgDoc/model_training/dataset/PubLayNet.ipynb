{
 "cells": [
  {
   "cell_type": "code",
   "execution_count": 1,
   "id": "e00a212f-b3c4-4160-9812-a8a63b027712",
   "metadata": {},
   "outputs": [],
   "source": [
    "\n",
    "# importing prerequisites\n",
    "import sys\n",
    "import requests\n",
    "import tarfile\n",
    "import json\n",
    "import numpy as np\n",
    "from os import path\n",
    "from PIL import Image\n",
    "from PIL import ImageFont, ImageDraw\n",
    "from glob import glob\n",
    "from matplotlib import pyplot as plt\n",
    "%matplotlib inline"
   ]
  },
  {
   "cell_type": "code",
   "execution_count": 2,
   "id": "bc45995a-f771-4326-b029-f1d046b53c3a",
   "metadata": {},
   "outputs": [],
   "source": [
    "fname = \"/home/daniil/program/dataset/publaynet.tar.gz\""
   ]
  },
  {
   "cell_type": "code",
   "execution_count": null,
   "id": "e38a3aaa-53b8-486e-baf6-3a1dc1447201",
   "metadata": {},
   "outputs": [],
   "source": [
    "# Extracting the dataset\n",
    "tar = tarfile.open(fname)"
   ]
  },
  {
   "cell_type": "code",
   "execution_count": 12,
   "id": "fc8beb08-5a21-4787-9bb9-9d93195c1244",
   "metadata": {},
   "outputs": [],
   "source": [
    "from contextlib import redirect_stdout\n",
    "import io\n",
    "f = io.StringIO()\n",
    "with redirect_stdout(f):\n",
    "    tar.list()\n",
    "\n",
    "with open(\"list.txt\", \"w\") as file_list:\n",
    "    file_list.write(f.getvalue())\n"
   ]
  },
  {
   "cell_type": "code",
   "execution_count": 16,
   "id": "c4032e87-f8d0-4288-94f2-faa4f610cef3",
   "metadata": {},
   "outputs": [
    {
     "ename": "KeyError",
     "evalue": "\"filename 'publaynet/test.json' not found\"",
     "output_type": "error",
     "traceback": [
      "\u001b[0;31m---------------------------------------------------------------------------\u001b[0m",
      "\u001b[0;31mKeyError\u001b[0m                                  Traceback (most recent call last)",
      "Cell \u001b[0;32mIn[16], line 2\u001b[0m\n\u001b[1;32m      1\u001b[0m tar\u001b[38;5;241m.\u001b[39mextract(\u001b[38;5;124m'\u001b[39m\u001b[38;5;124mpublaynet/train.json\u001b[39m\u001b[38;5;124m'\u001b[39m)\n\u001b[0;32m----> 2\u001b[0m \u001b[43mtar\u001b[49m\u001b[38;5;241;43m.\u001b[39;49m\u001b[43mextract\u001b[49m\u001b[43m(\u001b[49m\u001b[38;5;124;43m'\u001b[39;49m\u001b[38;5;124;43mpublaynet/test.json\u001b[39;49m\u001b[38;5;124;43m'\u001b[39;49m\u001b[43m)\u001b[49m\n",
      "File \u001b[0;32m/usr/lib/python3.10/tarfile.py:2288\u001b[0m, in \u001b[0;36mTarFile.extract\u001b[0;34m(self, member, path, set_attrs, numeric_owner, filter)\u001b[0m\n\u001b[1;32m   2275\u001b[0m \u001b[38;5;250m\u001b[39m\u001b[38;5;124;03m\"\"\"Extract a member from the archive to the current working directory,\u001b[39;00m\n\u001b[1;32m   2276\u001b[0m \u001b[38;5;124;03m   using its full name. Its file information is extracted as accurately\u001b[39;00m\n\u001b[1;32m   2277\u001b[0m \u001b[38;5;124;03m   as possible. `member' may be a filename or a TarInfo object. You can\u001b[39;00m\n\u001b[0;32m   (...)\u001b[0m\n\u001b[1;32m   2285\u001b[0m \u001b[38;5;124;03m   String names of common filters are accepted.\u001b[39;00m\n\u001b[1;32m   2286\u001b[0m \u001b[38;5;124;03m\"\"\"\u001b[39;00m\n\u001b[1;32m   2287\u001b[0m filter_function \u001b[38;5;241m=\u001b[39m \u001b[38;5;28mself\u001b[39m\u001b[38;5;241m.\u001b[39m_get_filter_function(\u001b[38;5;28mfilter\u001b[39m)\n\u001b[0;32m-> 2288\u001b[0m tarinfo \u001b[38;5;241m=\u001b[39m \u001b[38;5;28;43mself\u001b[39;49m\u001b[38;5;241;43m.\u001b[39;49m\u001b[43m_get_extract_tarinfo\u001b[49m\u001b[43m(\u001b[49m\u001b[43mmember\u001b[49m\u001b[43m,\u001b[49m\u001b[43m \u001b[49m\u001b[43mfilter_function\u001b[49m\u001b[43m,\u001b[49m\u001b[43m \u001b[49m\u001b[43mpath\u001b[49m\u001b[43m)\u001b[49m\n\u001b[1;32m   2289\u001b[0m \u001b[38;5;28;01mif\u001b[39;00m tarinfo \u001b[38;5;129;01mis\u001b[39;00m \u001b[38;5;129;01mnot\u001b[39;00m \u001b[38;5;28;01mNone\u001b[39;00m:\n\u001b[1;32m   2290\u001b[0m     \u001b[38;5;28mself\u001b[39m\u001b[38;5;241m.\u001b[39m_extract_one(tarinfo, path, set_attrs, numeric_owner)\n",
      "File \u001b[0;32m/usr/lib/python3.10/tarfile.py:2295\u001b[0m, in \u001b[0;36mTarFile._get_extract_tarinfo\u001b[0;34m(self, member, filter_function, path)\u001b[0m\n\u001b[1;32m   2293\u001b[0m \u001b[38;5;250m\u001b[39m\u001b[38;5;124;03m\"\"\"Get filtered TarInfo (or None) from member, which might be a str\"\"\"\u001b[39;00m\n\u001b[1;32m   2294\u001b[0m \u001b[38;5;28;01mif\u001b[39;00m \u001b[38;5;28misinstance\u001b[39m(member, \u001b[38;5;28mstr\u001b[39m):\n\u001b[0;32m-> 2295\u001b[0m     tarinfo \u001b[38;5;241m=\u001b[39m \u001b[38;5;28;43mself\u001b[39;49m\u001b[38;5;241;43m.\u001b[39;49m\u001b[43mgetmember\u001b[49m\u001b[43m(\u001b[49m\u001b[43mmember\u001b[49m\u001b[43m)\u001b[49m\n\u001b[1;32m   2296\u001b[0m \u001b[38;5;28;01melse\u001b[39;00m:\n\u001b[1;32m   2297\u001b[0m     tarinfo \u001b[38;5;241m=\u001b[39m member\n",
      "File \u001b[0;32m/usr/lib/python3.10/tarfile.py:1978\u001b[0m, in \u001b[0;36mTarFile.getmember\u001b[0;34m(self, name)\u001b[0m\n\u001b[1;32m   1976\u001b[0m tarinfo \u001b[38;5;241m=\u001b[39m \u001b[38;5;28mself\u001b[39m\u001b[38;5;241m.\u001b[39m_getmember(name\u001b[38;5;241m.\u001b[39mrstrip(\u001b[38;5;124m'\u001b[39m\u001b[38;5;124m/\u001b[39m\u001b[38;5;124m'\u001b[39m))\n\u001b[1;32m   1977\u001b[0m \u001b[38;5;28;01mif\u001b[39;00m tarinfo \u001b[38;5;129;01mis\u001b[39;00m \u001b[38;5;28;01mNone\u001b[39;00m:\n\u001b[0;32m-> 1978\u001b[0m     \u001b[38;5;28;01mraise\u001b[39;00m \u001b[38;5;167;01mKeyError\u001b[39;00m(\u001b[38;5;124m\"\u001b[39m\u001b[38;5;124mfilename \u001b[39m\u001b[38;5;132;01m%r\u001b[39;00m\u001b[38;5;124m not found\u001b[39m\u001b[38;5;124m\"\u001b[39m \u001b[38;5;241m%\u001b[39m name)\n\u001b[1;32m   1979\u001b[0m \u001b[38;5;28;01mreturn\u001b[39;00m tarinfo\n",
      "\u001b[0;31mKeyError\u001b[0m: \"filename 'publaynet/test.json' not found\""
     ]
    }
   ],
   "source": [
    "tar.extract('publaynet/train.json')\n",
    "tar.extract('publaynet/test.json')"
   ]
  },
  {
   "cell_type": "code",
   "execution_count": 14,
   "id": "20b8bbb5-59b1-4bac-8166-88ff73a2fc1d",
   "metadata": {},
   "outputs": [],
   "source": [
    "list_test"
   ]
  },
  {
   "cell_type": "code",
   "execution_count": null,
   "id": "40ae233a-faa9-405c-9edc-26899bdd66a8",
   "metadata": {},
   "outputs": [],
   "source": []
  }
 ],
 "metadata": {
  "kernelspec": {
   "display_name": "Python 3 (ipykernel)",
   "language": "python",
   "name": "python3"
  },
  "language_info": {
   "codemirror_mode": {
    "name": "ipython",
    "version": 3
   },
   "file_extension": ".py",
   "mimetype": "text/x-python",
   "name": "python",
   "nbconvert_exporter": "python",
   "pygments_lexer": "ipython3",
   "version": "3.10.12"
  }
 },
 "nbformat": 4,
 "nbformat_minor": 5
}
