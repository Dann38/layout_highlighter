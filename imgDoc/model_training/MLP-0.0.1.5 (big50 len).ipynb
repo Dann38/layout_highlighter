{
 "cells": [
  {
   "cell_type": "code",
   "execution_count": 1,
   "id": "5f235594-9e4b-4cd4-85d3-19f01fadd607",
   "metadata": {},
   "outputs": [
    {
     "name": "stdout",
     "output_type": "stream",
     "text": [
      "Пример, x: [0.0, 0.0, 0.0, 0.0, 0.0, 0.0, 0.0, 0.0, 0.0, 0.0, 0.0, 0.0, 0.0, 0.0, 0.0, 0.0, 0.0, 0.0, 0.0, 0.0, 0.0, 0.0, 0.0, 0.0, 0.0, 0.0, 0.0, 0.0, 0.0, 0.0, 0.0, 0.0, 0.0, 0.0, 0.0, 0.0, 0.0, 0.0, 0.0, 0.0, 0.0, 0.0, 0.0, 0.0, 0.0, 0.0, 0.0, 0.0, 0.0, 0.0]\n",
      "Размер x: 50\n",
      "Пример, y: 1\n",
      "Кол-во записей: 4958\n"
     ]
    }
   ],
   "source": [
    "import json\n",
    "with open(\"./dataset/json/mini_publaynat_mlp_len_veclen50.json\") as f:\n",
    "    dataset = json.load(f)\n",
    "\n",
    "print(\"Пример, x:\", dataset[\"x\"][0])\n",
    "print(\"Размер x:\", len(dataset[\"x\"][1]))\n",
    "print(\"Пример, y:\", dataset[\"y\"][1])\n",
    "print(\"Кол-во записей:\", len(dataset[\"x\"]))"
   ]
  },
  {
   "cell_type": "code",
   "execution_count": null,
   "id": "657b4dd5-9e78-4d28-9423-a037a9576490",
   "metadata": {},
   "outputs": [],
   "source": []
  },
  {
   "cell_type": "code",
   "execution_count": 2,
   "id": "01ab90b6-1d49-4eed-92c1-6b13a578cc31",
   "metadata": {},
   "outputs": [],
   "source": [
    "import numpy as np\n",
    "from sklearn.model_selection import train_test_split\n",
    "from sklearn.preprocessing import StandardScaler\n",
    "from sklearn.neural_network import MLPClassifier\n",
    "from sklearn.metrics import accuracy_score\n",
    "import pickle "
   ]
  },
  {
   "cell_type": "code",
   "execution_count": 3,
   "id": "2b98a122-3acc-4b83-a9b0-b92b3e5ffb34",
   "metadata": {},
   "outputs": [],
   "source": [
    "keys = list(set(dataset[\"y\"]))\n",
    "Y_keys = dict()\n",
    "for i, key in enumerate(keys):\n",
    "    zeros = np.zeros((len(keys)))\n",
    "    zeros[i] = 1\n",
    "    Y_keys[key] = zeros\n",
    "Y_keys\n",
    "Y = np.array([Y_keys[yi] for yi in dataset[\"y\"]] )\n",
    "X = np.array(dataset[\"x\"])"
   ]
  },
  {
   "cell_type": "code",
   "execution_count": null,
   "id": "d76848f0-fb19-46d9-a7dc-9841e3a3da68",
   "metadata": {},
   "outputs": [],
   "source": []
  },
  {
   "cell_type": "code",
   "execution_count": 4,
   "id": "bc238a7d-6a4e-4cb4-83c7-65abec09b95b",
   "metadata": {},
   "outputs": [],
   "source": [
    "x1 = [x for i, x in enumerate(X) if Y[i][0] == 1]\n",
    "y1 = [y[:3] for y in Y if y[0] == 1]\n",
    "x2 = [x for i, x in enumerate(X) if Y[i][1] == 1]\n",
    "y2 = [y[:3] for y in Y if y[1] == 1]\n",
    "x3 = [x for i, x in enumerate(X) if Y[i][2] == 1]\n",
    "y3 = [y[:3] for y in Y if y[2] == 1]"
   ]
  },
  {
   "cell_type": "code",
   "execution_count": 5,
   "id": "707fe132-4aab-402d-ac74-cda56319ed64",
   "metadata": {
    "scrolled": true
   },
   "outputs": [
    {
     "data": {
      "text/plain": [
       "995"
      ]
     },
     "execution_count": 5,
     "metadata": {},
     "output_type": "execute_result"
    }
   ],
   "source": [
    "len(x3)"
   ]
  },
  {
   "cell_type": "code",
   "execution_count": 6,
   "id": "3c840372-75c1-4444-9882-6c0dc2d73c6f",
   "metadata": {},
   "outputs": [],
   "source": [
    "len_text = 955\n",
    "len_header = 995\n",
    "len_list = 995\n",
    "\n",
    "X = x1[:len_text]+ x2[:len_header] + x3[:len_list]\n",
    "Y = y1[:len_text]+ y2[:len_header] + y3[:len_list]\n"
   ]
  },
  {
   "cell_type": "code",
   "execution_count": 7,
   "id": "47b03ed1-1c0f-468f-9cde-6c6222c39a03",
   "metadata": {},
   "outputs": [],
   "source": [
    "X_train, X_test, y_train, y_test = train_test_split(\n",
    "    X, Y, test_size=0.2, random_state=42)"
   ]
  },
  {
   "cell_type": "code",
   "execution_count": 14,
   "id": "9a44ce18-f732-4840-9bab-665bda5af62b",
   "metadata": {},
   "outputs": [],
   "source": [
    "# Creating (MLP) classifier\n",
    "clf = MLPClassifier(hidden_layer_sizes=(50, 40, 40, 30, 20), max_iter=1000,\n",
    "                    random_state=42)"
   ]
  },
  {
   "cell_type": "code",
   "execution_count": 15,
   "id": "4a9f1243-deb2-422c-a5bd-01f95d88a4e1",
   "metadata": {},
   "outputs": [],
   "source": [
    "# Training the model\n",
    "clf.fit(X_train, y_train)\n",
    "# Making prediction\n",
    "y_pred = clf.predict(X_test) "
   ]
  },
  {
   "cell_type": "code",
   "execution_count": 16,
   "id": "2c54ba85-7bf3-4aa8-83d8-3a3a5b1eb571",
   "metadata": {},
   "outputs": [
    {
     "name": "stdout",
     "output_type": "stream",
     "text": [
      "Accuracy: 0.62\n"
     ]
    }
   ],
   "source": [
    "# Determining Accuracy\n",
    "accuracy = accuracy_score(y_test, y_pred)\n",
    "print(f\"Accuracy: {accuracy:.2f}\")"
   ]
  },
  {
   "cell_type": "code",
   "execution_count": 17,
   "id": "2da283fc-7bce-4fbe-9f4c-476096ec09f2",
   "metadata": {},
   "outputs": [],
   "source": [
    "# save the model \n",
    "filename = 'model-5.sav'\n",
    "pickle.dump(clf, open(filename, 'wb')) "
   ]
  },
  {
   "cell_type": "code",
   "execution_count": 84,
   "id": "9edad06e-2d38-484d-89ad-8756cf19951c",
   "metadata": {},
   "outputs": [
    {
     "data": {
      "text/plain": [
       "array([[0, 0, 1],\n",
       "       [0, 0, 1],\n",
       "       [1, 0, 0],\n",
       "       [0, 0, 1],\n",
       "       [0, 1, 0],\n",
       "       [0, 1, 0],\n",
       "       [1, 0, 0],\n",
       "       [1, 0, 0],\n",
       "       [1, 0, 0],\n",
       "       [0, 0, 1],\n",
       "       [0, 0, 1],\n",
       "       [1, 0, 0],\n",
       "       [0, 1, 0]])"
      ]
     },
     "execution_count": 84,
     "metadata": {},
     "output_type": "execute_result"
    }
   ],
   "source": [
    "clf.predict(X_test)"
   ]
  },
  {
   "cell_type": "code",
   "execution_count": 85,
   "id": "10f07f44-2829-4021-a79e-90852bb354ca",
   "metadata": {},
   "outputs": [
    {
     "data": {
      "text/plain": [
       "[array([0., 0., 1.]),\n",
       " array([0., 0., 1.]),\n",
       " array([1., 0., 0.]),\n",
       " array([0., 0., 1.]),\n",
       " array([1., 0., 0.]),\n",
       " array([0., 1., 0.]),\n",
       " array([1., 0., 0.]),\n",
       " array([1., 0., 0.]),\n",
       " array([0., 1., 0.]),\n",
       " array([0., 0., 1.]),\n",
       " array([0., 0., 1.]),\n",
       " array([1., 0., 0.]),\n",
       " array([0., 1., 0.])]"
      ]
     },
     "execution_count": 85,
     "metadata": {},
     "output_type": "execute_result"
    }
   ],
   "source": [
    "y_test"
   ]
  },
  {
   "cell_type": "code",
   "execution_count": null,
   "id": "53d9f797-8f98-4d67-a957-8dcbdbb0506a",
   "metadata": {},
   "outputs": [],
   "source": []
  }
 ],
 "metadata": {
  "kernelspec": {
   "display_name": "Python 3 (ipykernel)",
   "language": "python",
   "name": "python3"
  },
  "language_info": {
   "codemirror_mode": {
    "name": "ipython",
    "version": 3
   },
   "file_extension": ".py",
   "mimetype": "text/x-python",
   "name": "python",
   "nbconvert_exporter": "python",
   "pygments_lexer": "ipython3",
   "version": "3.10.12"
  }
 },
 "nbformat": 4,
 "nbformat_minor": 5
}
