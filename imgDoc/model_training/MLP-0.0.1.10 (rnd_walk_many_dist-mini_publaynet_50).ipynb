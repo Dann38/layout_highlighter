{
 "cells": [
  {
   "cell_type": "code",
   "execution_count": null,
   "id": "fd0060cc-3d5b-47ce-8374-fee54bc5e7ab",
   "metadata": {},
   "outputs": [],
   "source": []
  },
  {
   "cell_type": "code",
   "execution_count": 2,
   "id": "dd08cd98-5998-496f-8c52-657855feb1ea",
   "metadata": {},
   "outputs": [
    {
     "name": "stderr",
     "output_type": "stream",
     "text": [
      "/tmp/ipykernel_60534/401065195.py:3: DeprecationWarning: \n",
      "Pyarrow will become a required dependency of pandas in the next major release of pandas (pandas 3.0),\n",
      "(to allow more performant data types, such as the Arrow string type, and better interoperability with other libraries)\n",
      "but was not found to be installed on your system.\n",
      "If this would cause problems for you,\n",
      "please provide us feedback at https://github.com/pandas-dev/pandas/issues/54466\n",
      "        \n",
      "  import pandas as pd\n"
     ]
    }
   ],
   "source": [
    "import json\n",
    "import numpy as np\n",
    "import pandas as pd\n",
    "from time import time\n",
    "\n",
    "from sklearn.model_selection import train_test_split\n",
    "from sklearn.preprocessing import StandardScaler\n",
    "from sklearn.neural_network import MLPClassifier\n",
    "\n",
    "from sklearn.metrics import accuracy_score\n",
    "import pickle "
   ]
  },
  {
   "cell_type": "code",
   "execution_count": 3,
   "id": "ce9412a1-a14e-4994-ad3f-06a552fb305a",
   "metadata": {},
   "outputs": [],
   "source": [
    "name_model = \"mlp_rnd_walk_many_dist-mini_publaynet_50\"\n",
    "with open(f\"./dataset/json/{name_model}.json\", \"r\") as f:\n",
    "    dataset = json.load(f)"
   ]
  },
  {
   "cell_type": "code",
   "execution_count": 4,
   "id": "200c0cc1-3902-451a-b38a-5f42c0814b99",
   "metadata": {},
   "outputs": [
    {
     "name": "stdout",
     "output_type": "stream",
     "text": [
      "Первый x:\n",
      " [0.0010090817356205853, 0.0, 0.0030272452068617556, 0.0010090817356205853, 0.0030272452068617556, 0.0, 0.0, 0.0030272452068617556, 0.0030272452068617556, 0.0, 0.0, 0.0030272452068617556, 0.0020181634712411706, 0.0030272452068617556, 0.005045408678102927, 0.0030272452068617556, 0.0030272452068617556, 0.0, 0.0, 0.0030272452068617556, 0.0010090817356205853, 0.0, 0.0030272452068617556, 0.0010090817356205853, 0.0030272452068617556, 0.0, 0.0, 0.0030272452068617556, 0.0030272452068617556, 0.0, 0.0, 0.0030272452068617556, 0.0010090817356205853, 0.0, 0.0030272452068617556, 0.0010090817356205853, 0.0030272452068617556, 0.0, 0.0, 0.0030272452068617556, 0.0020181634712411706, 0.0030272452068617556, 0.005045408678102927, 0.0030272452068617556, 0.005045408678102927, 0.020181634712411706, 0.0, 0.028254288597376387, 0.0020181634712411706, 0.0030272452068617556, 0.005045408678102927, 0.0030272452068617556, 0.0020181634712411706, 0.0030272452068617556, 0.005045408678102927, 0.0030272452068617556, 0.005045408678102927, 0.011099899091826439, 0.0, 0.0020181634712411706, 0.016145307769929364, 0.0020181634712411706, 0.0, 0.011099899091826439, 0.016145307769929364, 0.0020181634712411706, 0.0, 0.011099899091826439, 0.005045408678102927, 0.0020181634712411706, 0.016145307769929364, 0.0020181634712411706, 0.0, 0.0030272452068617556, 0.005045408678102927, 0.0030272452068617556, 0.0020181634712411706, 0.0020181634712411706, 0.005045408678102927, 0.0030272452068617556, 0.0, 0.0010090817356205853, 0.0020181634712411706, 0.004036326942482341, 0.0020181634712411706, 0.0020181634712411706, 0.005045408678102927, 0.0030272452068617556, 0.0, 0.0010090817356205853, 0.0020181634712411706, 0.004036326942482341, 0.0, 0.0010090817356205853, 0.005045408678102927, 0.0020181634712411706, 0.0030272452068617556, 0.0020181634712411706, 0.02320887991927346, 0.0010090817356205853, 0.012108980827447022, 0.0020181634712411706, 0.0, 0.034308779011099896, 0.012108980827447022, 0.0020181634712411706, 0.0, 0.034308779011099896, 0.027245206861755803, 0.0, 0.0, 0.0020181634712411706, 0.004036326942482341, 0.0, 0.027245206861755803, 0.004036326942482341, 0.0, 0.0, 0.004036326942482341, 0.0030272452068617556, 0.0, 0.0, 0.004036326942482341, 0.0030272452068617556, 0.0, 0.0, 0.004036326942482341, 0.0030272452068617556, 0.0, 0.0, 0.004036326942482341, 0.0030272452068617556, 0.004036326942482341, 0.0, 0.027245206861755803, 0.004036326942482341, 0.0, 0.0, 0.004036326942482341, 0.0030272452068617556, 0.0, 0.0030272452068617556, 0.0030272452068617556, 0.004036326942482341, 0.0030272452068617556, 0.0020181634712411706, 0.02320887991927346, 0.0010090817356205853, 0.0, 0.0030272452068617556, 0.0030272452068617556, 0.004036326942482341, 0.0030272452068617556, 0.0020181634712411706, 0.02320887991927346, 0.0010090817356205853, 0.0, 0.004036326942482341, 0.0010090817356205853, 0.0020181634712411706, 0.0010090817356205853, 0.0, 0.0030272452068617556, 0.0010090817356205853, 0.013118062563067608, 0.0010090817356205853, 0.012108980827447022, 0.0010090817356205853, 0.012108980827447022, 0.0020181634712411706, 0.0, 0.034308779011099896, 0.012108980827447022, 0.0020181634712411706, 0.0, 0.034308779011099896, 0.027245206861755803, 0.0, 0.0, 0.0020181634712411706, 0.012108980827447022, 0.0020181634712411706, 0.0, 0.034308779011099896, 0.012108980827447022, 0.0020181634712411706, 0.0, 0.034308779011099896, 0.012108980827447022, 0.0020181634712411706, 0.0, 0.034308779011099896, 0.013118062563067608, 0.0010090817356205853, 0.012108980827447022, 0.0010090817356205853, 0.0010090817356205853, 0.0, 0.0030272452068617556, 0.0010090817356205853]\n",
      "Последний, x:\n",
      " [0.012594458438287154, 0.0033585222502099076, 0.0, 0.0033585222502099076, 0.0016792611251049538, 0.0, 0.014273719563392108, 0.0033585222502099076, 0.014273719563392108, 0.0, 0.0, 0.0033585222502099076, 0.0041981528127623844, 0.0033585222502099076, 0.0041981528127623844, 0.0033585222502099076, 0.0041981528127623844, 0.0, 0.0, 0.005037783375314861, 0.0041981528127623844, 0.0033585222502099076, 0.0041981528127623844, 0.0033585222502099076, 0.0025188916876574307, 0.0033585222502099076, 0.0025188916876574307, 0.0041981528127623844, 0.014273719563392108, 0.0041981528127623844, 0.0, 0.0033585222502099076, 0.0025188916876574307, 0.0033585222502099076, 0.0025188916876574307, 0.0041981528127623844, 0.0025188916876574307, 0.005037783375314861, 0.0, 0.005877413937867338, 0.0025188916876574307, 0.0033585222502099076, 0.0025188916876574307, 0.0041981528127623844, 0.012594458438287154, 0.005037783375314861, 0.0025188916876574307, 0.005037783375314861, 0.005877413937867338, 0.009235936188077247, 0.0041981528127623844, 0.005037783375314861, 0.0041981528127623844, 0.0033585222502099076, 0.005877413937867338, 0.0033585222502099076, 0.0033585222502099076, 0.0033585222502099076, 0.0033585222502099076, 0.0033585222502099076, 0.014273719563392108, 0.0033585222502099076, 0.0033585222502099076, 0.0025188916876574307, 0.0041981528127623844, 0.0025188916876574307, 0.0041981528127623844, 0.0033585222502099076, 0.0041981528127623844, 0.0033585222502099076, 0.005877413937867338, 0.0033585222502099076, 0.0041981528127623844, 0.0025188916876574307, 0.0041981528127623844, 0.0033585222502099076, 0.014273719563392108, 0.0033585222502099076, 0.0033585222502099076, 0.0025188916876574307, 0.0025188916876574307, 0.0025188916876574307, 0.005037783375314861, 0.0025188916876574307, 0.01343408900083963, 0.0025188916876574307, 0.0016792611251049538, 0.0025188916876574307, 0.0041981528127623844, 0.0008396305625524769, 0.0025188916876574307, 0.0, 0.01595298068849706, 0.011754827875734676, 0.022670025188916875, 0.0008396305625524769, 0.0025188916876574307, 0.0025188916876574307, 0.005037783375314861, 0.0025188916876574307, 0.0025188916876574307, 0.0033585222502099076, 0.0025188916876574307, 0.0033585222502099076, 0.022670025188916875, 0.0041981528127623844, 0.01343408900083963, 0.0041981528127623844, 0.005037783375314861, 0.0041981528127623844, 0.0016792611251049538, 0.0, 0.005037783375314861, 0.0041981528127623844, 0.0016792611251049538, 0.0, 0.0016792611251049538, 0.017632241813602016, 0.0041981528127623844, 0.0, 0.005037783375314861, 0.0041981528127623844, 0.0016792611251049538, 0.0, 0.005037783375314861, 0.0041981528127623844, 0.0016792611251049538, 0.0, 0.022670025188916875, 0.0041981528127623844, 0.01343408900083963, 0.0041981528127623844, 0.0041981528127623844, 0.0033585222502099076, 0.0025188916876574307, 0.0041981528127623844, 0.0025188916876574307, 0.0033585222502099076, 0.0025188916876574307, 0.0033585222502099076, 0.0041981528127623844, 0.0033585222502099076, 0.0025188916876574307, 0.0041981528127623844, 0.0041981528127623844, 0.0033585222502099076, 0.014273719563392108, 0.0033585222502099076, 0.0041981528127623844, 0.0033585222502099076, 0.0025188916876574307, 0.0041981528127623844, 0.0025188916876574307, 0.0033585222502099076, 0.0025188916876574307, 0.0033585222502099076, 0.0025188916876574307, 0.0025188916876574307, 0.005037783375314861, 0.0025188916876574307, 0.0025188916876574307, 0.0033585222502099076, 0.0025188916876574307, 0.0033585222502099076, 0.022670025188916875, 0.0041981528127623844, 0.01343408900083963, 0.0041981528127623844, 0.01343408900083963, 0.0025188916876574307, 0.0016792611251049538, 0.0025188916876574307, 0.0016792611251049538, 0.0033585222502099076, 0.012594458438287154, 0.0033585222502099076, 0.005037783375314861, 0.0033585222502099076, 0.0041981528127623844, 0.0033585222502099076, 0.0025188916876574307, 0.0025188916876574307, 0.005037783375314861, 0.0025188916876574307, 0.01343408900083963, 0.0025188916876574307, 0.0016792611251049538, 0.0025188916876574307, 0.022670025188916875, 0.0041981528127623844, 0.01343408900083963, 0.0041981528127623844, 0.02518891687657431, 0.0033585222502099076, 0.022670025188916875, 0.0033585222502099076, 0.005877413937867338, 0.0033585222502099076, 0.02518891687657431, 0.0033585222502099076]\n",
      "Размер x:\t 200\n",
      "Первый y:\t 1\n",
      "Последний y:\t 1\n",
      "Кол-во записей:\t 4997\n"
     ]
    }
   ],
   "source": [
    "print(\"Первый x:\\n\", dataset[\"x\"][0])\n",
    "print(\"Последний, x:\\n\", dataset[\"x\"][-1])\n",
    "print(\"Размер x:\\t\", len(dataset[\"x\"][0]))\n",
    "print(\"Первый y:\\t\", dataset[\"y\"][0])\n",
    "print(\"Последний y:\\t\", dataset[\"y\"][0])\n",
    "print(\"Кол-во записей:\\t\", len(dataset[\"x\"]))"
   ]
  },
  {
   "cell_type": "code",
   "execution_count": 5,
   "id": "3403fdd8-575d-4d85-ad82-3ef8c8fe478a",
   "metadata": {},
   "outputs": [],
   "source": [
    "\n",
    "X = np.array(dataset[\"x\"])\n",
    "y = np.array(dataset[\"y\"])\n"
   ]
  },
  {
   "cell_type": "code",
   "execution_count": 6,
   "id": "b8fb2fce-70a2-4e6f-ab4e-2fe381212612",
   "metadata": {},
   "outputs": [],
   "source": [
    "# y = y[X.sum(1)!=0]\n",
    "# X = X[X.sum(1)!=0, :]\n"
   ]
  },
  {
   "cell_type": "code",
   "execution_count": 7,
   "id": "9c618651-e6ac-471d-ada9-6c83bcac3de0",
   "metadata": {},
   "outputs": [],
   "source": [
    "\n",
    "my_norm = lambda x: x if x.sum() == 0 else x/x.sum()\n",
    "X = np.array([my_norm(x) for x in X])\n"
   ]
  },
  {
   "cell_type": "code",
   "execution_count": 8,
   "id": "ff136b6f-bb05-4922-8508-ce6274c7b500",
   "metadata": {},
   "outputs": [
    {
     "data": {
      "text/plain": [
       "(4997, 4997)"
      ]
     },
     "execution_count": 8,
     "metadata": {},
     "output_type": "execute_result"
    }
   ],
   "source": [
    "len(y), len(X)"
   ]
  },
  {
   "cell_type": "code",
   "execution_count": 9,
   "id": "0d475e67-d7af-4f6c-92d1-0396ec0ce2ea",
   "metadata": {},
   "outputs": [
    {
     "data": {
      "text/plain": [
       "({1: array([1., 0., 0., 0., 0.]),\n",
       "  2: array([0., 1., 0., 0., 0.]),\n",
       "  3: array([0., 0., 1., 0., 0.]),\n",
       "  4: array([0., 0., 0., 1., 0.]),\n",
       "  5: array([0., 0., 0., 0., 1.])},\n",
       " array([[1., 0., 0., 0., 0.],\n",
       "        [1., 0., 0., 0., 0.],\n",
       "        [1., 0., 0., 0., 0.],\n",
       "        ...,\n",
       "        [0., 0., 1., 0., 0.],\n",
       "        [0., 0., 1., 0., 0.],\n",
       "        [0., 0., 1., 0., 0.]]))"
      ]
     },
     "execution_count": 9,
     "metadata": {},
     "output_type": "execute_result"
    }
   ],
   "source": [
    "keys = np.unique(y)\n",
    "Y_keys = dict()\n",
    "for i, key in enumerate(keys):\n",
    "    zeros = np.zeros((len(keys)))\n",
    "    zeros[i] = 1\n",
    "    Y_keys[key] = zeros\n",
    "Y_keys\n",
    "Y = np.array([Y_keys[yi] for yi in y] )\n",
    "Y_keys, Y"
   ]
  },
  {
   "cell_type": "code",
   "execution_count": 10,
   "id": "f88812b3-f114-4c5c-95ea-4a7982d03042",
   "metadata": {},
   "outputs": [],
   "source": [
    "X_clus_list = []\n",
    "Y_clus_list = []\n",
    "for i, item in enumerate(Y_keys.keys()):\n",
    "    X_clus_list.append(X[Y[:,i]==1,:])\n",
    "    Y_clus_list.append(Y[Y[:,i]==1,:])"
   ]
  },
  {
   "cell_type": "code",
   "execution_count": null,
   "id": "fa3a5414-676a-4320-8cef-7a09c6a0a3ce",
   "metadata": {},
   "outputs": [],
   "source": []
  },
  {
   "cell_type": "code",
   "execution_count": 11,
   "id": "8cb35ac7-1b29-44a5-8f34-a2423aadce68",
   "metadata": {},
   "outputs": [
    {
     "data": {
      "text/plain": [
       "(998, [1000, 1000, 1000, 999, 998])"
      ]
     },
     "execution_count": 11,
     "metadata": {},
     "output_type": "execute_result"
    }
   ],
   "source": [
    "balans_len = [len(yc) for yc in Y_clus_list]\n",
    "min_len = min(balans_len)\n",
    "min_len, balans_len"
   ]
  },
  {
   "cell_type": "code",
   "execution_count": 12,
   "id": "4fbdc3ab-f1c8-4959-a36b-f91a5051e7d8",
   "metadata": {},
   "outputs": [],
   "source": [
    "X = np.concatenate([xc[:min_len] for xc in X_clus_list])\n",
    "Y = np.concatenate([yc[:min_len] for yc in Y_clus_list])"
   ]
  },
  {
   "cell_type": "code",
   "execution_count": 13,
   "id": "cfc6cdf5-4e1f-47d9-b56b-9deb4cfacfc9",
   "metadata": {},
   "outputs": [],
   "source": [
    "X_train, X_test, y_train, y_test = train_test_split(X, Y, test_size=0.2, random_state=42)"
   ]
  },
  {
   "cell_type": "code",
   "execution_count": 20,
   "id": "4da2fae0-18e1-40a3-b115-81eff0e6272e",
   "metadata": {},
   "outputs": [
    {
     "name": "stderr",
     "output_type": "stream",
     "text": [
      "/home/daniil/program/python/project/layout_highlighter/imgDoc/env/lib/python3.10/site-packages/sklearn/neural_network/_multilayer_perceptron.py:691: ConvergenceWarning: Stochastic Optimizer: Maximum iterations (500) reached and the optimization hasn't converged yet.\n",
      "  warnings.warn(\n"
     ]
    }
   ],
   "source": [
    "i = 0\n",
    "aas = [0.0001]\n",
    "miis = [500]\n",
    "modds = [(100, 100, 100, 100)]\n",
    "df = pd.DataFrame(columns = ['alpha','max_iter','model', 'train_acc','test_acc','train_time'])\n",
    "for a in aas:\n",
    "    for mi in miis:\n",
    "        for mod in modds:\n",
    "            st = time()\n",
    "            mlp = MLPClassifier(hidden_layer_sizes=mod, alpha=a, max_iter=mi)\n",
    "            mlp.fit(X_train, y_train)\n",
    "            end = time() - st\n",
    "            \n",
    "            acc_tr = accuracy_score(y_train, mlp.predict(X_train)) # Train Accuracy\n",
    "            acc = accuracy_score(y_test, mlp.predict(X_test)) # Test Accuracy\n",
    "            df.loc[i] = [a, mi, mod, acc_tr,acc,end]\n",
    "            i=i+1"
   ]
  },
  {
   "cell_type": "code",
   "execution_count": 19,
   "id": "5cf23c38-16d4-4671-a141-946271bd8902",
   "metadata": {},
   "outputs": [
    {
     "data": {
      "text/html": [
       "<div>\n",
       "<style scoped>\n",
       "    .dataframe tbody tr th:only-of-type {\n",
       "        vertical-align: middle;\n",
       "    }\n",
       "\n",
       "    .dataframe tbody tr th {\n",
       "        vertical-align: top;\n",
       "    }\n",
       "\n",
       "    .dataframe thead th {\n",
       "        text-align: right;\n",
       "    }\n",
       "</style>\n",
       "<table border=\"1\" class=\"dataframe\">\n",
       "  <thead>\n",
       "    <tr style=\"text-align: right;\">\n",
       "      <th></th>\n",
       "      <th>alpha</th>\n",
       "      <th>max_iter</th>\n",
       "      <th>model</th>\n",
       "      <th>train_acc</th>\n",
       "      <th>test_acc</th>\n",
       "      <th>train_time</th>\n",
       "    </tr>\n",
       "  </thead>\n",
       "  <tbody>\n",
       "    <tr>\n",
       "      <th>0</th>\n",
       "      <td>0.1000</td>\n",
       "      <td>500</td>\n",
       "      <td>(100, 100, 100, 100)</td>\n",
       "      <td>0.837174</td>\n",
       "      <td>0.435872</td>\n",
       "      <td>28.949420</td>\n",
       "    </tr>\n",
       "    <tr>\n",
       "      <th>1</th>\n",
       "      <td>0.0100</td>\n",
       "      <td>500</td>\n",
       "      <td>(100, 100, 100, 100)</td>\n",
       "      <td>0.798096</td>\n",
       "      <td>0.428858</td>\n",
       "      <td>23.578165</td>\n",
       "    </tr>\n",
       "    <tr>\n",
       "      <th>2</th>\n",
       "      <td>0.0010</td>\n",
       "      <td>500</td>\n",
       "      <td>(100, 100, 100, 100)</td>\n",
       "      <td>0.882766</td>\n",
       "      <td>0.431864</td>\n",
       "      <td>29.375775</td>\n",
       "    </tr>\n",
       "    <tr>\n",
       "      <th>3</th>\n",
       "      <td>0.0001</td>\n",
       "      <td>500</td>\n",
       "      <td>(100, 100, 100, 100)</td>\n",
       "      <td>0.818888</td>\n",
       "      <td>0.320641</td>\n",
       "      <td>47.864787</td>\n",
       "    </tr>\n",
       "  </tbody>\n",
       "</table>\n",
       "</div>"
      ],
      "text/plain": [
       "    alpha  max_iter                 model  train_acc  test_acc  train_time\n",
       "0  0.1000       500  (100, 100, 100, 100)   0.837174  0.435872   28.949420\n",
       "1  0.0100       500  (100, 100, 100, 100)   0.798096  0.428858   23.578165\n",
       "2  0.0010       500  (100, 100, 100, 100)   0.882766  0.431864   29.375775\n",
       "3  0.0001       500  (100, 100, 100, 100)   0.818888  0.320641   47.864787"
      ]
     },
     "execution_count": 19,
     "metadata": {},
     "output_type": "execute_result"
    }
   ],
   "source": [
    "df # Results\n",
    "# 0\t0.00001\t2000\t(50, 50, 50, 50)\t0.765271\t0.187783\t9.691846 (43)\n",
    "# \t0.00001\t2000\t(50, 50, 50, 50)\t0.75\t0.192308\t9.430116 (44)\n",
    "# 0.00001\t2000\t(50, 50, 50, 50)\t0.616516\t0.199095\t10.068232 (45)\n",
    "# 0.00001\t2000\t(50, 50, 50, 50)\t0.796946\t0.20362\t6.908683 (46)"
   ]
  },
  {
   "cell_type": "code",
   "execution_count": 47,
   "id": "e196fb18-de24-4453-9ff9-ed54dfc8fe09",
   "metadata": {},
   "outputs": [
    {
     "data": {
      "text/html": [
       "<div>\n",
       "<style scoped>\n",
       "    .dataframe tbody tr th:only-of-type {\n",
       "        vertical-align: middle;\n",
       "    }\n",
       "\n",
       "    .dataframe tbody tr th {\n",
       "        vertical-align: top;\n",
       "    }\n",
       "\n",
       "    .dataframe thead th {\n",
       "        text-align: right;\n",
       "    }\n",
       "</style>\n",
       "<table border=\"1\" class=\"dataframe\">\n",
       "  <thead>\n",
       "    <tr style=\"text-align: right;\">\n",
       "      <th></th>\n",
       "      <th>alpha</th>\n",
       "      <th>max_iter</th>\n",
       "      <th>model</th>\n",
       "      <th>train_acc</th>\n",
       "      <th>test_acc</th>\n",
       "      <th>train_time</th>\n",
       "    </tr>\n",
       "  </thead>\n",
       "  <tbody>\n",
       "    <tr>\n",
       "      <th>7</th>\n",
       "      <td>0.0001</td>\n",
       "      <td>10000</td>\n",
       "      <td>(100, 100, 100, 100)</td>\n",
       "      <td>0.919589</td>\n",
       "      <td>0.308617</td>\n",
       "      <td>34.07118</td>\n",
       "    </tr>\n",
       "  </tbody>\n",
       "</table>\n",
       "</div>"
      ],
      "text/plain": [
       "    alpha  max_iter                 model  train_acc  test_acc  train_time\n",
       "7  0.0001     10000  (100, 100, 100, 100)   0.919589  0.308617    34.07118"
      ]
     },
     "execution_count": 47,
     "metadata": {},
     "output_type": "execute_result"
    }
   ],
   "source": [
    "df[\"train_acc\"].max()\n",
    "df[df[\"train_acc\"] == df[\"train_acc\"].max()]"
   ]
  },
  {
   "cell_type": "code",
   "execution_count": 48,
   "id": "e0a80815-54d8-4511-8fc4-99a590780b96",
   "metadata": {},
   "outputs": [
    {
     "data": {
      "text/html": [
       "<div>\n",
       "<style scoped>\n",
       "    .dataframe tbody tr th:only-of-type {\n",
       "        vertical-align: middle;\n",
       "    }\n",
       "\n",
       "    .dataframe tbody tr th {\n",
       "        vertical-align: top;\n",
       "    }\n",
       "\n",
       "    .dataframe thead th {\n",
       "        text-align: right;\n",
       "    }\n",
       "</style>\n",
       "<table border=\"1\" class=\"dataframe\">\n",
       "  <thead>\n",
       "    <tr style=\"text-align: right;\">\n",
       "      <th></th>\n",
       "      <th>alpha</th>\n",
       "      <th>max_iter</th>\n",
       "      <th>model</th>\n",
       "      <th>train_acc</th>\n",
       "      <th>test_acc</th>\n",
       "      <th>train_time</th>\n",
       "    </tr>\n",
       "  </thead>\n",
       "  <tbody>\n",
       "    <tr>\n",
       "      <th>4</th>\n",
       "      <td>0.0001</td>\n",
       "      <td>5000</td>\n",
       "      <td>(100, 100, 100, 100)</td>\n",
       "      <td>0.872244</td>\n",
       "      <td>0.318637</td>\n",
       "      <td>30.948753</td>\n",
       "    </tr>\n",
       "  </tbody>\n",
       "</table>\n",
       "</div>"
      ],
      "text/plain": [
       "    alpha  max_iter                 model  train_acc  test_acc  train_time\n",
       "4  0.0001      5000  (100, 100, 100, 100)   0.872244  0.318637   30.948753"
      ]
     },
     "execution_count": 48,
     "metadata": {},
     "output_type": "execute_result"
    }
   ],
   "source": [
    "df[df[\"test_acc\"] == df[\"test_acc\"].max()]"
   ]
  },
  {
   "cell_type": "code",
   "execution_count": 49,
   "id": "355a714d-6e81-4b26-831a-aa41aa6a9622",
   "metadata": {},
   "outputs": [
    {
     "data": {
      "text/html": [
       "<div>\n",
       "<style scoped>\n",
       "    .dataframe tbody tr th:only-of-type {\n",
       "        vertical-align: middle;\n",
       "    }\n",
       "\n",
       "    .dataframe tbody tr th {\n",
       "        vertical-align: top;\n",
       "    }\n",
       "\n",
       "    .dataframe thead th {\n",
       "        text-align: right;\n",
       "    }\n",
       "</style>\n",
       "<table border=\"1\" class=\"dataframe\">\n",
       "  <thead>\n",
       "    <tr style=\"text-align: right;\">\n",
       "      <th></th>\n",
       "      <th>alpha</th>\n",
       "      <th>max_iter</th>\n",
       "      <th>model</th>\n",
       "      <th>train_acc</th>\n",
       "      <th>test_acc</th>\n",
       "      <th>train_time</th>\n",
       "    </tr>\n",
       "  </thead>\n",
       "  <tbody>\n",
       "    <tr>\n",
       "      <th>4</th>\n",
       "      <td>0.0001</td>\n",
       "      <td>5000</td>\n",
       "      <td>(100, 100, 100, 100)</td>\n",
       "      <td>0.872244</td>\n",
       "      <td>0.318637</td>\n",
       "      <td>30.948753</td>\n",
       "    </tr>\n",
       "    <tr>\n",
       "      <th>7</th>\n",
       "      <td>0.0001</td>\n",
       "      <td>10000</td>\n",
       "      <td>(100, 100, 100, 100)</td>\n",
       "      <td>0.919589</td>\n",
       "      <td>0.308617</td>\n",
       "      <td>34.071180</td>\n",
       "    </tr>\n",
       "    <tr>\n",
       "      <th>1</th>\n",
       "      <td>0.0001</td>\n",
       "      <td>2000</td>\n",
       "      <td>(100, 100, 100, 100)</td>\n",
       "      <td>0.903808</td>\n",
       "      <td>0.297595</td>\n",
       "      <td>36.590581</td>\n",
       "    </tr>\n",
       "    <tr>\n",
       "      <th>2</th>\n",
       "      <td>0.0001</td>\n",
       "      <td>2000</td>\n",
       "      <td>(50, 100, 50, 25)</td>\n",
       "      <td>0.615481</td>\n",
       "      <td>0.284569</td>\n",
       "      <td>26.710021</td>\n",
       "    </tr>\n",
       "    <tr>\n",
       "      <th>13</th>\n",
       "      <td>0.1000</td>\n",
       "      <td>5000</td>\n",
       "      <td>(100, 100, 100, 100)</td>\n",
       "      <td>0.641283</td>\n",
       "      <td>0.280561</td>\n",
       "      <td>35.530849</td>\n",
       "    </tr>\n",
       "    <tr>\n",
       "      <th>0</th>\n",
       "      <td>0.0001</td>\n",
       "      <td>2000</td>\n",
       "      <td>(50, 50, 50, 50)</td>\n",
       "      <td>0.638527</td>\n",
       "      <td>0.278557</td>\n",
       "      <td>30.240829</td>\n",
       "    </tr>\n",
       "    <tr>\n",
       "      <th>6</th>\n",
       "      <td>0.0001</td>\n",
       "      <td>10000</td>\n",
       "      <td>(50, 50, 50, 50)</td>\n",
       "      <td>0.659319</td>\n",
       "      <td>0.277555</td>\n",
       "      <td>38.573423</td>\n",
       "    </tr>\n",
       "    <tr>\n",
       "      <th>10</th>\n",
       "      <td>0.1000</td>\n",
       "      <td>2000</td>\n",
       "      <td>(100, 100, 100, 100)</td>\n",
       "      <td>0.527054</td>\n",
       "      <td>0.274549</td>\n",
       "      <td>30.687349</td>\n",
       "    </tr>\n",
       "    <tr>\n",
       "      <th>5</th>\n",
       "      <td>0.0001</td>\n",
       "      <td>5000</td>\n",
       "      <td>(50, 100, 50, 25)</td>\n",
       "      <td>0.665581</td>\n",
       "      <td>0.261523</td>\n",
       "      <td>57.249285</td>\n",
       "    </tr>\n",
       "    <tr>\n",
       "      <th>8</th>\n",
       "      <td>0.0001</td>\n",
       "      <td>10000</td>\n",
       "      <td>(50, 100, 50, 25)</td>\n",
       "      <td>0.722194</td>\n",
       "      <td>0.258517</td>\n",
       "      <td>53.968146</td>\n",
       "    </tr>\n",
       "    <tr>\n",
       "      <th>3</th>\n",
       "      <td>0.0001</td>\n",
       "      <td>5000</td>\n",
       "      <td>(50, 50, 50, 50)</td>\n",
       "      <td>0.581914</td>\n",
       "      <td>0.249499</td>\n",
       "      <td>24.863872</td>\n",
       "    </tr>\n",
       "    <tr>\n",
       "      <th>16</th>\n",
       "      <td>0.1000</td>\n",
       "      <td>10000</td>\n",
       "      <td>(100, 100, 100, 100)</td>\n",
       "      <td>0.530060</td>\n",
       "      <td>0.238477</td>\n",
       "      <td>31.558642</td>\n",
       "    </tr>\n",
       "    <tr>\n",
       "      <th>14</th>\n",
       "      <td>0.1000</td>\n",
       "      <td>5000</td>\n",
       "      <td>(50, 100, 50, 25)</td>\n",
       "      <td>0.449148</td>\n",
       "      <td>0.226453</td>\n",
       "      <td>58.741873</td>\n",
       "    </tr>\n",
       "    <tr>\n",
       "      <th>17</th>\n",
       "      <td>0.1000</td>\n",
       "      <td>10000</td>\n",
       "      <td>(50, 100, 50, 25)</td>\n",
       "      <td>0.324399</td>\n",
       "      <td>0.205411</td>\n",
       "      <td>23.822744</td>\n",
       "    </tr>\n",
       "    <tr>\n",
       "      <th>9</th>\n",
       "      <td>0.1000</td>\n",
       "      <td>2000</td>\n",
       "      <td>(50, 50, 50, 50)</td>\n",
       "      <td>0.143036</td>\n",
       "      <td>0.133267</td>\n",
       "      <td>18.524315</td>\n",
       "    </tr>\n",
       "  </tbody>\n",
       "</table>\n",
       "</div>"
      ],
      "text/plain": [
       "     alpha  max_iter                 model  train_acc  test_acc  train_time\n",
       "4   0.0001      5000  (100, 100, 100, 100)   0.872244  0.318637   30.948753\n",
       "7   0.0001     10000  (100, 100, 100, 100)   0.919589  0.308617   34.071180\n",
       "1   0.0001      2000  (100, 100, 100, 100)   0.903808  0.297595   36.590581\n",
       "2   0.0001      2000     (50, 100, 50, 25)   0.615481  0.284569   26.710021\n",
       "13  0.1000      5000  (100, 100, 100, 100)   0.641283  0.280561   35.530849\n",
       "0   0.0001      2000      (50, 50, 50, 50)   0.638527  0.278557   30.240829\n",
       "6   0.0001     10000      (50, 50, 50, 50)   0.659319  0.277555   38.573423\n",
       "10  0.1000      2000  (100, 100, 100, 100)   0.527054  0.274549   30.687349\n",
       "5   0.0001      5000     (50, 100, 50, 25)   0.665581  0.261523   57.249285\n",
       "8   0.0001     10000     (50, 100, 50, 25)   0.722194  0.258517   53.968146\n",
       "3   0.0001      5000      (50, 50, 50, 50)   0.581914  0.249499   24.863872\n",
       "16  0.1000     10000  (100, 100, 100, 100)   0.530060  0.238477   31.558642\n",
       "14  0.1000      5000     (50, 100, 50, 25)   0.449148  0.226453   58.741873\n",
       "17  0.1000     10000     (50, 100, 50, 25)   0.324399  0.205411   23.822744\n",
       "9   0.1000      2000      (50, 50, 50, 50)   0.143036  0.133267   18.524315"
      ]
     },
     "execution_count": 49,
     "metadata": {},
     "output_type": "execute_result"
    }
   ],
   "source": [
    "df.sort_values(\"test_acc\",  ascending=False)[:15]"
   ]
  },
  {
   "cell_type": "raw",
   "id": "7276881b-129f-4f26-ab59-7368d385d09d",
   "metadata": {},
   "source": []
  },
  {
   "cell_type": "code",
   "execution_count": null,
   "id": "01c31a3a-0650-444d-8373-4a68eaa782dc",
   "metadata": {},
   "outputs": [],
   "source": []
  },
  {
   "cell_type": "code",
   "execution_count": null,
   "id": "147b1e89-00d1-4418-bd45-455eba05aefc",
   "metadata": {},
   "outputs": [],
   "source": []
  },
  {
   "cell_type": "code",
   "execution_count": null,
   "id": "1869698b-db5b-44e1-a5db-5b6cc5072a29",
   "metadata": {},
   "outputs": [],
   "source": []
  },
  {
   "cell_type": "code",
   "execution_count": 21,
   "id": "8a8f1214-41b4-4ff4-bd34-3fb1a62d298c",
   "metadata": {},
   "outputs": [
    {
     "name": "stdout",
     "output_type": "stream",
     "text": [
      "0.843436873747495 0.42985971943887774\n",
      "0.9301102204408818 0.43687374749499\n",
      "2          \r"
     ]
    }
   ],
   "source": [
    "max_acc = 0.0\n",
    "for i in range(3):\n",
    "    mlp = MLPClassifier(hidden_layer_sizes=(100, 100, 100, 100), alpha=0.0001, max_iter=500)\n",
    "    mlp.fit(X_train, y_train)\n",
    "    \n",
    "    \n",
    "    acc_tr = accuracy_score(y_train, mlp.predict(X_train)) # Train Accuracy\n",
    "    acc = accuracy_score(y_test, mlp.predict(X_test)) # Test Accuracy\n",
    "    print(f\"{i}\"+\" \"*10, end=\"\\r\")\n",
    "    if max_acc < acc:\n",
    "        max_acc = acc\n",
    "        print(acc_tr, acc)\n",
    "        pickle.dump(mlp, open(name_model+\".sav\", 'wb')) "
   ]
  },
  {
   "cell_type": "code",
   "execution_count": 53,
   "id": "751e81bf-2f00-46bf-b43f-8091188f4274",
   "metadata": {},
   "outputs": [
    {
     "data": {
      "text/plain": [
       "2"
      ]
     },
     "execution_count": 53,
     "metadata": {},
     "output_type": "execute_result"
    }
   ],
   "source": [
    "mlp.n_iter_"
   ]
  },
  {
   "cell_type": "code",
   "execution_count": null,
   "id": "f834dbd6-be51-4211-807a-ac5cd94f8392",
   "metadata": {},
   "outputs": [],
   "source": []
  }
 ],
 "metadata": {
  "kernelspec": {
   "display_name": "Python 3 (ipykernel)",
   "language": "python",
   "name": "python3"
  },
  "language_info": {
   "codemirror_mode": {
    "name": "ipython",
    "version": 3
   },
   "file_extension": ".py",
   "mimetype": "text/x-python",
   "name": "python",
   "nbconvert_exporter": "python",
   "pygments_lexer": "ipython3",
   "version": "3.10.12"
  }
 },
 "nbformat": 4,
 "nbformat_minor": 5
}
