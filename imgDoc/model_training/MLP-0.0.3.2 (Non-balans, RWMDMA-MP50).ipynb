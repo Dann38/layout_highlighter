{
 "cells": [
  {
   "cell_type": "code",
   "execution_count": 1,
   "id": "b33484ae-818f-47a5-bb78-2c86284d0f49",
   "metadata": {},
   "outputs": [
    {
     "name": "stderr",
     "output_type": "stream",
     "text": [
      "2024-02-20 07:48:36.856923: I external/local_tsl/tsl/cuda/cudart_stub.cc:31] Could not find cuda drivers on your machine, GPU will not be used.\n",
      "2024-02-20 07:48:37.346031: E external/local_xla/xla/stream_executor/cuda/cuda_dnn.cc:9261] Unable to register cuDNN factory: Attempting to register factory for plugin cuDNN when one has already been registered\n",
      "2024-02-20 07:48:37.346076: E external/local_xla/xla/stream_executor/cuda/cuda_fft.cc:607] Unable to register cuFFT factory: Attempting to register factory for plugin cuFFT when one has already been registered\n",
      "2024-02-20 07:48:37.450226: E external/local_xla/xla/stream_executor/cuda/cuda_blas.cc:1515] Unable to register cuBLAS factory: Attempting to register factory for plugin cuBLAS when one has already been registered\n",
      "2024-02-20 07:48:37.661959: I external/local_tsl/tsl/cuda/cudart_stub.cc:31] Could not find cuda drivers on your machine, GPU will not be used.\n",
      "2024-02-20 07:48:37.664281: I tensorflow/core/platform/cpu_feature_guard.cc:182] This TensorFlow binary is optimized to use available CPU instructions in performance-critical operations.\n",
      "To enable the following instructions: AVX2 FMA, in other operations, rebuild TensorFlow with the appropriate compiler flags.\n",
      "2024-02-20 07:48:39.203997: W tensorflow/compiler/tf2tensorrt/utils/py_utils.cc:38] TF-TRT Warning: Could not find TensorRT\n"
     ]
    }
   ],
   "source": [
    "import tensorflow as tf\n",
    "import keras\n",
    "from keras import layers\n",
    "\n",
    "tf.random.set_seed(22)"
   ]
  },
  {
   "cell_type": "code",
   "execution_count": 2,
   "id": "58f75a26-a4c9-4d8d-88c3-f547bc48b278",
   "metadata": {},
   "outputs": [],
   "source": [
    "import json\n",
    "import numpy as np\n",
    "import pandas as pd\n",
    "from time import time\n",
    "import random\n",
    "import matplotlib.pyplot as plt\n",
    "import os"
   ]
  },
  {
   "cell_type": "code",
   "execution_count": 4,
   "id": "f30a162e-49dd-4dc3-8aa4-f93328b2bebb",
   "metadata": {},
   "outputs": [],
   "source": [
    "name_model = \"RWMDMA-MP50-NB\"\n",
    "with open(\"../examples/rez.json\", \"r\") as f:\n",
    "    dataset = json.load(f)"
   ]
  },
  {
   "cell_type": "code",
   "execution_count": 5,
   "id": "844d7c73-a8ff-4f4c-8f83-49c3247b1ae6",
   "metadata": {},
   "outputs": [
    {
     "name": "stdout",
     "output_type": "stream",
     "text": [
      "Первый x:\n",
      " [15.0, 1.0, 18.027756377319946, 2.0, 0.24253562503633297, 1.0, 0.0, 0.9984603532054125, 15.0, 1.0, 18.027756377319946, 2.0, 0.24253562503633297, 1.0, 0.0, 0.9984603532054125, 15.0, 1.0, 18.027756377319946, 2.0, 0.24253562503633297, 1.0, 0.0, 0.9984603532054125, 15.0, 1.0, 18.027756377319946, 2.0, 0.24253562503633297, 1.0, 0.0, 0.9984603532054125, 15.0, 1.0, 18.027756377319946, 2.0, 0.24253562503633297, 1.0, 0.0, 0.9984603532054125, 15.0, 1.0, 18.027756377319946, 2.0, 0.24253562503633297, 1.0, 0.0, 0.9984603532054125, 15.0, 1.0, 18.027756377319946, 2.0, 0.24253562503633297, 1.0, 0.0, 0.9984603532054125, 15.0, 1.0, 18.027756377319946, 2.0, 0.24253562503633297, 1.0, 0.0, 0.9984603532054125, 15.0, 1.0, 18.027756377319946, 2.0, 0.24253562503633297, 1.0, 0.0, 0.9984603532054125, 15.0, 1.0, 18.027756377319946, 2.0, 0.24253562503633297, 1.0, 0.0, 0.9984603532054125, 15.0, 1.0, 18.027756377319946, 2.0, 0.24253562503633297, 1.0, 0.0, 0.9984603532054125, 15.0, 1.0, 18.027756377319946, 2.0, 0.24253562503633297, 1.0, 0.0, 0.9984603532054125, 15.0, 1.0, 18.027756377319946, 2.0, 0.24253562503633297, 1.0, 0.0, 0.9984603532054125, 15.0, 1.0, 18.027756377319946, 2.0, 0.24253562503633297, 1.0, 0.0, 0.9984603532054125, 15.0, 1.0, 18.027756377319946, 2.0, 0.24253562503633297, 1.0, 0.0, 0.9984603532054125, 15.0, 1.0, 18.027756377319946, 2.0, 0.24253562503633297, 1.0, 0.0, 0.9984603532054125, 15.0, 1.0, 18.027756377319946, 2.0, 0.24253562503633297, 1.0, 0.0, 0.9984603532054125, 15.0, 1.0, 18.027756377319946, 2.0, 0.24253562503633297, 1.0, 0.0, 0.9984603532054125, 15.0, 1.0, 18.027756377319946, 2.0, 0.24253562503633297, 1.0, 0.0, 0.9984603532054125, 15.0, 1.0, 18.027756377319946, 2.0, 0.24253562503633297, 1.0, 0.0, 0.9984603532054125, 15.0, 1.0, 18.027756377319946, 2.0, 0.24253562503633297, 1.0, 0.0, 0.9984603532054125, 15.0, 1.0, 18.027756377319946, 2.0, 0.24253562503633297, 1.0, 0.0, 0.9984603532054125, 15.0, 1.0, 18.027756377319946, 2.0, 0.24253562503633297, 1.0, 0.0, 0.9984603532054125, 15.0, 1.0, 18.027756377319946, 2.0, 0.24253562503633297, 1.0, 0.0, 0.9984603532054125, 15.0, 1.0, 18.027756377319946, 2.0, 0.24253562503633297, 1.0, 0.0, 0.9984603532054125, 15.0, 1.0, 18.027756377319946, 2.0, 0.24253562503633297, 1.0, 0.0, 0.9984603532054125, 15.0, 1.0, 18.027756377319946, 2.0, 0.24253562503633297, 1.0, 0.0, 0.9984603532054125, 15.0, 1.0, 18.027756377319946, 2.0, 0.24253562503633297, 1.0, 0.0, 0.9984603532054125, 15.0, 1.0, 18.027756377319946, 2.0, 0.24253562503633297, 1.0, 0.0, 0.9984603532054125, 15.0, 1.0, 18.027756377319946, 2.0, 0.24253562503633297, 1.0, 0.0, 0.9984603532054125, 15.0, 1.0, 18.027756377319946, 2.0, 0.24253562503633297, 1.0, 0.0, 0.9984603532054125, 15.0, 1.0, 18.027756377319946, 2.0, 0.24253562503633297, 1.0, 0.0, 0.9984603532054125, 15.0, 1.0, 18.027756377319946, 2.0, 0.24253562503633297, 1.0, 0.0, 0.9984603532054125, 15.0, 1.0, 18.027756377319946, 2.0, 0.24253562503633297, 1.0, 0.0, 0.9984603532054125, 15.0, 1.0, 18.027756377319946, 2.0, 0.24253562503633297, 1.0, 0.0, 0.9984603532054125, 15.0, 1.0, 18.027756377319946, 2.0, 0.24253562503633297, 1.0, 0.0, 0.9984603532054125, 15.0, 1.0, 18.027756377319946, 2.0, 0.24253562503633297, 1.0, 0.0, 0.9984603532054125, 15.0, 1.0, 18.027756377319946, 2.0, 0.24253562503633297, 1.0, 0.0, 0.9984603532054125, 15.0, 1.0, 18.027756377319946, 2.0, 0.24253562503633297, 1.0, 0.0, 0.9984603532054125, 15.0, 1.0, 18.027756377319946, 2.0, 0.24253562503633297, 1.0, 0.0, 0.9984603532054125, 15.0, 1.0, 18.027756377319946, 2.0, 0.24253562503633297, 1.0, 0.0, 0.9984603532054125, 15.0, 1.0, 18.027756377319946, 2.0, 0.24253562503633297, 1.0, 0.0, 0.9984603532054125, 15.0, 1.0, 18.027756377319946, 2.0, 0.24253562503633297, 1.0, 0.0, 0.9984603532054125, 15.0, 1.0, 18.027756377319946, 2.0, 0.24253562503633297, 1.0, 0.0, 0.9984603532054125, 15.0, 1.0, 18.027756377319946, 2.0, 0.24253562503633297, 1.0, 0.0, 0.9984603532054125, 15.0, 1.0, 18.027756377319946, 2.0, 0.24253562503633297, 1.0, 0.0, 0.9984603532054125, 15.0, 1.0, 18.027756377319946, 2.0, 0.24253562503633297, 1.0, 0.0, 0.9984603532054125, 15.0, 1.0, 18.027756377319946, 2.0, 0.24253562503633297, 1.0, 0.0, 0.9984603532054125, 15.0, 1.0, 18.027756377319946, 2.0, 0.24253562503633297, 1.0, 0.0, 0.9984603532054125, 0.0, 0.0, 0.0, 0.0, 0.0, 0.0, 0.0, 0.0]\n",
      "Последний, x:\n",
      " [6.0, 5.0, 2.0, 32.28002478313795, 0.5812381937190965, 0.9974586998307351, 0.6246950475544243, 0.0, 6.0, 5.0, 2.0, 32.28002478313795, 0.5812381937190965, 0.9974586998307351, 0.6246950475544243, 0.0, 6.0, 5.0, 2.0, 32.28002478313795, 0.5812381937190965, 0.9974586998307351, 0.6246950475544243, 0.0, 6.0, 5.0, 2.0, 32.28002478313795, 0.5812381937190965, 0.9974586998307351, 0.6246950475544243, 0.0, 6.0, 5.0, 2.0, 32.28002478313795, 0.5812381937190965, 0.9974586998307351, 0.6246950475544243, 0.0, 6.0, 5.0, 2.0, 32.28002478313795, 0.5812381937190965, 0.9974586998307351, 0.6246950475544243, 0.0, 6.0, 5.0, 2.0, 32.28002478313795, 0.5812381937190965, 0.9974586998307351, 0.6246950475544243, 0.0, 6.0, 5.0, 2.0, 32.28002478313795, 0.5812381937190965, 0.9974586998307351, 0.6246950475544243, 0.0, 6.0, 5.0, 2.0, 32.28002478313795, 0.5812381937190965, 0.9974586998307351, 0.6246950475544243, 0.0, 6.0, 5.0, 2.0, 32.28002478313795, 0.5812381937190965, 0.9974586998307351, 0.6246950475544243, 0.0, 6.0, 5.0, 2.0, 32.28002478313795, 0.5812381937190965, 0.9974586998307351, 0.6246950475544243, 0.0, 6.0, 5.0, 2.0, 32.28002478313795, 0.5812381937190965, 0.9974586998307351, 0.6246950475544243, 0.0, 6.0, 5.0, 2.0, 32.28002478313795, 0.5812381937190965, 0.9974586998307351, 0.6246950475544243, 0.0, 6.0, 5.0, 2.0, 32.28002478313795, 0.5812381937190965, 0.9974586998307351, 0.6246950475544243, 0.0, 6.0, 5.0, 2.0, 32.28002478313795, 0.5812381937190965, 0.9974586998307351, 0.6246950475544243, 0.0, 6.0, 5.0, 2.0, 32.28002478313795, 0.5812381937190965, 0.9974586998307351, 0.6246950475544243, 0.0, 6.0, 5.0, 2.0, 32.28002478313795, 0.5812381937190965, 0.9974586998307351, 0.6246950475544243, 0.0, 6.0, 5.0, 2.0, 32.28002478313795, 0.5812381937190965, 0.9974586998307351, 0.6246950475544243, 0.0, 6.0, 5.0, 2.0, 32.28002478313795, 0.5812381937190965, 0.9974586998307351, 0.6246950475544243, 0.0, 6.0, 5.0, 2.0, 32.28002478313795, 0.5812381937190965, 0.9974586998307351, 0.6246950475544243, 0.0, 6.0, 5.0, 2.0, 32.28002478313795, 0.5812381937190965, 0.9974586998307351, 0.6246950475544243, 0.0, 6.0, 5.0, 2.0, 32.28002478313795, 0.5812381937190965, 0.9974586998307351, 0.6246950475544243, 0.0, 6.0, 5.0, 2.0, 32.28002478313795, 0.5812381937190965, 0.9974586998307351, 0.6246950475544243, 0.0, 6.0, 5.0, 2.0, 32.28002478313795, 0.5812381937190965, 0.9974586998307351, 0.6246950475544243, 0.0, 6.0, 5.0, 2.0, 32.28002478313795, 0.5812381937190965, 0.9974586998307351, 0.6246950475544243, 0.0, 6.0, 5.0, 2.0, 32.28002478313795, 0.5812381937190965, 0.9974586998307351, 0.6246950475544243, 0.0, 6.0, 5.0, 2.0, 32.28002478313795, 0.5812381937190965, 0.9974586998307351, 0.6246950475544243, 0.0, 6.0, 5.0, 2.0, 32.28002478313795, 0.5812381937190965, 0.9974586998307351, 0.6246950475544243, 0.0, 6.0, 5.0, 2.0, 32.28002478313795, 0.5812381937190965, 0.9974586998307351, 0.6246950475544243, 0.0, 6.0, 5.0, 2.0, 32.28002478313795, 0.5812381937190965, 0.9974586998307351, 0.6246950475544243, 0.0, 6.0, 5.0, 2.0, 32.28002478313795, 0.5812381937190965, 0.9974586998307351, 0.6246950475544243, 0.0, 6.0, 5.0, 2.0, 32.28002478313795, 0.5812381937190965, 0.9974586998307351, 0.6246950475544243, 0.0, 6.0, 5.0, 2.0, 32.28002478313795, 0.5812381937190965, 0.9974586998307351, 0.6246950475544243, 0.0, 6.0, 5.0, 2.0, 32.28002478313795, 0.5812381937190965, 0.9974586998307351, 0.6246950475544243, 0.0, 6.0, 5.0, 2.0, 32.28002478313795, 0.5812381937190965, 0.9974586998307351, 0.6246950475544243, 0.0, 6.0, 5.0, 2.0, 32.28002478313795, 0.5812381937190965, 0.9974586998307351, 0.6246950475544243, 0.0, 6.0, 5.0, 2.0, 32.28002478313795, 0.5812381937190965, 0.9974586998307351, 0.6246950475544243, 0.0, 6.0, 5.0, 2.0, 32.28002478313795, 0.5812381937190965, 0.9974586998307351, 0.6246950475544243, 0.0, 6.0, 5.0, 2.0, 32.28002478313795, 0.5812381937190965, 0.9974586998307351, 0.6246950475544243, 0.0, 6.0, 5.0, 2.0, 32.28002478313795, 0.5812381937190965, 0.9974586998307351, 0.6246950475544243, 0.0, 6.0, 5.0, 2.0, 32.28002478313795, 0.5812381937190965, 0.9974586998307351, 0.6246950475544243, 0.0, 6.0, 5.0, 2.0, 32.28002478313795, 0.5812381937190965, 0.9974586998307351, 0.6246950475544243, 0.0, 6.0, 5.0, 2.0, 32.28002478313795, 0.5812381937190965, 0.9974586998307351, 0.6246950475544243, 0.0, 6.0, 5.0, 2.0, 32.28002478313795, 0.5812381937190965, 0.9974586998307351, 0.6246950475544243, 0.0, 6.0, 5.0, 2.0, 32.28002478313795, 0.5812381937190965, 0.9974586998307351, 0.6246950475544243, 0.0, 6.0, 5.0, 2.0, 32.28002478313795, 0.5812381937190965, 0.9974586998307351, 0.6246950475544243, 0.0, 6.0, 5.0, 2.0, 32.28002478313795, 0.5812381937190965, 0.9974586998307351, 0.6246950475544243, 0.0, 6.0, 5.0, 2.0, 32.28002478313795, 0.5812381937190965, 0.9974586998307351, 0.6246950475544243, 0.0, 6.0, 5.0, 2.0, 32.28002478313795, 0.5812381937190965, 0.9974586998307351, 0.6246950475544243, 0.0, 0.0, 0.0, 0.0, 0.0, 0.0, 0.0, 0.0, 0.0]\n",
      "Размер x:\t 400\n",
      "Первый y:\t 1\n",
      "Последний y:\t 1\n",
      "Кол-во записей:\t 70717\n"
     ]
    }
   ],
   "source": [
    "print(\"Первый x:\\n\", dataset[\"x\"][0])\n",
    "print(\"Последний, x:\\n\", dataset[\"x\"][-1])\n",
    "print(\"Размер x:\\t\", len(dataset[\"x\"][0]))\n",
    "print(\"Первый y:\\t\", dataset[\"y\"][0])\n",
    "print(\"Последний y:\\t\", dataset[\"y\"][0])\n",
    "print(\"Кол-во записей:\\t\", len(dataset[\"x\"]))"
   ]
  },
  {
   "cell_type": "code",
   "execution_count": 149,
   "id": "f1e17044-aca6-49dd-a334-911e0d619fbe",
   "metadata": {},
   "outputs": [],
   "source": [
    "def shuffle(x_arrays, y_arrays):\n",
    "    x_vec = np.concatenate(x_arrays)\n",
    "    y_vec = np.concatenate(y_arrays)\n",
    "    data = [(x, y) for x, y in zip(x_vec, y_vec)]\n",
    "    random.shuffle(data)\n",
    "    x_vec_rnd = np.array([x for x, y in data])\n",
    "    y_vec_rnd = np.array([y for x, y in data])\n",
    "    return x_vec_rnd, y_vec_rnd\n",
    "    \n",
    "\n",
    "def get_data(dataset, balans=True): #, batch_size=128\n",
    "\n",
    "    X = np.array(dataset[\"x\"])\n",
    "    y = np.array(dataset[\"y\"])\n",
    "    \n",
    "    keys = np.unique(y)\n",
    "    Y_keys = dict()\n",
    "    for i, key in enumerate(keys):\n",
    "        z = np.zeros(5)\n",
    "        z[i] = 1\n",
    "        Y_keys[key] = z\n",
    "    Y = np.array([Y_keys[yi] for yi in y])\n",
    "\n",
    "    X_clus_list = []\n",
    "    Y_clus_list = []\n",
    "\n",
    "    for i, item in enumerate(Y_keys.keys()):\n",
    "        X_clus_list.append(X[Y[:,i]==1,:])\n",
    "        Y_clus_list.append(Y[Y[:,i]==1,:])\n",
    "        \n",
    "    if balans:\n",
    "        balans_len = [len(yc) for yc in Y_clus_list]\n",
    "        min_len = min(balans_len)\n",
    "    \n",
    "    train_x = []\n",
    "    train_y = []\n",
    "    test_x = []\n",
    "    test_y = []\n",
    "    val_x = []\n",
    "    val_y = []\n",
    "    for class_data in zip(X_clus_list, Y_clus_list):\n",
    "        data = [(x, y) for x, y in zip(class_data[0], class_data[1])]\n",
    "        random.shuffle(data)\n",
    "        if balans:\n",
    "            data = data[:min_len]\n",
    "        len_data = len(data)\n",
    "        len_test = round(0.2*len_data)\n",
    "        len_val = round((len_data-len_test)*0.2)\n",
    "        len_train = len_data - len_test - len_val\n",
    "        \n",
    "        train_x.append([x for x, y in data[:len_train]])\n",
    "        train_y.append([y for x, y in data[:len_train]])\n",
    "        \n",
    "        val_x.append([x for x, y in data[len_train:len_train+len_val]])\n",
    "        val_y.append([y for x, y in data[len_train:len_train+len_val]])\n",
    "    \n",
    "        test_x.append([x for x, y in data[-len_test:]])\n",
    "        test_y.append([y for x, y in data[-len_test:]])\n",
    "        \n",
    "    train_x, train_y = shuffle(train_x, train_y)\n",
    "    val_x, val_y = shuffle(val_x, val_y)\n",
    "    test_x, test_y = shuffle(test_x, test_y)\n",
    "    \n",
    "    return train_x, train_y, val_x, val_y, test_x, test_y, Y_keys\n",
    "    "
   ]
  },
  {
   "cell_type": "code",
   "execution_count": 150,
   "id": "07410c4b-b286-44bd-acd7-066d0baad3a6",
   "metadata": {},
   "outputs": [],
   "source": [
    "train_x, train_y, val_x, val_y, test_x, test_y, Y_keys = get_data(dataset, balans=True)"
   ]
  },
  {
   "cell_type": "code",
   "execution_count": null,
   "id": "cbf58f98-f70d-4fe7-aee5-41ec335bfaac",
   "metadata": {},
   "outputs": [],
   "source": []
  },
  {
   "cell_type": "code",
   "execution_count": 151,
   "id": "669a589f-3631-4442-9c0b-2eecba229613",
   "metadata": {},
   "outputs": [
    {
     "name": "stdout",
     "output_type": "stream",
     "text": [
      "{0: 629, 1: 629, 2: 629, 3: 629, 4: 629}\n",
      "{0: 1.0, 1: 1.0, 2: 1.0, 3: 1.0, 4: 1.0}\n"
     ]
    }
   ],
   "source": [
    "y = train_y\n",
    "\n",
    "class_weights = dict()\n",
    "\n",
    "for key in Y_keys:\n",
    "    class_weights[key] = len(y[y[:, key] == 1, :])\n",
    "print(class_weights)\n",
    "min_len = min( [w for k, w in class_weights.items()]) \n",
    "\n",
    "for key, w in class_weights.items():\n",
    "    class_weights[key] = w/min_len\n",
    "print(class_weights)"
   ]
  },
  {
   "cell_type": "code",
   "execution_count": 158,
   "id": "103cbd84-28c9-457a-ac36-c045ee705a70",
   "metadata": {},
   "outputs": [],
   "source": [
    "hist = []\n",
    "model = keras.Sequential()\n",
    "\n",
    "input_len = 400\n",
    "output_len = 5\n",
    "\n",
    "model.add(layers.Dense(units=input_len, activation='relu'))\n",
    "model.add(layers.Dense(units=100,  activation='relu'))\n",
    "model.add(layers.Dropout(rate=0.2, seed=22))\n",
    "model.add(layers.Dense(units=25,  activation='relu'))\n",
    "model.add(layers.Dropout(rate=0.2, seed=22))\n",
    "model.add(layers.Dense(units=20,  activation='relu'))\n",
    "model.add(layers.Dense(units=output_len, activation='softmax'))"
   ]
  },
  {
   "cell_type": "code",
   "execution_count": 159,
   "id": "d094f250-fc30-415e-9e21-c263b9b93cbd",
   "metadata": {},
   "outputs": [],
   "source": [
    "model.compile(loss='categorical_crossentropy',\n",
    "              optimizer='adam',\n",
    "              metrics=['accuracy'])"
   ]
  },
  {
   "cell_type": "code",
   "execution_count": 160,
   "id": "5497dd81-f4dd-4d43-a28a-b56047b80837",
   "metadata": {},
   "outputs": [
    {
     "name": "stdout",
     "output_type": "stream",
     "text": [
      "Epoch 1/120\n",
      "105/105 [==============================] - 1s 4ms/step - loss: 4.0277 - accuracy: 0.2140 - val_loss: 1.6096 - val_accuracy: 0.2025\n",
      "Epoch 2/120\n",
      "105/105 [==============================] - 0s 3ms/step - loss: 2.0140 - accuracy: 0.2264 - val_loss: 1.6465 - val_accuracy: 0.2701\n",
      "Epoch 3/120\n",
      "105/105 [==============================] - 0s 3ms/step - loss: 1.8369 - accuracy: 0.2413 - val_loss: 1.6066 - val_accuracy: 0.1987\n",
      "Epoch 4/120\n",
      "105/105 [==============================] - 0s 3ms/step - loss: 1.6508 - accuracy: 0.2343 - val_loss: 1.6069 - val_accuracy: 0.2000\n",
      "Epoch 5/120\n",
      "105/105 [==============================] - 0s 3ms/step - loss: 1.5966 - accuracy: 0.2566 - val_loss: 1.5195 - val_accuracy: 0.3490\n",
      "Epoch 6/120\n",
      "105/105 [==============================] - 0s 3ms/step - loss: 1.5661 - accuracy: 0.3056 - val_loss: 1.5179 - val_accuracy: 0.3338\n",
      "Epoch 7/120\n",
      "105/105 [==============================] - 0s 3ms/step - loss: 1.6869 - accuracy: 0.3037 - val_loss: 1.4564 - val_accuracy: 0.3732\n",
      "Epoch 8/120\n",
      "105/105 [==============================] - 0s 3ms/step - loss: 1.5670 - accuracy: 0.3272 - val_loss: 1.4354 - val_accuracy: 0.4204\n",
      "Epoch 9/120\n",
      "105/105 [==============================] - 0s 3ms/step - loss: 1.4721 - accuracy: 0.3692 - val_loss: 1.4263 - val_accuracy: 0.4306\n",
      "Epoch 10/120\n",
      "105/105 [==============================] - 0s 3ms/step - loss: 1.4601 - accuracy: 0.3758 - val_loss: 1.3900 - val_accuracy: 0.4459\n",
      "Epoch 11/120\n",
      "105/105 [==============================] - 0s 3ms/step - loss: 1.4137 - accuracy: 0.3908 - val_loss: 1.3842 - val_accuracy: 0.4280\n",
      "Epoch 12/120\n",
      "105/105 [==============================] - 0s 4ms/step - loss: 1.4250 - accuracy: 0.3841 - val_loss: 1.4007 - val_accuracy: 0.4293\n",
      "Epoch 13/120\n",
      "105/105 [==============================] - 0s 3ms/step - loss: 1.3529 - accuracy: 0.4280 - val_loss: 1.3767 - val_accuracy: 0.4357\n",
      "Epoch 14/120\n",
      "105/105 [==============================] - 0s 4ms/step - loss: 1.3797 - accuracy: 0.4315 - val_loss: 1.3303 - val_accuracy: 0.4535\n",
      "Epoch 15/120\n",
      "105/105 [==============================] - 0s 3ms/step - loss: 1.3854 - accuracy: 0.4159 - val_loss: 1.3164 - val_accuracy: 0.4637\n",
      "Epoch 16/120\n",
      "105/105 [==============================] - 0s 3ms/step - loss: 1.3387 - accuracy: 0.4528 - val_loss: 1.3169 - val_accuracy: 0.4599\n",
      "Epoch 17/120\n",
      "105/105 [==============================] - 0s 3ms/step - loss: 1.3583 - accuracy: 0.4270 - val_loss: 1.3129 - val_accuracy: 0.4713\n",
      "Epoch 18/120\n",
      "105/105 [==============================] - 0s 3ms/step - loss: 1.3600 - accuracy: 0.4448 - val_loss: 1.3358 - val_accuracy: 0.4611\n",
      "Epoch 19/120\n",
      "105/105 [==============================] - 0s 3ms/step - loss: 1.3304 - accuracy: 0.4401 - val_loss: 1.2919 - val_accuracy: 0.4752\n",
      "Epoch 20/120\n",
      "105/105 [==============================] - 0s 3ms/step - loss: 1.3019 - accuracy: 0.4531 - val_loss: 1.2775 - val_accuracy: 0.4739\n",
      "Epoch 21/120\n",
      "105/105 [==============================] - 0s 3ms/step - loss: 1.2931 - accuracy: 0.4572 - val_loss: 1.2738 - val_accuracy: 0.4854\n",
      "Epoch 22/120\n",
      "105/105 [==============================] - 0s 4ms/step - loss: 1.2792 - accuracy: 0.4665 - val_loss: 1.2607 - val_accuracy: 0.4866\n",
      "Epoch 23/120\n",
      "105/105 [==============================] - 0s 3ms/step - loss: 1.2566 - accuracy: 0.4836 - val_loss: 1.3155 - val_accuracy: 0.4573\n",
      "Epoch 24/120\n",
      "105/105 [==============================] - 0s 4ms/step - loss: 1.3054 - accuracy: 0.4563 - val_loss: 1.3176 - val_accuracy: 0.4484\n",
      "Epoch 25/120\n",
      "105/105 [==============================] - 0s 3ms/step - loss: 1.2822 - accuracy: 0.4680 - val_loss: 1.3175 - val_accuracy: 0.4561\n",
      "Epoch 26/120\n",
      "105/105 [==============================] - 0s 3ms/step - loss: 1.2653 - accuracy: 0.4674 - val_loss: 1.2747 - val_accuracy: 0.4637\n",
      "Epoch 27/120\n",
      "105/105 [==============================] - 0s 3ms/step - loss: 1.2661 - accuracy: 0.4785 - val_loss: 1.2782 - val_accuracy: 0.4828\n",
      "Epoch 28/120\n",
      "105/105 [==============================] - 0s 3ms/step - loss: 1.2662 - accuracy: 0.4722 - val_loss: 1.2648 - val_accuracy: 0.4739\n",
      "Epoch 29/120\n",
      "105/105 [==============================] - 0s 3ms/step - loss: 1.2917 - accuracy: 0.4537 - val_loss: 1.2995 - val_accuracy: 0.4306\n",
      "Epoch 30/120\n",
      "105/105 [==============================] - 0s 3ms/step - loss: 1.2794 - accuracy: 0.4566 - val_loss: 1.2382 - val_accuracy: 0.4994\n",
      "Epoch 31/120\n",
      "105/105 [==============================] - 0s 3ms/step - loss: 1.2752 - accuracy: 0.4582 - val_loss: 1.2547 - val_accuracy: 0.4904\n",
      "Epoch 32/120\n",
      "105/105 [==============================] - 0s 3ms/step - loss: 1.2497 - accuracy: 0.4817 - val_loss: 1.2427 - val_accuracy: 0.5070\n",
      "Epoch 33/120\n",
      "105/105 [==============================] - 0s 4ms/step - loss: 1.2279 - accuracy: 0.4893 - val_loss: 1.2341 - val_accuracy: 0.4930\n",
      "Epoch 34/120\n",
      "105/105 [==============================] - 0s 3ms/step - loss: 1.2327 - accuracy: 0.4852 - val_loss: 1.2683 - val_accuracy: 0.4599\n",
      "Epoch 35/120\n",
      "105/105 [==============================] - 0s 3ms/step - loss: 1.2649 - accuracy: 0.4706 - val_loss: 1.2591 - val_accuracy: 0.4650\n",
      "Epoch 36/120\n",
      "105/105 [==============================] - 0s 3ms/step - loss: 1.2438 - accuracy: 0.4782 - val_loss: 1.2454 - val_accuracy: 0.4764\n",
      "Epoch 37/120\n",
      "105/105 [==============================] - 0s 3ms/step - loss: 1.2300 - accuracy: 0.4830 - val_loss: 1.2312 - val_accuracy: 0.5032\n",
      "Epoch 38/120\n",
      "105/105 [==============================] - 0s 3ms/step - loss: 1.2278 - accuracy: 0.4887 - val_loss: 1.2439 - val_accuracy: 0.4892\n",
      "Epoch 39/120\n",
      "105/105 [==============================] - 0s 3ms/step - loss: 1.2369 - accuracy: 0.4811 - val_loss: 1.2268 - val_accuracy: 0.4968\n",
      "Epoch 40/120\n",
      "105/105 [==============================] - 0s 3ms/step - loss: 1.2265 - accuracy: 0.4824 - val_loss: 1.2901 - val_accuracy: 0.4879\n",
      "Epoch 41/120\n",
      "105/105 [==============================] - 0s 4ms/step - loss: 1.2387 - accuracy: 0.4833 - val_loss: 1.2374 - val_accuracy: 0.4713\n",
      "Epoch 42/120\n",
      "105/105 [==============================] - 0s 4ms/step - loss: 1.2215 - accuracy: 0.4983 - val_loss: 1.2999 - val_accuracy: 0.4471\n",
      "Epoch 43/120\n",
      "105/105 [==============================] - 0s 4ms/step - loss: 1.1867 - accuracy: 0.4986 - val_loss: 1.2224 - val_accuracy: 0.4892\n",
      "Epoch 44/120\n",
      "105/105 [==============================] - 0s 4ms/step - loss: 1.1836 - accuracy: 0.5040 - val_loss: 1.2288 - val_accuracy: 0.5032\n",
      "Epoch 45/120\n",
      "105/105 [==============================] - 0s 4ms/step - loss: 1.1832 - accuracy: 0.5040 - val_loss: 1.2290 - val_accuracy: 0.4904\n",
      "Epoch 46/120\n",
      "105/105 [==============================] - 0s 3ms/step - loss: 1.1993 - accuracy: 0.5056 - val_loss: 1.2082 - val_accuracy: 0.4955\n",
      "Epoch 47/120\n",
      "105/105 [==============================] - 0s 3ms/step - loss: 1.1730 - accuracy: 0.5052 - val_loss: 1.2398 - val_accuracy: 0.5121\n",
      "Epoch 48/120\n",
      "105/105 [==============================] - 0s 4ms/step - loss: 1.1704 - accuracy: 0.5072 - val_loss: 1.2587 - val_accuracy: 0.4841\n",
      "Epoch 49/120\n",
      "105/105 [==============================] - 0s 4ms/step - loss: 1.1853 - accuracy: 0.5017 - val_loss: 1.2538 - val_accuracy: 0.4994\n",
      "Epoch 50/120\n",
      "105/105 [==============================] - 0s 4ms/step - loss: 1.1736 - accuracy: 0.5075 - val_loss: 1.2273 - val_accuracy: 0.4943\n",
      "Epoch 51/120\n",
      "105/105 [==============================] - 0s 3ms/step - loss: 1.1723 - accuracy: 0.5040 - val_loss: 1.2202 - val_accuracy: 0.4943\n",
      "Epoch 52/120\n",
      "105/105 [==============================] - 0s 3ms/step - loss: 1.1601 - accuracy: 0.5052 - val_loss: 1.2661 - val_accuracy: 0.4701\n",
      "Epoch 53/120\n",
      "105/105 [==============================] - 0s 4ms/step - loss: 1.1740 - accuracy: 0.5008 - val_loss: 1.2178 - val_accuracy: 0.4790\n",
      "Epoch 54/120\n",
      "105/105 [==============================] - 0s 4ms/step - loss: 1.1706 - accuracy: 0.5094 - val_loss: 1.2541 - val_accuracy: 0.4790\n",
      "Epoch 55/120\n",
      "105/105 [==============================] - 0s 4ms/step - loss: 1.1523 - accuracy: 0.5046 - val_loss: 1.2440 - val_accuracy: 0.4917\n",
      "Epoch 56/120\n",
      "105/105 [==============================] - 0s 3ms/step - loss: 1.1531 - accuracy: 0.5126 - val_loss: 1.2150 - val_accuracy: 0.4879\n",
      "Epoch 57/120\n",
      "105/105 [==============================] - 0s 4ms/step - loss: 1.1801 - accuracy: 0.4932 - val_loss: 1.2626 - val_accuracy: 0.4943\n",
      "Epoch 58/120\n",
      "105/105 [==============================] - 0s 3ms/step - loss: 1.1474 - accuracy: 0.5100 - val_loss: 1.1778 - val_accuracy: 0.5108\n",
      "Epoch 59/120\n",
      "105/105 [==============================] - 0s 3ms/step - loss: 1.1487 - accuracy: 0.5205 - val_loss: 1.1920 - val_accuracy: 0.4917\n",
      "Epoch 60/120\n",
      "105/105 [==============================] - 0s 3ms/step - loss: 1.1288 - accuracy: 0.5262 - val_loss: 1.2197 - val_accuracy: 0.5006\n",
      "Epoch 61/120\n",
      "105/105 [==============================] - 0s 3ms/step - loss: 1.1583 - accuracy: 0.5170 - val_loss: 1.2081 - val_accuracy: 0.5070\n",
      "Epoch 62/120\n",
      "105/105 [==============================] - 0s 3ms/step - loss: 1.1245 - accuracy: 0.5393 - val_loss: 1.2134 - val_accuracy: 0.4981\n",
      "Epoch 63/120\n",
      "105/105 [==============================] - 0s 3ms/step - loss: 1.1093 - accuracy: 0.5335 - val_loss: 1.1902 - val_accuracy: 0.4930\n",
      "Epoch 64/120\n",
      "105/105 [==============================] - 0s 3ms/step - loss: 1.1006 - accuracy: 0.5253 - val_loss: 1.1755 - val_accuracy: 0.5045\n",
      "Epoch 65/120\n",
      "105/105 [==============================] - 0s 3ms/step - loss: 1.1280 - accuracy: 0.5202 - val_loss: 1.1947 - val_accuracy: 0.5108\n",
      "Epoch 66/120\n",
      "105/105 [==============================] - 0s 3ms/step - loss: 1.1293 - accuracy: 0.5183 - val_loss: 1.2251 - val_accuracy: 0.4917\n",
      "Epoch 67/120\n",
      "105/105 [==============================] - 0s 3ms/step - loss: 1.0995 - accuracy: 0.5320 - val_loss: 1.1671 - val_accuracy: 0.5185\n",
      "Epoch 68/120\n",
      "105/105 [==============================] - 0s 3ms/step - loss: 1.0927 - accuracy: 0.5345 - val_loss: 1.1684 - val_accuracy: 0.5045\n",
      "Epoch 69/120\n",
      "105/105 [==============================] - 0s 3ms/step - loss: 1.1007 - accuracy: 0.5383 - val_loss: 1.1862 - val_accuracy: 0.5096\n",
      "Epoch 70/120\n",
      "105/105 [==============================] - 0s 3ms/step - loss: 1.0928 - accuracy: 0.5424 - val_loss: 1.2424 - val_accuracy: 0.5312\n",
      "Epoch 71/120\n",
      "105/105 [==============================] - 0s 3ms/step - loss: 1.0785 - accuracy: 0.5453 - val_loss: 1.1854 - val_accuracy: 0.5287\n",
      "Epoch 72/120\n",
      "105/105 [==============================] - 0s 3ms/step - loss: 1.0821 - accuracy: 0.5358 - val_loss: 1.1998 - val_accuracy: 0.5185\n",
      "Epoch 73/120\n",
      "105/105 [==============================] - 0s 3ms/step - loss: 1.1010 - accuracy: 0.5377 - val_loss: 1.1878 - val_accuracy: 0.4955\n",
      "Epoch 74/120\n",
      "105/105 [==============================] - 0s 3ms/step - loss: 1.0769 - accuracy: 0.5367 - val_loss: 1.2018 - val_accuracy: 0.4854\n",
      "Epoch 75/120\n",
      "105/105 [==============================] - 0s 3ms/step - loss: 1.0623 - accuracy: 0.5374 - val_loss: 1.1991 - val_accuracy: 0.5121\n",
      "Epoch 76/120\n",
      "105/105 [==============================] - 0s 3ms/step - loss: 1.0690 - accuracy: 0.5459 - val_loss: 1.1799 - val_accuracy: 0.5045\n",
      "Epoch 77/120\n",
      "105/105 [==============================] - 0s 3ms/step - loss: 1.0812 - accuracy: 0.5431 - val_loss: 1.2140 - val_accuracy: 0.5121\n",
      "Epoch 78/120\n",
      "105/105 [==============================] - 0s 3ms/step - loss: 1.0693 - accuracy: 0.5456 - val_loss: 1.1926 - val_accuracy: 0.5248\n",
      "Epoch 79/120\n",
      "105/105 [==============================] - 0s 4ms/step - loss: 1.0552 - accuracy: 0.5479 - val_loss: 1.1668 - val_accuracy: 0.5096\n",
      "Epoch 80/120\n",
      "105/105 [==============================] - 0s 3ms/step - loss: 1.0553 - accuracy: 0.5498 - val_loss: 1.1978 - val_accuracy: 0.5121\n",
      "Epoch 81/120\n",
      "105/105 [==============================] - 0s 3ms/step - loss: 1.0542 - accuracy: 0.5666 - val_loss: 1.1740 - val_accuracy: 0.5083\n",
      "Epoch 82/120\n",
      "105/105 [==============================] - 0s 3ms/step - loss: 1.0463 - accuracy: 0.5479 - val_loss: 1.2335 - val_accuracy: 0.5261\n",
      "Epoch 83/120\n",
      "105/105 [==============================] - 0s 3ms/step - loss: 1.0718 - accuracy: 0.5386 - val_loss: 1.2038 - val_accuracy: 0.5019\n",
      "Epoch 84/120\n",
      "105/105 [==============================] - 0s 5ms/step - loss: 1.0533 - accuracy: 0.5440 - val_loss: 1.1942 - val_accuracy: 0.5045\n",
      "Epoch 85/120\n",
      "105/105 [==============================] - 0s 3ms/step - loss: 1.0527 - accuracy: 0.5514 - val_loss: 1.1683 - val_accuracy: 0.5108\n",
      "Epoch 86/120\n",
      "105/105 [==============================] - 0s 3ms/step - loss: 1.0433 - accuracy: 0.5437 - val_loss: 1.1779 - val_accuracy: 0.5312\n",
      "Epoch 87/120\n",
      "105/105 [==============================] - 0s 3ms/step - loss: 1.0511 - accuracy: 0.5514 - val_loss: 1.2172 - val_accuracy: 0.5299\n",
      "Epoch 88/120\n",
      "105/105 [==============================] - 0s 3ms/step - loss: 1.0373 - accuracy: 0.5501 - val_loss: 1.1878 - val_accuracy: 0.5248\n",
      "Epoch 89/120\n",
      "105/105 [==============================] - 0s 3ms/step - loss: 1.0345 - accuracy: 0.5590 - val_loss: 1.2285 - val_accuracy: 0.4968\n",
      "Epoch 90/120\n",
      "105/105 [==============================] - 0s 3ms/step - loss: 1.0444 - accuracy: 0.5571 - val_loss: 1.1779 - val_accuracy: 0.5236\n",
      "Epoch 91/120\n",
      "105/105 [==============================] - 0s 3ms/step - loss: 1.0461 - accuracy: 0.5548 - val_loss: 1.1934 - val_accuracy: 0.5146\n",
      "Epoch 92/120\n",
      "105/105 [==============================] - 0s 4ms/step - loss: 1.0356 - accuracy: 0.5599 - val_loss: 1.2002 - val_accuracy: 0.4955\n",
      "Epoch 93/120\n",
      "105/105 [==============================] - 0s 3ms/step - loss: 1.0729 - accuracy: 0.5459 - val_loss: 1.1791 - val_accuracy: 0.5299\n",
      "Epoch 94/120\n",
      "105/105 [==============================] - 0s 3ms/step - loss: 1.0458 - accuracy: 0.5548 - val_loss: 1.1733 - val_accuracy: 0.5108\n",
      "Epoch 95/120\n",
      "105/105 [==============================] - 0s 3ms/step - loss: 1.0473 - accuracy: 0.5520 - val_loss: 1.1661 - val_accuracy: 0.5287\n",
      "Epoch 96/120\n",
      "105/105 [==============================] - 0s 3ms/step - loss: 1.0195 - accuracy: 0.5548 - val_loss: 1.1555 - val_accuracy: 0.5223\n",
      "Epoch 97/120\n",
      "105/105 [==============================] - 0s 3ms/step - loss: 1.0624 - accuracy: 0.5536 - val_loss: 1.1687 - val_accuracy: 0.5019\n",
      "Epoch 98/120\n",
      "105/105 [==============================] - 0s 4ms/step - loss: 1.0294 - accuracy: 0.5746 - val_loss: 1.1605 - val_accuracy: 0.5261\n",
      "Epoch 99/120\n",
      "105/105 [==============================] - 0s 3ms/step - loss: 1.0308 - accuracy: 0.5593 - val_loss: 1.1862 - val_accuracy: 0.5223\n",
      "Epoch 100/120\n",
      "105/105 [==============================] - 0s 4ms/step - loss: 1.0177 - accuracy: 0.5676 - val_loss: 1.1759 - val_accuracy: 0.5108\n",
      "Epoch 101/120\n",
      "105/105 [==============================] - 0s 3ms/step - loss: 1.0121 - accuracy: 0.5838 - val_loss: 1.1810 - val_accuracy: 0.5108\n",
      "Epoch 102/120\n",
      "105/105 [==============================] - 0s 3ms/step - loss: 1.0255 - accuracy: 0.5606 - val_loss: 1.2310 - val_accuracy: 0.5045\n",
      "Epoch 103/120\n",
      "105/105 [==============================] - 0s 3ms/step - loss: 1.0334 - accuracy: 0.5606 - val_loss: 1.2003 - val_accuracy: 0.5172\n",
      "Epoch 104/120\n",
      "105/105 [==============================] - 0s 3ms/step - loss: 1.0179 - accuracy: 0.5666 - val_loss: 1.1817 - val_accuracy: 0.5287\n",
      "Epoch 105/120\n",
      "105/105 [==============================] - 0s 3ms/step - loss: 1.0111 - accuracy: 0.5618 - val_loss: 1.1822 - val_accuracy: 0.5248\n",
      "Epoch 106/120\n",
      "105/105 [==============================] - 0s 4ms/step - loss: 1.0084 - accuracy: 0.5742 - val_loss: 1.2181 - val_accuracy: 0.5121\n",
      "Epoch 107/120\n",
      "105/105 [==============================] - 0s 3ms/step - loss: 1.0082 - accuracy: 0.5711 - val_loss: 1.1663 - val_accuracy: 0.5287\n",
      "Epoch 108/120\n",
      "105/105 [==============================] - 0s 4ms/step - loss: 1.0009 - accuracy: 0.5736 - val_loss: 1.1811 - val_accuracy: 0.5108\n",
      "Epoch 109/120\n",
      "105/105 [==============================] - 0s 3ms/step - loss: 1.0163 - accuracy: 0.5628 - val_loss: 1.1898 - val_accuracy: 0.5146\n",
      "Epoch 110/120\n",
      "105/105 [==============================] - 0s 3ms/step - loss: 0.9909 - accuracy: 0.5857 - val_loss: 1.2108 - val_accuracy: 0.5096\n",
      "Epoch 111/120\n",
      "105/105 [==============================] - 0s 3ms/step - loss: 1.0147 - accuracy: 0.5711 - val_loss: 1.1415 - val_accuracy: 0.5363\n",
      "Epoch 112/120\n",
      "105/105 [==============================] - 0s 3ms/step - loss: 0.9952 - accuracy: 0.5755 - val_loss: 1.1827 - val_accuracy: 0.5057\n",
      "Epoch 113/120\n",
      "105/105 [==============================] - 0s 3ms/step - loss: 0.9903 - accuracy: 0.5717 - val_loss: 1.2022 - val_accuracy: 0.5096\n",
      "Epoch 114/120\n",
      "105/105 [==============================] - 0s 3ms/step - loss: 0.9975 - accuracy: 0.5777 - val_loss: 1.1836 - val_accuracy: 0.5299\n",
      "Epoch 115/120\n",
      "105/105 [==============================] - 0s 3ms/step - loss: 0.9979 - accuracy: 0.5736 - val_loss: 1.1687 - val_accuracy: 0.5223\n",
      "Epoch 116/120\n",
      "105/105 [==============================] - 0s 3ms/step - loss: 1.0322 - accuracy: 0.5657 - val_loss: 1.1619 - val_accuracy: 0.5134\n",
      "Epoch 117/120\n",
      "105/105 [==============================] - 0s 3ms/step - loss: 0.9987 - accuracy: 0.5800 - val_loss: 1.1691 - val_accuracy: 0.5210\n",
      "Epoch 118/120\n",
      "105/105 [==============================] - 0s 3ms/step - loss: 0.9887 - accuracy: 0.5790 - val_loss: 1.1536 - val_accuracy: 0.5376\n",
      "Epoch 119/120\n",
      "105/105 [==============================] - 0s 3ms/step - loss: 0.9884 - accuracy: 0.5797 - val_loss: 1.1951 - val_accuracy: 0.5363\n",
      "Epoch 120/120\n",
      "105/105 [==============================] - 0s 3ms/step - loss: 0.9867 - accuracy: 0.5892 - val_loss: 1.1796 - val_accuracy: 0.5121\n"
     ]
    }
   ],
   "source": [
    "batch_size = 30\n",
    "history = model.fit(train_x, train_y, epochs=120, batch_size=batch_size, validation_data=(val_x, val_y))\n",
    "hist.append(history)"
   ]
  },
  {
   "cell_type": "code",
   "execution_count": 161,
   "id": "706f7198-c933-4adb-b453-dadc4ea4ea4a",
   "metadata": {},
   "outputs": [
    {
     "name": "stdout",
     "output_type": "stream",
     "text": [
      "33/33 [==============================] - 0s 1ms/step - loss: 1.1469 - accuracy: 0.5429\n"
     ]
    },
    {
     "data": {
      "text/plain": [
       "[1.1469355821609497, 0.5428571701049805]"
      ]
     },
     "execution_count": 161,
     "metadata": {},
     "output_type": "execute_result"
    }
   ],
   "source": [
    "loss_and_metrics = model.evaluate(test_x, test_y, batch_size=batch_size)\n",
    "loss_and_metrics"
   ]
  },
  {
   "cell_type": "code",
   "execution_count": 162,
   "id": "3fd5ef20-9d55-4c97-ac0e-0bf3687b65c3",
   "metadata": {},
   "outputs": [
    {
     "data": {
      "image/png": "[encoded data removed]",
      "text/plain": [
       "<Figure size 640x480 with 1 Axes>"
      ]
     },
     "metadata": {},
     "output_type": "display_data"
    }
   ],
   "source": [
    "plt.plot(np.concatenate([h.history['loss'] for h in hist]), 'r', label='Training loss')\n",
    "plt.plot(np.concatenate([h.history['val_loss'] for h in hist]), 'g', label='Validation loss')\n",
    "plt.title('Training VS Validation loss')\n",
    "plt.xlabel('No. of Epochs')\n",
    "plt.ylabel('Loss')\n",
    "plt.legend()\n",
    "plt.show()"
   ]
  },
  {
   "cell_type": "code",
   "execution_count": 163,
   "id": "ddac4bce-31ed-4e4e-abb6-433a5b3b5c92",
   "metadata": {},
   "outputs": [
    {
     "data": {
      "image/png": "[encoded data removed]",
      "text/plain": [
       "<Figure size 640x480 with 1 Axes>"
      ]
     },
     "metadata": {},
     "output_type": "display_data"
    }
   ],
   "source": [
    "plt.plot(np.concatenate([h.history['accuracy'] for h in hist]), 'r', label='Training accuracy')\n",
    "plt.plot(np.concatenate([h.history['val_accuracy'] for h in hist]), 'g', label='Validation accuracy')\n",
    "plt.title('Training Vs Validation Accuracy')\n",
    "plt.xlabel('No. of Epochs')\n",
    "plt.ylabel('Accuracy')\n",
    "plt.legend()\n",
    "plt.show()"
   ]
  },
  {
   "cell_type": "code",
   "execution_count": 164,
   "id": "400a3fee-3d4f-4535-ba63-e803523f3f5a",
   "metadata": {},
   "outputs": [],
   "source": [
    "class ExportModule(tf.Module):\n",
    "  def __init__(self, model, preprocess, class_pred):\n",
    "    # Initialize pre and postprocessing functions\n",
    "    self.model = model\n",
    "    self.preprocess = preprocess\n",
    "    self.class_pred = class_pred\n",
    "\n",
    "  @tf.function(input_signature=[tf.TensorSpec(shape=[None, input_len], dtype=tf.float32)]) \n",
    "  def __call__(self, x):\n",
    "    # Run the ExportModule for new data points\n",
    "    x = self.preprocess(x)\n",
    "    y = self.model(x)\n",
    "    print(y)\n",
    "    y = self.class_pred(y)\n",
    "    return y"
   ]
  },
  {
   "cell_type": "code",
   "execution_count": 172,
   "id": "28c8bee5-ce73-46ae-9cb0-f34f2eaad884",
   "metadata": {},
   "outputs": [],
   "source": [
    "def preprocess_test(x):\n",
    "  return x\n",
    "\n",
    "def class_pred_test(y):\n",
    "  # Generate class predictions from MLP output\n",
    "  return y"
   ]
  },
  {
   "cell_type": "code",
   "execution_count": 173,
   "id": "976c4e15-2ff6-4152-bdca-82ab29365e30",
   "metadata": {},
   "outputs": [],
   "source": [
    "mlp_model_export = ExportModule(model=model,\n",
    "                                preprocess=preprocess_test,\n",
    "                                class_pred=class_pred_test)"
   ]
  },
  {
   "cell_type": "code",
   "execution_count": 174,
   "id": "09533bc5-b92f-4ea5-8b16-a4f21d2babc8",
   "metadata": {},
   "outputs": [
    {
     "name": "stdout",
     "output_type": "stream",
     "text": [
      "Tensor(\"sequential_15/dense_89/Softmax:0\", shape=(None, 5), dtype=float32)\n",
      "INFO:tensorflow:Assets written to: RWMDMA-MP50-NB/assets\n"
     ]
    },
    {
     "name": "stderr",
     "output_type": "stream",
     "text": [
      "INFO:tensorflow:Assets written to: RWMDMA-MP50-NB/assets\n"
     ]
    }
   ],
   "source": [
    "save_path = name_model\n",
    "tf.saved_model.save(mlp_model_export, save_path)\n",
    "mlp_loaded = tf.saved_model.load(save_path)"
   ]
  },
  {
   "cell_type": "code",
   "execution_count": 175,
   "id": "9f7c6413-2000-4efb-a627-9c498e7664dd",
   "metadata": {},
   "outputs": [
    {
     "name": "stdout",
     "output_type": "stream",
     "text": [
      "Test Accuracy: 0.543\n"
     ]
    }
   ],
   "source": [
    "def accuracy_score(y_pred, y):\n",
    "  # Generic accuracy function\n",
    "  is_equal = tf.equal(y_pred, y)\n",
    "  return tf.reduce_mean(tf.cast(is_equal, tf.float32))\n",
    "\n",
    "test_classes = mlp_loaded(test_x)\n",
    "test_acc = accuracy_score([np.argmax(y) for y in test_classes], [np.argmax(y) for y in test_y])\n",
    "print(f\"Test Accuracy: {test_acc:.3f}\")"
   ]
  },
  {
   "cell_type": "code",
   "execution_count": 176,
   "id": "015896e7-00e1-4c1d-8d18-a666e98e1786",
   "metadata": {
    "scrolled": true
   },
   "outputs": [
    {
     "data": {
      "text/plain": [
       "<tf.Tensor: shape=(980, 5), dtype=float32, numpy=\n",
       "array([[1.4182316e-01, 2.3126879e-01, 1.7448731e-02, 3.2943612e-01,\n",
       "        2.8002328e-01],\n",
       "       [5.6660748e-01, 8.2528256e-03, 8.9880131e-04, 2.6245570e-02,\n",
       "        3.9799526e-01],\n",
       "       [2.7123106e-01, 3.8442924e-03, 4.3228581e-03, 7.1602361e-04,\n",
       "        7.1988571e-01],\n",
       "       ...,\n",
       "       [9.4004792e-01, 1.1038423e-03, 6.1688149e-10, 2.2356475e-03,\n",
       "        5.6612559e-02],\n",
       "       [9.9879727e-03, 1.3220030e-01, 7.4812454e-01, 1.0814756e-01,\n",
       "        1.5396533e-03],\n",
       "       [6.9349304e-02, 2.0557930e-01, 5.0573552e-01, 1.8056561e-01,\n",
       "        3.8770318e-02]], dtype=float32)>"
      ]
     },
     "execution_count": 176,
     "metadata": {},
     "output_type": "execute_result"
    }
   ],
   "source": [
    "mlp_loaded(test_x)"
   ]
  },
  {
   "cell_type": "code",
   "execution_count": null,
   "id": "4a4d464b-c30b-48bf-8c85-c64668ced23b",
   "metadata": {},
   "outputs": [],
   "source": []
  }
 ],
 "metadata": {
  "kernelspec": {
   "display_name": "Python 3 (ipykernel)",
   "language": "python",
   "name": "python3"
  },
  "language_info": {
   "codemirror_mode": {
    "name": "ipython",
    "version": 3
   },
   "file_extension": ".py",
   "mimetype": "text/x-python",
   "name": "python",
   "nbconvert_exporter": "python",
   "pygments_lexer": "ipython3",
   "version": "3.10.12"
  }
 },
 "nbformat": 4,
 "nbformat_minor": 5
}
